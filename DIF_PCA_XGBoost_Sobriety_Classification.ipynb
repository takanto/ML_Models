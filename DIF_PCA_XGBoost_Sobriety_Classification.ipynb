{
  "nbformat": 4,
  "nbformat_minor": 0,
  "metadata": {
    "colab": {
      "provenance": []
    },
    "kernelspec": {
      "name": "python3",
      "display_name": "Python 3"
    },
    "language_info": {
      "name": "python"
    },
    "gpuClass": "standard"
  },
  "cells": [
    {
      "cell_type": "markdown",
      "source": [
        "#**Drunk Face Classification**"
      ],
      "metadata": {
        "id": "lfoAihyKmPPO"
      }
    },
    {
      "cell_type": "markdown",
      "source": [
        "Nico and I were joking in Berlin about how it might be cool to create an AI that can measure so-called highness and send each other results for fun. The idea turned out to be a project in AI Lab. In AI Lab, we have been working on constructing machine learning model mainly CNN model for estimating ones' sobriety level. I thought this assignment can be a perfect opportunity for me to further explore on what other apperoach can be used to predict one's sobriety. \n",
        "\n",
        "***this file is designed to be run on Google Colaboratory. Run cells one by one and read the instruction before running**"
      ],
      "metadata": {
        "id": "CIbvON3emWYJ"
      }
    },
    {
      "cell_type": "markdown",
      "source": [
        "###**1. Importing libraries and data**"
      ],
      "metadata": {
        "id": "AcIXWihiTUDQ"
      }
    },
    {
      "cell_type": "markdown",
      "source": [
        "**Importing libraries**"
      ],
      "metadata": {
        "id": "GyLO3Z3tTjNq"
      }
    },
    {
      "cell_type": "markdown",
      "source": [
        "When it is the first time running, the error will pop up saying restart the runtime. Restart the runtime and rerun the code cell below to make it properly work. "
      ],
      "metadata": {
        "id": "9Vkw-UBYmPxh"
      }
    },
    {
      "cell_type": "code",
      "execution_count": null,
      "metadata": {
        "colab": {
          "base_uri": "https://localhost:8080/"
        },
        "id": "Jtx_KtdwMhx6",
        "outputId": "bc003f39-4816-4592-851e-07748a730b48"
      },
      "outputs": [
        {
          "output_type": "stream",
          "name": "stdout",
          "text": [
            "Looking in indexes: https://pypi.org/simple, https://us-python.pkg.dev/colab-wheels/public/simple/\n",
            "Requirement already satisfied: opencv-contrib-python-headless in /usr/local/lib/python3.8/dist-packages (4.7.0.68)\n",
            "Requirement already satisfied: numpy>=1.17.3 in /usr/local/lib/python3.8/dist-packages (from opencv-contrib-python-headless) (1.21.6)\n",
            "Looking in indexes: https://pypi.org/simple, https://us-python.pkg.dev/colab-wheels/public/simple/\n",
            "Requirement already satisfied: imgaug in /usr/local/lib/python3.8/dist-packages (0.4.0)\n",
            "Requirement already satisfied: Pillow in /usr/local/lib/python3.8/dist-packages (from imgaug) (9.4.0)\n",
            "Requirement already satisfied: opencv-python in /usr/local/lib/python3.8/dist-packages (from imgaug) (4.6.0.66)\n",
            "Requirement already satisfied: imageio in /usr/local/lib/python3.8/dist-packages (from imgaug) (2.9.0)\n",
            "Requirement already satisfied: numpy>=1.15 in /usr/local/lib/python3.8/dist-packages (from imgaug) (1.21.6)\n",
            "Requirement already satisfied: matplotlib in /usr/local/lib/python3.8/dist-packages (from imgaug) (3.2.2)\n",
            "Requirement already satisfied: Shapely in /usr/local/lib/python3.8/dist-packages (from imgaug) (2.0.1)\n",
            "Requirement already satisfied: scipy in /usr/local/lib/python3.8/dist-packages (from imgaug) (1.7.3)\n",
            "Requirement already satisfied: scikit-image>=0.14.2 in /usr/local/lib/python3.8/dist-packages (from imgaug) (0.18.3)\n",
            "Requirement already satisfied: six in /usr/local/lib/python3.8/dist-packages (from imgaug) (1.15.0)\n",
            "Requirement already satisfied: networkx>=2.0 in /usr/local/lib/python3.8/dist-packages (from scikit-image>=0.14.2->imgaug) (3.0)\n",
            "Requirement already satisfied: PyWavelets>=1.1.1 in /usr/local/lib/python3.8/dist-packages (from scikit-image>=0.14.2->imgaug) (1.4.1)\n",
            "Requirement already satisfied: tifffile>=2019.7.26 in /usr/local/lib/python3.8/dist-packages (from scikit-image>=0.14.2->imgaug) (2023.2.3)\n",
            "Requirement already satisfied: cycler>=0.10 in /usr/local/lib/python3.8/dist-packages (from matplotlib->imgaug) (0.11.0)\n",
            "Requirement already satisfied: python-dateutil>=2.1 in /usr/local/lib/python3.8/dist-packages (from matplotlib->imgaug) (2.8.2)\n",
            "Requirement already satisfied: pyparsing!=2.0.4,!=2.1.2,!=2.1.6,>=2.0.1 in /usr/local/lib/python3.8/dist-packages (from matplotlib->imgaug) (3.0.9)\n",
            "Requirement already satisfied: kiwisolver>=1.0.1 in /usr/local/lib/python3.8/dist-packages (from matplotlib->imgaug) (1.4.4)\n",
            "Looking in indexes: https://pypi.org/simple, https://us-python.pkg.dev/colab-wheels/public/simple/\n",
            "Requirement already satisfied: pillow-heif in /usr/local/lib/python3.8/dist-packages (0.9.3)\n",
            "Requirement already satisfied: pillow>=8.3.0 in /usr/local/lib/python3.8/dist-packages (from pillow-heif) (9.4.0)\n",
            "Requirement already satisfied: cffi>=1.14.6 in /usr/local/lib/python3.8/dist-packages (from pillow-heif) (1.15.1)\n",
            "Requirement already satisfied: pycparser in /usr/local/lib/python3.8/dist-packages (from cffi>=1.14.6->pillow-heif) (2.21)\n"
          ]
        }
      ],
      "source": [
        "! pip install opencv-contrib-python-headless\n",
        "! pip install imgaug\n",
        "! pip install pillow-heif\n",
        "\n",
        "import cv2\n",
        "import pandas as pd\n",
        "import os\n",
        "from matplotlib import pyplot\n",
        "from math import sqrt \n",
        "import numpy as np \n",
        "import scipy.misc \n",
        "import matplotlib.pyplot as plt\n",
        "from xgboost import XGBClassifier, plot_importance, plot_tree\n",
        "from sklearn.model_selection import train_test_split, cross_val_score, RepeatedStratifiedKFold, RandomizedSearchCV\n",
        "from sklearn.metrics import make_scorer, f1_score, accuracy_score, precision_score, recall_score, classification_report, confusion_matrix, ConfusionMatrixDisplay\n",
        "from sklearn.decomposition import PCA\n",
        "from sklearn.preprocessing import StandardScaler\n",
        "from scipy.stats import uniform\n",
        "from matplotlib.pylab import rcParams\n",
        "from PIL import Image\n",
        "import imgaug as ia\n",
        "from imgaug import augmenters as iaa\n",
        "import itertools\n",
        "import glob\n",
        "import random\n",
        "from pillow_heif import register_heif_opener\n",
        "from skimage import io\n",
        "%matplotlib inline"
      ]
    },
    {
      "cell_type": "markdown",
      "source": [
        "**Importing data**"
      ],
      "metadata": {
        "id": "GdlkhDHCTn0I"
      }
    },
    {
      "cell_type": "markdown",
      "source": [
        "**Sobr**\n",
        "\n",
        "As an external dataset is obtained from Sobr (https://github.com/hoke-t/Sobr) by Chang, J., Hoke, T., Dastjerdi, P. & Kumar, H (2019). The dataset consist of 728x728 pixel RGB images of 53 people with differing level of sobriety. The left most face is for completely sober state, which is important to acknowledge for the data preprocessing.  \n",
        "\n",
        "Although there is no mentioning of where and how this data is collected, it is speculated that the data is collected from volunteers. It poses significant ethical considerations that need to be made before using the data. Firstly, there is a lack of formal consent from people whose faces are included in the dataset to be used in this project.\n",
        "\n",
        "Secondly, there could be a demographical bias. For example, there is no Asian present in the dataset. The bias can make machine learning model perform poorly on certain demographics of people, which can cause ethical consequences depending on the use cases. This point will be discussed further. Finally, sobriety can be though of sensitive and private information. The act of classifying and revealing one's sobriety openly can be considered as an invasion of privacy. \n",
        "\n",
        " It is crucial to acknowledge those ethical consequences and use these data and machine learning model carefully to avoid any of those consequence. "
      ],
      "metadata": {
        "id": "vYxr5HNWVWSg"
      }
    },
    {
      "cell_type": "markdown",
      "source": [
        "Before running the below cells, upload secondary files submitted. (drunkIMagesWebp.zip, personal.zip, haarcascade_frontalface_alt.xml)"
      ],
      "metadata": {
        "id": "Jd-69jWuB-Ue"
      }
    },
    {
      "cell_type": "code",
      "source": [
        "!unzip drunkImagesWebp"
      ],
      "metadata": {
        "colab": {
          "base_uri": "https://localhost:8080/"
        },
        "id": "ZH3FlY_CM3Oz",
        "outputId": "51ab4d9f-55cc-445e-9947-3af8111b8537"
      },
      "execution_count": null,
      "outputs": [
        {
          "output_type": "stream",
          "name": "stdout",
          "text": [
            "Archive:  drunkImagesWebp.zip\n",
            "   creating: drunkImages/\n",
            "  inflating: drunkImages/d4a7a2_489a118eae5c42d0a925a538fd12b87f.webp  \n",
            "  inflating: drunkImages/d4a7a2_1058015d1eaa4d37a57c0d6248601a76.webp  \n",
            "  inflating: drunkImages/d4a7a2_19b84434c387464fbce5fc15f8edd49c.webp  \n",
            "  inflating: drunkImages/d4a7a2_3acbd218dcb44816946c0e56027aaa6b.webp  \n",
            "  inflating: drunkImages/d4a7a2_78e6afe2d8c947c99c92e6919e04ce67.webp  \n",
            "  inflating: drunkImages/d4a7a2_de23266b935d4b7a8777c08fab1ec4a8.webp  \n",
            "  inflating: drunkImages/d4a7a2_a6b5a4970d614c03a58e940f0d7de7f3.webp  \n",
            "  inflating: drunkImages/d4a7a2_910e754e7ac44de498faf5056b4f9d14.webp  \n",
            "  inflating: drunkImages/d4a7a2_b6616f6ce6e948cc99647b297d1aeb49.webp  \n",
            "  inflating: drunkImages/d4a7a2_7689c31a6f7947738c12d397d69d9119.webp  \n",
            "  inflating: drunkImages/d4a7a2_efb25ba84f1e4274a8a17ee481cfa050.webp  \n",
            "  inflating: drunkImages/d4a7a2_209ddf0fcd4d4f9a88cdadf48bb8d534.webp  \n",
            "  inflating: drunkImages/d4a7a2_951e0382ca1a44aeafe8a0219e02dc42.webp  \n",
            "  inflating: drunkImages/d4a7a2_33c99c1beba64025a67f6f523d0e21de.webp  \n",
            "  inflating: drunkImages/d4a7a2_d6f0809ac5a343d4bc20736a1e2ae5a0.webp  \n",
            "  inflating: drunkImages/d4a7a2_597ce465ea98417aa2fc0d466d66aeb8.webp  \n",
            "  inflating: drunkImages/d4a7a2_1fecc1f8206b4de0ad9baafc055eee83.webp  \n",
            "  inflating: drunkImages/d4a7a2_fc4aec70fcf945388290213899d3e255.webp  \n",
            "  inflating: drunkImages/d4a7a2_888270ce93ec43959898f93828a0ac22.webp  \n",
            "  inflating: drunkImages/d4a7a2_8647bc0966ff45088f8d87e5b530a5d7.webp  \n",
            "  inflating: drunkImages/d4a7a2_b0dc0cefc13b466897c46a89cd6b159a.webp  \n",
            "  inflating: drunkImages/d4a7a2_2a601157c37d4ed19155ca0c4290571f.webp  \n",
            "  inflating: drunkImages/d4a7a2_9339d44dc0a04833889e50ed998530e3.webp  \n",
            "  inflating: drunkImages/d4a7a2_c00ef049384a4e2f97b8c9006b96a4b0.webp  \n",
            "  inflating: drunkImages/d4a7a2_6e29baa5750e495cab6ca541b02cfac6.webp  \n",
            "  inflating: drunkImages/d4a7a2_c61af86333894ad8ac9421bcfcc6fbb5.webp  \n",
            "  inflating: drunkImages/d4a7a2_36dcc34c1b784bc5847c2b7a10101e77.webp  \n",
            "  inflating: drunkImages/d4a7a2_1b23feb01d414a6ab0dea31b3052d13c.webp  \n",
            "  inflating: drunkImages/d4a7a2_d996b094ab5945fea0b83120ce57969b.webp  \n",
            "  inflating: drunkImages/d4a7a2_5bd062e4d3c5416f9c0133e1b1bf1905.webp  \n",
            "  inflating: drunkImages/d4a7a2_ad4e7e93ea474691ba1a701dc975b897.webp  \n",
            "  inflating: drunkImages/d4a7a2_7ac8afb118dc4bbc8089582657d623ac.webp  \n",
            "  inflating: drunkImages/d4a7a2_d02d0444d50d466dbd2993ea0ae3f0f6.webp  \n",
            "  inflating: drunkImages/d4a7a2_f523e9038f6f4321a80646462dbdec6f.webp  \n",
            "  inflating: drunkImages/d4a7a2_1e9488c5974f45ba86553cae33c6ef32.webp  \n",
            "  inflating: drunkImages/d4a7a2_406f57b9be1d41eaacff10cba3268054.webp  \n",
            "  inflating: drunkImages/d4a7a2_9ee7351490a149b58898cf1e35adf486.webp  \n",
            "  inflating: drunkImages/d4a7a2_50dcba4e75d04eed897359325509740f.webp  \n",
            "  inflating: drunkImages/d4a7a2_bc8e2c3a8d5b406ebded4ae543174222.webp  \n",
            "  inflating: drunkImages/d4a7a2_a03cb15954764f1dbe0f74344a006138.webp  \n",
            "  inflating: drunkImages/d4a7a2_ded748a406c5403c82b8947de72b8607.webp  \n",
            "  inflating: drunkImages/d4a7a2_b1fe6b4ba94841dabed6f08da61b2cdd.webp  \n",
            "  inflating: drunkImages/d4a7a2_1875f362b16a4df4ba9ed8cb9b9992e9.webp  \n",
            "  inflating: drunkImages/d4a7a2_1b7fef8b5225436f923db06a76c52e4a.webp  \n",
            "  inflating: drunkImages/d4a7a2_314bd942118e4802b77f2fe718c7aa64.webp  \n",
            "  inflating: drunkImages/d4a7a2_d860c7565f224fc6836dcc55a1d9dbb9.webp  \n",
            "  inflating: drunkImages/d4a7a2_f5ea07839b89428e98577a31b166ce5a.webp  \n",
            "  inflating: drunkImages/d4a7a2_ace42a74f7574db4a6096a2b481bab74.webp  \n",
            "  inflating: drunkImages/d4a7a2_5b138533c09a472dadc5fb575c65eeb3.webp  \n",
            "  inflating: drunkImages/d4a7a2_b5760c0806f14bd096f16e0f35a24f0c.webp  \n",
            "  inflating: drunkImages/d4a7a2_93f974bba4a9435a91e0f49ffb57681e.webp  \n",
            "  inflating: drunkImages/d4a7a2_d62ebac21f3c4e938cc29d5b08cfa703.webp  \n",
            "  inflating: drunkImages/d4a7a2_59520b540e4646589afc6d4a3973f2a1.webp  \n"
          ]
        }
      ]
    },
    {
      "cell_type": "markdown",
      "source": [
        "**my data**\n",
        "\n",
        "Aside from external data, I will use my personal data from my phone to compare the models' results. As my data is from my phone, I need to use different packages to import and preprocess data. I took permission from everyone who appear in the data to make sure that the ethical consequences can be minimised. The dataset only contain 12 faces and mostly come from Asian people, which is expected to cause significant demographical bias in classifer. "
      ],
      "metadata": {
        "id": "I-sfzEEwVX7A"
      }
    },
    {
      "cell_type": "code",
      "source": [
        "!unzip personal"
      ],
      "metadata": {
        "colab": {
          "base_uri": "https://localhost:8080/"
        },
        "id": "RpA8ihkOVfx4",
        "outputId": "855429d6-6d39-4973-e855-62fdbc9758ab"
      },
      "execution_count": null,
      "outputs": [
        {
          "output_type": "stream",
          "name": "stdout",
          "text": [
            "Archive:  personal.zip\n",
            "   creating: personal/\n",
            "  inflating: personal/0_IMG_4002.HEIC  \n",
            "  inflating: __MACOSX/personal/._0_IMG_4002.HEIC  \n",
            "  inflating: personal/1_IMG_0779.JPG  \n",
            "  inflating: __MACOSX/personal/._1_IMG_0779.JPG  \n",
            "  inflating: personal/1_IMG_0698 copy.HEIC  \n",
            "  inflating: __MACOSX/personal/._1_IMG_0698 copy.HEIC  \n",
            "  inflating: personal/1_IMG_0596.JPG  \n",
            "  inflating: __MACOSX/personal/._1_IMG_0596.JPG  \n",
            "  inflating: personal/1_IMG_0609.JPG  \n",
            "  inflating: __MACOSX/personal/._1_IMG_0609.JPG  \n",
            "  inflating: personal/0_IMG_0698.HEIC  \n",
            "  inflating: __MACOSX/personal/._0_IMG_0698.HEIC  \n",
            "  inflating: personal/0_IMG_9733.HEIC  \n",
            "  inflating: __MACOSX/personal/._0_IMG_9733.HEIC  \n",
            "  inflating: personal/0_IMG_973.HEIC  \n",
            "  inflating: __MACOSX/personal/._0_IMG_973.HEIC  \n",
            "  inflating: personal/1_IMG_0609 copy.JPG  \n",
            "  inflating: __MACOSX/personal/._1_IMG_0609 copy.JPG  \n",
            "  inflating: personal/1_IMG_9781.HEIC  \n",
            "  inflating: __MACOSX/personal/._1_IMG_9781.HEIC  \n",
            "  inflating: personal/0_IMG_2009.HEIC  \n",
            "  inflating: __MACOSX/personal/._0_IMG_2009.HEIC  \n",
            "  inflating: personal/0_IMG_0812.HEIC  \n",
            "  inflating: __MACOSX/personal/._0_IMG_0812.HEIC  \n"
          ]
        }
      ]
    },
    {
      "cell_type": "markdown",
      "source": [
        "###**2. Loading data and data preprocessing**"
      ],
      "metadata": {
        "id": "wyPjPQtyTuU8"
      }
    },
    {
      "cell_type": "markdown",
      "source": [
        "First function coverts all the images in a file to jpg so that it is easier to handle. "
      ],
      "metadata": {
        "id": "eERjd46hd3Cn"
      }
    },
    {
      "cell_type": "code",
      "source": [
        "def convert_file_to_jpg(filepath, newfilename):\n",
        "  \"\"\"\n",
        "  Convert all the images in a file to jpg and store them in new file\n",
        "\n",
        "  Parameters\n",
        "  -----------------\n",
        "  filepath (str): The path of a file containing images\n",
        "  newfilename (str): New path of a file that jpgs will be stored\n",
        "\n",
        "  Returns\n",
        "  -----------------\n",
        "  None\n",
        "  \"\"\"\n",
        "  register_heif_opener()\n",
        "  \n",
        "  # create file if it doesn't exist\n",
        "  if not os.path.exists(newfilename):\n",
        "      os.makedirs(newfilename)\n",
        "\n",
        "  # saving images in a new file in jpg\n",
        "  for file in os.listdir(filepath):\n",
        "    filename = os.fsdecode(file)\n",
        "    filenumber = os.path.splitext(filename)[0]\n",
        "    if filename == '.DS_Store':\n",
        "      continue\n",
        "    im = Image.open(filepath+'/'+filename).convert(\"RGB\")\n",
        "    im.save(newfilename + f\"/{filenumber}.jpg\",\"jpeg\")\n",
        "\n",
        "  return None"
      ],
      "metadata": {
        "id": "KEgg7KrlNdQL"
      },
      "execution_count": null,
      "outputs": []
    },
    {
      "cell_type": "code",
      "source": [
        "convert_file_to_jpg('drunkImages', 'external')\n",
        "convert_file_to_jpg('personal', 'internal')"
      ],
      "metadata": {
        "id": "frNtXzxH_W1Q"
      },
      "execution_count": null,
      "outputs": []
    },
    {
      "cell_type": "markdown",
      "source": [
        "Secondly, all of the images are scanned by the Haarcascade pretrained facial recognition model by OpenCV (https://github.com/kipr/opencv/tree/master/data/haarcascades) to detect and crop faces from the images. The images can be resized designated image size. The resizing can avoid using too much memory when fitting the model on the data. When external dataset (Sobr dataset) is passed, the labels are returned. The upper left corner of the original image is the sober picture, and the rest of three are drunk picture taken at different time. The below function makes use of that to get appropriate labels. "
      ],
      "metadata": {
        "id": "ezKdEsKYeE_x"
      }
    },
    {
      "cell_type": "code",
      "source": [
        "def convert_jpg_to_face(filepath, newfilename, img_size, external=True):\n",
        "  \"\"\"\n",
        "  Detect and crop faces in images in a file and store them in new file\n",
        "\n",
        "  Parameters\n",
        "  -----------------\n",
        "  filepath (str): The path of a file containing images\n",
        "  newfilename (str): New path of a file that faces will be stored\n",
        "  img_size (tuple): The size of cropped face image\n",
        "  external (bool, default=True): If the dataset is from Sobr or not\n",
        "\n",
        "  Returns\n",
        "  -----------------\n",
        "  labels (np array): if data is Sobr, labels are stored here. Else, it is empty\n",
        "  \"\"\"\n",
        "  labels = []\n",
        "\n",
        "  # create file if it doesn't exist\n",
        "  if not os.path.exists(newfilename):\n",
        "      os.makedirs(newfilename)\n",
        "\n",
        "  # face detection using OpenCV\n",
        "  j = 0\n",
        "  for file in os.listdir(filepath):\n",
        "      # reading an image\n",
        "      filename = os.fsdecode(file)\n",
        "      img = cv2.imread(filepath+'/'+filename)\n",
        "\n",
        "      # converting the image into grayscale and classifying faces\n",
        "      gray = cv2.cvtColor(img, cv2.COLOR_BGR2GRAY)\n",
        "      face_cascade = cv2.CascadeClassifier('haarcascade_frontalface_alt.xml')\n",
        "      faces = face_cascade.detectMultiScale(gray, 1.3, 4)\n",
        "\n",
        "      # saving every faces as a new image in a new file\n",
        "      if len(faces) != 0:\n",
        "        for i, (x,y,w,h) in enumerate(faces):\n",
        "\n",
        "            # if the data is external, it handles labels automatically\n",
        "            if external:\n",
        "              if (x < 364) and (y < 364):\n",
        "                labels.append(0)\n",
        "              else:\n",
        "                labels.append(1)\n",
        "\n",
        "            # if the data is personal, it gets label from the title\n",
        "            else:\n",
        "              label = int(os.path.splitext(filename)[0][0])\n",
        "              labels.append(label)\n",
        "\n",
        "            # resizing facial images and saving it in the new file\n",
        "            face = img[y:y+h, x:x+w]\n",
        "            face = cv2.resize(face, (img_size[0],img_size[1]))\n",
        "            cv2.imwrite(newfilename + f\"/{j}.jpg\", face)\n",
        "            j += 1\n",
        "\n",
        "  return np.asarray(labels)"
      ],
      "metadata": {
        "id": "2fKvA1ndPNAZ"
      },
      "execution_count": null,
      "outputs": []
    },
    {
      "cell_type": "code",
      "source": [
        "img_size = (32,32,3)\n",
        "y_external = convert_jpg_to_face('external', 'faces_ex', img_size)\n",
        "y_internal = convert_jpg_to_face('internal', 'faces_in', img_size, external=False)"
      ],
      "metadata": {
        "id": "d10O2_1x_fYA"
      },
      "execution_count": null,
      "outputs": []
    },
    {
      "cell_type": "markdown",
      "source": [
        "As the data contains small number of pictures, it performs data augumentations: adding noises, bluring, changing contrast, flipping, and warping the facial images. The below function can create any number of augmented images from the original data.  The function is inspired by Chang, J., Hoke, T., Dastjerdi, P. & Kumar, H (2019). "
      ],
      "metadata": {
        "id": "a8sWchQmfkEq"
      }
    },
    {
      "cell_type": "code",
      "source": [
        "def aug_data(filepath, newfilename, y, n_data=5000):\n",
        "  \"\"\"\n",
        "  augument images in a file and store the data to a new file\n",
        "\n",
        "  Parameters\n",
        "  -----------------\n",
        "  filepath (str): The path of a file containing images\n",
        "  newfilename (str): New path of a file that augumented data will be stored\n",
        "  y (np array): labels assiciated with original image.\n",
        "  n_data (int, default-10000): Number of augumented data generated\n",
        "\n",
        "  Returns\n",
        "  -----------------\n",
        "  labels (np array): labels for all augumented data\n",
        "  \"\"\"\n",
        "  labels = []\n",
        "\n",
        "  # create file if it doesn't exist\n",
        "  if not os.path.exists(newfilename):\n",
        "      os.makedirs(newfilename)\n",
        "  \n",
        "  # data augumentations performed\n",
        "  meta = {'noop': iaa.Noop(), 'shuffle': iaa.ChannelShuffle(p=1.0)}\n",
        "\n",
        "  arithmetic = {'add-45': iaa.Add(value=-45),\n",
        "                'add-25': iaa.Add(value=-25), 'add+25': iaa.Add(value=25), 'add+45': iaa.Add(value=45),\n",
        "                'addp-': iaa.Add(value=(-35, -15), per_channel=True), 'addp+': iaa.Add(value=(15, 35), per_channel=True),\n",
        "                'addGN': iaa.AdditiveGaussianNoise(scale=0.10 * 255),\n",
        "                'addGNp': iaa.AdditiveGaussianNoise(scale=0.10 * 255, per_channel=True),\n",
        "                'addLN': iaa.AdditiveLaplaceNoise(scale=0.10 * 255),\n",
        "                'addLNp': iaa.AdditiveLaplaceNoise(scale=0.10 * 255, per_channel=True),\n",
        "                'addPN': iaa.AdditivePoissonNoise(lam=16.00),\n",
        "                'addPNp': iaa.AdditivePoissonNoise(lam=16.00, per_channel=True),\n",
        "                'mul-': iaa.Multiply(mul=0.50), 'mul+': iaa.Multiply(mul=1.50),\n",
        "                'mulp-': iaa.Multiply(mul=0.8, per_channel=True), 'mulp+': iaa.Multiply(mul=1.2, per_channel=True),\n",
        "                'jpeg': iaa.JpegCompression(compression=12), 'jpeg+': iaa.JpegCompression(compression=15),\n",
        "                'jpeg++': iaa.JpegCompression(compression=17)}\n",
        "\n",
        "  blur = {'GBlur': iaa.GaussianBlur(sigma=1.00),\n",
        "          'ABlur': iaa.AverageBlur(k=3), 'MBlur': iaa.MedianBlur(k=3),\n",
        "          'BBlur': iaa.BilateralBlur(sigma_color=250, sigma_space=250, d=5),\n",
        "          'MoBlur': iaa.MotionBlur(angle=0, k=7), 'MoBlurAng': iaa.MotionBlur(angle=144, k=5)}\n",
        "\n",
        "  contrast = {'GContrast-': iaa.GammaContrast(gamma=0.81),\n",
        "              'GContrast+': iaa.GammaContrast(gamma=1.44), 'SContrast': iaa.SigmoidContrast(cutoff=0.5, gain=10),\n",
        "              'LContrast': iaa.LogContrast(gain=0.88), 'LiContrast': iaa.LinearContrast(alpha=1.38)}\n",
        "\n",
        "  flip = {'flipLR': iaa.Fliplr(p=1.0)}\n",
        "\n",
        "  geometric = {'PAffine': iaa.PiecewiseAffine(scale=0.030), 'PTrans-': iaa.PerspectiveTransform(scale=0.05),\n",
        "              'PTrans': iaa.PerspectiveTransform(scale=0.15), 'PTrans+': iaa.PerspectiveTransform(scale=0.2),\n",
        "              'ETrans': iaa.ElasticTransformation(sigma=1.0, alpha=2.1)}\n",
        "\n",
        "  effects = {**meta, **arithmetic, **blur, **contrast, **flip, **geometric}\n",
        "\n",
        "  count = 0\n",
        "\n",
        "  for i in range(2):\n",
        "      # combinations of all the effects\n",
        "      combs = list(itertools.combinations(effects.keys(), i + 1))\n",
        "\n",
        "      # Shuffles the array in-place\n",
        "      combs = random.sample(combs, len(combs))\n",
        "\n",
        "      # perform augumentation using iaa\n",
        "      for aug in combs:\n",
        "\n",
        "          if count > n_data:\n",
        "              break\n",
        "\n",
        "          aug_effects = list(map(lambda x: effects[x], aug))\n",
        "\n",
        "          if not len(aug_effects) - 1:\n",
        "              seq = aug_effects[0].to_deterministic()\n",
        "\n",
        "          else:\n",
        "              seq = iaa.Sequential(aug_effects).to_deterministic()\n",
        "\n",
        "          # performing each effect on all the images in a file\n",
        "          for file in os.listdir(filepath):\n",
        "              filename = os.fsdecode(file)\n",
        "              filenumber = int(os.path.splitext(filename)[0])\n",
        "              labels.append(y[filenumber])\n",
        "              img = cv2.imread(filepath+'/'+filename, cv2.IMREAD_COLOR)\n",
        "              aug_img = seq.augment_image(img)\n",
        "\n",
        "              cv2.imwrite(newfilename + f\"/{count}.jpg\", aug_img)\n",
        "\n",
        "              count += 1\n",
        "\n",
        "  return np.asarray(labels)"
      ],
      "metadata": {
        "id": "mOKSQLrGUbEm"
      },
      "execution_count": null,
      "outputs": []
    },
    {
      "cell_type": "code",
      "source": [
        "y_ext = aug_data('faces_ex', 'aug_faces_ex', y_external)\n",
        "y_int = aug_data('faces_in', 'aug_faces_in', y_internal)"
      ],
      "metadata": {
        "id": "9tN69Qqv_oH3"
      },
      "execution_count": null,
      "outputs": []
    },
    {
      "cell_type": "markdown",
      "source": [
        "The below function performs the conversion from jpg in a directory to numpy array."
      ],
      "metadata": {
        "id": "ZaqcxLZ1gOlD"
      }
    },
    {
      "cell_type": "code",
      "source": [
        "def convert_jpg_to_array(filepath, labels, img_size):\n",
        "  \"\"\"\n",
        "  convert jpg to numpy array\n",
        "\n",
        "  Parameters\n",
        "  -----------------\n",
        "  filepath (str): The path of a file containing images\n",
        "  img_size (tuple): image size of images\n",
        "\n",
        "  Returns\n",
        "  -----------------\n",
        "  X (np array): images in numpy array\n",
        "  \"\"\"\n",
        "  X = []\n",
        "  y = []\n",
        "\n",
        "  # converting images into numpy array with sepcified dimensions\n",
        "  for file in os.listdir(filepath):\n",
        "      filename = os.fsdecode(file)\n",
        "      filenumber = int(os.path.splitext(filename)[0])\n",
        "      y.append(labels[filenumber])\n",
        "      img = cv2.imread(filepath+'/'+filename)\n",
        "      img = img.reshape(img_size[0]*img_size[1]*img_size[2])\n",
        "      X.append(img)\n",
        "\n",
        "  return np.asarray(X), np.asarray(y)"
      ],
      "metadata": {
        "id": "hUWVW5jrignf"
      },
      "execution_count": null,
      "outputs": []
    },
    {
      "cell_type": "code",
      "source": [
        "X_ex, y_ex = convert_jpg_to_array('aug_faces_ex', y_ext, img_size)\n",
        "X_in, y_in = convert_jpg_to_array('aug_faces_in', y_int, img_size)"
      ],
      "metadata": {
        "id": "ZTE8X1Yk_yPm"
      },
      "execution_count": null,
      "outputs": []
    },
    {
      "cell_type": "markdown",
      "source": [
        "###**3. Exploratory data analysis**"
      ],
      "metadata": {
        "id": "El8lOixJ5SOd"
      }
    },
    {
      "cell_type": "markdown",
      "source": [
        "Then, the function below can plot 9 randomely selected images in np.array. The data can deal with plotting any dimenstion and color map. "
      ],
      "metadata": {
        "id": "B1GHt065gmlt"
      }
    },
    {
      "cell_type": "code",
      "source": [
        "def plot_rand_imgs(data, img_size, pred='nan', actual='nan'):\n",
        "  \"\"\"\n",
        "  choose 9 random images stored in numpy array and plot them \n",
        "\n",
        "  Parameters\n",
        "  -----------------\n",
        "  data (numpy array): numpy array containing images\n",
        "  img_size (tuple): image size of images\n",
        "\n",
        "  Returns\n",
        "  -----------------\n",
        "  None (show plot)\n",
        "  \"\"\"\n",
        "  # images selected\n",
        "  random_ids = np.random.choice(data.shape[0], 9)\n",
        "\n",
        "  # for every image, plot it as a subplot\n",
        "  j = 0\n",
        "  fig = plt.figure()\n",
        "  for i in random_ids: \n",
        "    ax = plt.subplot(330 + 1 + j)\n",
        "    ax.axis('off') \n",
        "    # if there is a list of predictions, display it as title\n",
        "    if type(actual) != str:\n",
        "      title = f'actual: {actual[i]}'\n",
        "      if type(pred) != str:\n",
        "        title += f', pred: {pred[i]}'\n",
        "      ax.title.set_text(title)\n",
        "    # if RGB is stored, convert it to RGB\n",
        "    if img_size[2]==3:\n",
        "      ax.imshow(cv2.cvtColor(data[i].reshape(img_size[0], img_size[1], img_size[2]), cv2.COLOR_BGR2RGB))\n",
        "    # if grayscale is stored, plot it with gray color map\n",
        "    elif img_size[2]==1:\n",
        "      ax.imshow(data[i].reshape(img_size[0], img_size[1], img_size[2]), plt.get_cmap('gray'))\n",
        "\n",
        "    j += 1\n",
        "\n",
        "  plt.axis('off')\n",
        "  plt.show()"
      ],
      "metadata": {
        "id": "xi6QZ9YEUeAs"
      },
      "execution_count": null,
      "outputs": []
    },
    {
      "cell_type": "code",
      "source": [
        "plot_rand_imgs(X_ex, img_size, actual=y_ex)"
      ],
      "metadata": {
        "id": "bU0aeFZS_2PD",
        "colab": {
          "base_uri": "https://localhost:8080/",
          "height": 264
        },
        "outputId": "afef6559-0f29-493e-9d39-ae6f3ac692cf"
      },
      "execution_count": null,
      "outputs": [
        {
          "output_type": "display_data",
          "data": {
            "text/plain": [
              "<Figure size 432x288 with 9 Axes>"
            ],
            "image/png": "[encoded data removed]"
          },
          "metadata": {
            "needs_background": "light"
          }
        }
      ]
    },
    {
      "cell_type": "code",
      "source": [
        "plot_rand_imgs(X_in, img_size, actual=y_in)"
      ],
      "metadata": {
        "id": "kW79Q8Sw2S9t"
      },
      "execution_count": null,
      "outputs": []
    },
    {
      "cell_type": "markdown",
      "source": [
        "From the plots above, it can be confirmed that the data augumentations are performed correctly and the labels are correctly assigned. the function below generates dataframe of unique values and their frequency in a numpy array. It is used to see the frequency of drunk and sober face in both datasets. "
      ],
      "metadata": {
        "id": "JHokeAFKmxGq"
      }
    },
    {
      "cell_type": "code",
      "source": [
        "def unique_frequency(y):\n",
        "  \"\"\"\n",
        "  return dataframe of unique values and their counts in numpy array \n",
        "\n",
        "  Parameters\n",
        "  -----------------\n",
        "  y (numpy array): any numpy array (1D)\n",
        "\n",
        "  Returns\n",
        "  -----------------\n",
        "  df (panda dataframe): unique values and their frequency\n",
        "  \"\"\"\n",
        "  unique, counts = np.unique(y, return_counts=True)\n",
        "  data = {'category':unique, 'counts':counts}\n",
        "  df = pd.DataFrame(data)\n",
        "\n",
        "  return df"
      ],
      "metadata": {
        "id": "xtQ7lvOubj87"
      },
      "execution_count": null,
      "outputs": []
    },
    {
      "cell_type": "code",
      "source": [
        "unique_frequency(y_ex)"
      ],
      "metadata": {
        "colab": {
          "base_uri": "https://localhost:8080/",
          "height": 112
        },
        "id": "y9DhE4G_acya",
        "outputId": "f145efe0-0243-439c-f928-4cd5e03cf1d7"
      },
      "execution_count": null,
      "outputs": [
        {
          "output_type": "execute_result",
          "data": {
            "text/plain": [
              "   category  counts\n",
              "0         0    1450\n",
              "1         1    3596"
            ],
            "text/html": [
              "\n",
              "  <div id=\"df-4ff84af4-7e1a-4ee2-aabe-71bc83f8497b\">\n",
              "    <div class=\"colab-df-container\">\n",
              "      <div>\n",
              "<style scoped>\n",
              "    .dataframe tbody tr th:only-of-type {\n",
              "        vertical-align: middle;\n",
              "    }\n",
              "\n",
              "    .dataframe tbody tr th {\n",
              "        vertical-align: top;\n",
              "    }\n",
              "\n",
              "    .dataframe thead th {\n",
              "        text-align: right;\n",
              "    }\n",
              "</style>\n",
              "<table border=\"1\" class=\"dataframe\">\n",
              "  <thead>\n",
              "    <tr style=\"text-align: right;\">\n",
              "      <th></th>\n",
              "      <th>category</th>\n",
              "      <th>counts</th>\n",
              "    </tr>\n",
              "  </thead>\n",
              "  <tbody>\n",
              "    <tr>\n",
              "      <th>0</th>\n",
              "      <td>0</td>\n",
              "      <td>1450</td>\n",
              "    </tr>\n",
              "    <tr>\n",
              "      <th>1</th>\n",
              "      <td>1</td>\n",
              "      <td>3596</td>\n",
              "    </tr>\n",
              "  </tbody>\n",
              "</table>\n",
              "</div>\n",
              "      <button class=\"colab-df-convert\" onclick=\"convertToInteractive('df-4ff84af4-7e1a-4ee2-aabe-71bc83f8497b')\"\n",
              "              title=\"Convert this dataframe to an interactive table.\"\n",
              "              style=\"display:none;\">\n",
              "        \n",
              "  <svg xmlns=\"http://www.w3.org/2000/svg\" height=\"24px\"viewBox=\"0 0 24 24\"\n",
              "       width=\"24px\">\n",
              "    <path d=\"M0 0h24v24H0V0z\" fill=\"none\"/>\n",
              "    <path d=\"M18.56 5.44l.94 2.06.94-2.06 2.06-.94-2.06-.94-.94-2.06-.94 2.06-2.06.94zm-11 1L8.5 8.5l.94-2.06 2.06-.94-2.06-.94L8.5 2.5l-.94 2.06-2.06.94zm10 10l.94 2.06.94-2.06 2.06-.94-2.06-.94-.94-2.06-.94 2.06-2.06.94z\"/><path d=\"M17.41 7.96l-1.37-1.37c-.4-.4-.92-.59-1.43-.59-.52 0-1.04.2-1.43.59L10.3 9.45l-7.72 7.72c-.78.78-.78 2.05 0 2.83L4 21.41c.39.39.9.59 1.41.59.51 0 1.02-.2 1.41-.59l7.78-7.78 2.81-2.81c.8-.78.8-2.07 0-2.86zM5.41 20L4 18.59l7.72-7.72 1.47 1.35L5.41 20z\"/>\n",
              "  </svg>\n",
              "      </button>\n",
              "      \n",
              "  <style>\n",
              "    .colab-df-container {\n",
              "      display:flex;\n",
              "      flex-wrap:wrap;\n",
              "      gap: 12px;\n",
              "    }\n",
              "\n",
              "    .colab-df-convert {\n",
              "      background-color: #E8F0FE;\n",
              "      border: none;\n",
              "      border-radius: 50%;\n",
              "      cursor: pointer;\n",
              "      display: none;\n",
              "      fill: #1967D2;\n",
              "      height: 32px;\n",
              "      padding: 0 0 0 0;\n",
              "      width: 32px;\n",
              "    }\n",
              "\n",
              "    .colab-df-convert:hover {\n",
              "      background-color: #E2EBFA;\n",
              "      box-shadow: 0px 1px 2px rgba(60, 64, 67, 0.3), 0px 1px 3px 1px rgba(60, 64, 67, 0.15);\n",
              "      fill: #174EA6;\n",
              "    }\n",
              "\n",
              "    [theme=dark] .colab-df-convert {\n",
              "      background-color: #3B4455;\n",
              "      fill: #D2E3FC;\n",
              "    }\n",
              "\n",
              "    [theme=dark] .colab-df-convert:hover {\n",
              "      background-color: #434B5C;\n",
              "      box-shadow: 0px 1px 3px 1px rgba(0, 0, 0, 0.15);\n",
              "      filter: drop-shadow(0px 1px 2px rgba(0, 0, 0, 0.3));\n",
              "      fill: #FFFFFF;\n",
              "    }\n",
              "  </style>\n",
              "\n",
              "      <script>\n",
              "        const buttonEl =\n",
              "          document.querySelector('#df-4ff84af4-7e1a-4ee2-aabe-71bc83f8497b button.colab-df-convert');\n",
              "        buttonEl.style.display =\n",
              "          google.colab.kernel.accessAllowed ? 'block' : 'none';\n",
              "\n",
              "        async function convertToInteractive(key) {\n",
              "          const element = document.querySelector('#df-4ff84af4-7e1a-4ee2-aabe-71bc83f8497b');\n",
              "          const dataTable =\n",
              "            await google.colab.kernel.invokeFunction('convertToInteractive',\n",
              "                                                     [key], {});\n",
              "          if (!dataTable) return;\n",
              "\n",
              "          const docLinkHtml = 'Like what you see? Visit the ' +\n",
              "            '<a target=\"_blank\" href=https://colab.research.google.com/notebooks/data_table.ipynb>data table notebook</a>'\n",
              "            + ' to learn more about interactive tables.';\n",
              "          element.innerHTML = '';\n",
              "          dataTable['output_type'] = 'display_data';\n",
              "          await google.colab.output.renderOutput(dataTable, element);\n",
              "          const docLink = document.createElement('div');\n",
              "          docLink.innerHTML = docLinkHtml;\n",
              "          element.appendChild(docLink);\n",
              "        }\n",
              "      </script>\n",
              "    </div>\n",
              "  </div>\n",
              "  "
            ]
          },
          "metadata": {},
          "execution_count": 22
        }
      ]
    },
    {
      "cell_type": "markdown",
      "source": [
        "The above shows the frequency of sober and drunk faces in the external dataset. It reveals that the external dataset coutain roughly 2.5 times drunk faces than sober faces. It is because the original images all contain 1 sober face and 3 drunk faces taken in different time. The skewed distribution of categories can impact the result of the training. "
      ],
      "metadata": {
        "id": "Mu54NXWlnIeh"
      }
    },
    {
      "cell_type": "code",
      "source": [
        "unique_frequency(y_in)"
      ],
      "metadata": {
        "colab": {
          "base_uri": "https://localhost:8080/",
          "height": 112
        },
        "id": "uMMBzbZScOEE",
        "outputId": "b450cdf7-24ab-4fe2-ddab-02cae3eeffb9"
      },
      "execution_count": null,
      "outputs": [
        {
          "output_type": "execute_result",
          "data": {
            "text/plain": [
              "   category  counts\n",
              "0         0    2004\n",
              "1         1    3006"
            ],
            "text/html": [
              "\n",
              "  <div id=\"df-a340dc39-aa0b-47ec-b520-4fa269914914\">\n",
              "    <div class=\"colab-df-container\">\n",
              "      <div>\n",
              "<style scoped>\n",
              "    .dataframe tbody tr th:only-of-type {\n",
              "        vertical-align: middle;\n",
              "    }\n",
              "\n",
              "    .dataframe tbody tr th {\n",
              "        vertical-align: top;\n",
              "    }\n",
              "\n",
              "    .dataframe thead th {\n",
              "        text-align: right;\n",
              "    }\n",
              "</style>\n",
              "<table border=\"1\" class=\"dataframe\">\n",
              "  <thead>\n",
              "    <tr style=\"text-align: right;\">\n",
              "      <th></th>\n",
              "      <th>category</th>\n",
              "      <th>counts</th>\n",
              "    </tr>\n",
              "  </thead>\n",
              "  <tbody>\n",
              "    <tr>\n",
              "      <th>0</th>\n",
              "      <td>0</td>\n",
              "      <td>2004</td>\n",
              "    </tr>\n",
              "    <tr>\n",
              "      <th>1</th>\n",
              "      <td>1</td>\n",
              "      <td>3006</td>\n",
              "    </tr>\n",
              "  </tbody>\n",
              "</table>\n",
              "</div>\n",
              "      <button class=\"colab-df-convert\" onclick=\"convertToInteractive('df-a340dc39-aa0b-47ec-b520-4fa269914914')\"\n",
              "              title=\"Convert this dataframe to an interactive table.\"\n",
              "              style=\"display:none;\">\n",
              "        \n",
              "  <svg xmlns=\"http://www.w3.org/2000/svg\" height=\"24px\"viewBox=\"0 0 24 24\"\n",
              "       width=\"24px\">\n",
              "    <path d=\"M0 0h24v24H0V0z\" fill=\"none\"/>\n",
              "    <path d=\"M18.56 5.44l.94 2.06.94-2.06 2.06-.94-2.06-.94-.94-2.06-.94 2.06-2.06.94zm-11 1L8.5 8.5l.94-2.06 2.06-.94-2.06-.94L8.5 2.5l-.94 2.06-2.06.94zm10 10l.94 2.06.94-2.06 2.06-.94-2.06-.94-.94-2.06-.94 2.06-2.06.94z\"/><path d=\"M17.41 7.96l-1.37-1.37c-.4-.4-.92-.59-1.43-.59-.52 0-1.04.2-1.43.59L10.3 9.45l-7.72 7.72c-.78.78-.78 2.05 0 2.83L4 21.41c.39.39.9.59 1.41.59.51 0 1.02-.2 1.41-.59l7.78-7.78 2.81-2.81c.8-.78.8-2.07 0-2.86zM5.41 20L4 18.59l7.72-7.72 1.47 1.35L5.41 20z\"/>\n",
              "  </svg>\n",
              "      </button>\n",
              "      \n",
              "  <style>\n",
              "    .colab-df-container {\n",
              "      display:flex;\n",
              "      flex-wrap:wrap;\n",
              "      gap: 12px;\n",
              "    }\n",
              "\n",
              "    .colab-df-convert {\n",
              "      background-color: #E8F0FE;\n",
              "      border: none;\n",
              "      border-radius: 50%;\n",
              "      cursor: pointer;\n",
              "      display: none;\n",
              "      fill: #1967D2;\n",
              "      height: 32px;\n",
              "      padding: 0 0 0 0;\n",
              "      width: 32px;\n",
              "    }\n",
              "\n",
              "    .colab-df-convert:hover {\n",
              "      background-color: #E2EBFA;\n",
              "      box-shadow: 0px 1px 2px rgba(60, 64, 67, 0.3), 0px 1px 3px 1px rgba(60, 64, 67, 0.15);\n",
              "      fill: #174EA6;\n",
              "    }\n",
              "\n",
              "    [theme=dark] .colab-df-convert {\n",
              "      background-color: #3B4455;\n",
              "      fill: #D2E3FC;\n",
              "    }\n",
              "\n",
              "    [theme=dark] .colab-df-convert:hover {\n",
              "      background-color: #434B5C;\n",
              "      box-shadow: 0px 1px 3px 1px rgba(0, 0, 0, 0.15);\n",
              "      filter: drop-shadow(0px 1px 2px rgba(0, 0, 0, 0.3));\n",
              "      fill: #FFFFFF;\n",
              "    }\n",
              "  </style>\n",
              "\n",
              "      <script>\n",
              "        const buttonEl =\n",
              "          document.querySelector('#df-a340dc39-aa0b-47ec-b520-4fa269914914 button.colab-df-convert');\n",
              "        buttonEl.style.display =\n",
              "          google.colab.kernel.accessAllowed ? 'block' : 'none';\n",
              "\n",
              "        async function convertToInteractive(key) {\n",
              "          const element = document.querySelector('#df-a340dc39-aa0b-47ec-b520-4fa269914914');\n",
              "          const dataTable =\n",
              "            await google.colab.kernel.invokeFunction('convertToInteractive',\n",
              "                                                     [key], {});\n",
              "          if (!dataTable) return;\n",
              "\n",
              "          const docLinkHtml = 'Like what you see? Visit the ' +\n",
              "            '<a target=\"_blank\" href=https://colab.research.google.com/notebooks/data_table.ipynb>data table notebook</a>'\n",
              "            + ' to learn more about interactive tables.';\n",
              "          element.innerHTML = '';\n",
              "          dataTable['output_type'] = 'display_data';\n",
              "          await google.colab.output.renderOutput(dataTable, element);\n",
              "          const docLink = document.createElement('div');\n",
              "          docLink.innerHTML = docLinkHtml;\n",
              "          element.appendChild(docLink);\n",
              "        }\n",
              "      </script>\n",
              "    </div>\n",
              "  </div>\n",
              "  "
            ]
          },
          "metadata": {},
          "execution_count": 23
        }
      ]
    },
    {
      "cell_type": "markdown",
      "source": [
        "The above shows the frequency of sober and drunk faces in the personal dataset. The number of drunk faces is 1.5 times larger than that of sober faces. This could also impact the result. "
      ],
      "metadata": {
        "id": "joP71QcDn0lk"
      }
    },
    {
      "cell_type": "markdown",
      "source": [
        "###**4. Overall pipeline**"
      ],
      "metadata": {
        "id": "ZHCcaSDr6Vof"
      }
    },
    {
      "cell_type": "markdown",
      "source": [
        "**Task performed**\n",
        "\n",
        "As mentioned, a machine learning model will be trained to classify sober and drunk face. There will be three datasets to used for model training: external dataset, personal dataset, and mixed dataset. Firstly, the external dataset and personal dataset are both splitted into training and test data. The test data is set to 10% for each, which can be combined to get 20% of all the data. The training data for mixed data is obtained by combining both external and personal training data and discarding half of it. The data is reduced to make the size of training data approximately the same across all the datasets.\n",
        "\n",
        "Before the model is trained, PCA is performed as dimentionality reduction technique. The motivation is oulined below where PCA is explained in detail. Then, random search cross validation is performed to find the set of parameters that lead to the best cross validation score. This will also be discussed further below. Then, The model will be trained and performances are measured and compared."
      ],
      "metadata": {
        "id": "yutyco116gIz"
      }
    },
    {
      "cell_type": "code",
      "source": [
        "# splitting both external and personal datasets to training and testing (testing 10%)\n",
        "X_ex_train, X_ex_test, y_ex_train, y_ex_test = train_test_split(X_ex, y_ex, test_size=0.1)\n",
        "X_in_train, X_in_test, y_in_train, y_in_test = train_test_split(X_in, y_in, test_size=0.1)\n",
        "\n",
        "# combining test data from both to make test data with the size 20% of all the data\n",
        "X_test = np.vstack((X_ex_test, X_in_test))\n",
        "y_test = np.append(y_ex_test, y_in_test)\n",
        "\n",
        "# mix the training data from both external and personal data\n",
        "X_mix = np.vstack((X_ex_train, X_in_train))\n",
        "y_mix = np.append(y_ex_train, y_in_train)\n",
        "\n",
        "# discard half of the data to make the size of all the datasets approximately the same\n",
        "X_mix_train, _, y_mix_train, _ = train_test_split(X_mix, y_mix, train_size=0.5)"
      ],
      "metadata": {
        "id": "B7CrL4dT25-8"
      },
      "execution_count": null,
      "outputs": []
    },
    {
      "cell_type": "code",
      "source": [
        "print(\"dimensions of data used for training and testing\")\n",
        "print(\"training dataset for case 1: \", X_ex_train.shape, y_ex_train.shape)\n",
        "print(\"training dataset for case 2: \", X_in_train.shape, y_in_train.shape)\n",
        "print(\"training dataset for case 3: \", X_mix_train.shape, y_mix_train.shape)\n",
        "\n",
        "print(\"test dataset: \", X_test.shape, y_test.shape)"
      ],
      "metadata": {
        "colab": {
          "base_uri": "https://localhost:8080/"
        },
        "id": "FbMtJ5p8rPGE",
        "outputId": "ce38c06d-d240-47d0-9289-b3f96ff4588f"
      },
      "execution_count": null,
      "outputs": [
        {
          "output_type": "stream",
          "name": "stdout",
          "text": [
            "dimensions of data used for training and testing\n",
            "training dataset for case 1:  (4541, 3072) (4541,)\n",
            "training dataset for case 2:  (4509, 3072) (4509,)\n",
            "training dataset for case 3:  (4525, 3072) (4525,)\n",
            "test dataset:  (1006, 3072) (1006,)\n"
          ]
        }
      ]
    },
    {
      "cell_type": "markdown",
      "source": [
        "####**-PCA**"
      ],
      "metadata": {
        "id": "EJatS3riVRbx"
      }
    },
    {
      "cell_type": "markdown",
      "source": [
        "**Why do PCA?**\n",
        "\n",
        "Although XGBoost algorithm is constructed to improve runtime by reducing number of computation as much as possible like illustrated below and by making use of parallel learning and memory allocation technique, it still struggles with huge dimension of data like an image as image has too many dimensions to find the best similarity score from. It motivates the use of dimensionality reduction which can be done by multiple techniques such as PCA and pretrained autoencoders. "
      ],
      "metadata": {
        "id": "llJNywIlvpxb"
      }
    },
    {
      "cell_type": "markdown",
      "source": [
        "**How does PCA work?** (explanation is inspired by Jaadi, Z (2022))\n",
        "\n",
        "The PCA tries to find the set of axis or eigenvectors that can express the data's variation the most so that the most variation can be captured with lower dimensions. This can be done by finding a line with minimum residuals to the data. By looking at Pythagorean theorem, it can be observed that minimising residuals is equivalent of finding a line maximising the projection of the data onto it. The diagram below illustrates this well. \n",
        "![Screenshot 2023-02-20 at 18.34.22.png](data:image/png;base64,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)\n",
        "Thus, PCA takes the projections of all the data onto a unit vector, take the sums to find the line with minimum residuals that can explain the variation the most. The following shows the formula that PCA computes to find the best axis expressed using matrix form. The following equation needs to be maximized. \n",
        "\n",
        "$$\n",
        "avg\\,proj = \\frac {1}{n}\\sum (x_i^Tu)^2\n",
        "$$\n",
        "$$\n",
        "= \\frac {1}{n}\\sum x_i^Tux_i^Tu \n",
        "$$\n",
        "$$\n",
        "= u^T \\frac {1}{n}\\sum x_ix_i^T u\n",
        "$$\n",
        "\n",
        "Also, using Lagrange mutltiplier to satsify the condition of the line being an unit vector, the following function is maximised.\n",
        "\n",
        "$$\n",
        "|u| = 1\n",
        "$$\n",
        "$$\n",
        "u^Tu = 1\n",
        "$$\n",
        "$$\n",
        "u^T \\frac {1}{n}\\sum x_ix_i^T u - \\alpha (u^Tu -1)\n",
        "$$\n",
        "\n",
        "\n",
        "\n",
        "In order to maximize the above function, the function is set to be equal to zero. Rearranging the equation, it can be noticed that the lines that satisfy this corresponds to the eigenvectors of the covariance matrix.\n",
        "\n",
        "$$\n",
        "u^T  C u - \\alpha (u^Tu -1)\n",
        "$$\n",
        "$$\n",
        "\\frac {d}{du}u^T  C u - \\alpha (u^Tu -1) = 0\n",
        "$$\n",
        "$$\n",
        "C u - \\alpha u = 0\n",
        "$$\n",
        "$$\n",
        " C u = \\alpha u \n",
        "$$\n",
        "$$\n",
        "C u = \\lambda u \n",
        "$$\n",
        "\n",
        "Thus, eigenvalues for the eigenvectors can be computed as follows:\n",
        "\n",
        "Solve for\n",
        "$$\n",
        "|C-\\lambda I| = 0\n",
        "$$\n",
        "\n",
        "Then, corresponding eigenvectors can be found by\n",
        "\n",
        "and substitute lambda to \n",
        "$$\n",
        "(C-\\lambda I)v = 0\n",
        "$$\n",
        "\n",
        "Higher the eigenvalue, greater variability the eigenvector can represent. By dividing each eigenvalue by the total eigenvalues, the importance of a component can be expressed as fractions. Hence, PCA starts by accumulating the eigenvectors with highest eigenvalues until it reaches the threshold value usually set around 0.95.\n",
        "\n",
        "After the set of eigenvectors are identified, the transformation matrix can be constructed by making eigenvectoes be the columns of the matrix, and perform matrix multiplication on data. It transforms the data into eigenspace with lower dimensions while retaining around 95% of the original variability. "
      ],
      "metadata": {
        "id": "M1VTcdaq-TNq"
      }
    },
    {
      "cell_type": "markdown",
      "source": [
        "PCA described above is performed using scikit learn library. The standardization is performed before passing the data on PCA, as eigenvalue can be impacted by the values in an array (though the pixel values are all in the same scale and does not imapct relative eigenvalues)."
      ],
      "metadata": {
        "id": "qUebnm55g9cx"
      }
    },
    {
      "cell_type": "code",
      "source": [
        "def standardize_PCA(X_train, X_test, n_components=0.95):\n",
        "  \"\"\"\n",
        "  standaridize and perform PCA\n",
        "\n",
        "  Parameters\n",
        "  -----------------\n",
        "  X (np array): array containing images\n",
        "  n_components (float): percentage of variation retained\n",
        "\n",
        "  Returns\n",
        "  -----------------\n",
        "  X (np array): dimantionally reduced X\n",
        "  \"\"\"\n",
        "  # standardization\n",
        "  X_train = StandardScaler().fit_transform(X_train)\n",
        "  X_test = StandardScaler().fit_transform(X_test)\n",
        "\n",
        "  # find pca\n",
        "  pca = PCA(n_components=n_components)\n",
        "  pca.fit(X_train)\n",
        "\n",
        "  # transform data into pca\n",
        "  X_train = pca.transform(X_train)\n",
        "  X_test = pca.transform(X_test)\n",
        "  return X_train, X_test"
      ],
      "metadata": {
        "id": "0kezeC1tmloq"
      },
      "execution_count": null,
      "outputs": []
    },
    {
      "cell_type": "code",
      "source": [
        "X_ex_train_pca, X_ex_test_pca = standardize_PCA(X_ex_train, X_test)\n",
        "X_in_train_pca, X_in_test_pca = standardize_PCA(X_in_train, X_test)\n",
        "X_mix_train_pca, X_mix_test_pca = standardize_PCA(X_mix_train, X_test)"
      ],
      "metadata": {
        "id": "r3e5IjHp__MB"
      },
      "execution_count": null,
      "outputs": []
    },
    {
      "cell_type": "code",
      "source": [
        "print(\"dimensions of data after dimensionality reductions\")\n",
        "print(\"trining dataset for case 1: \", X_ex_train_pca.shape, y_ex_train.shape)\n",
        "print(\"training dataset for case 2: \", X_in_train_pca.shape, y_in_train.shape)\n",
        "print(\"training dataset for case 3: \", X_mix_train_pca.shape, y_mix_train.shape)\n",
        "\n",
        "print(\"test dataset for case 1: \", X_ex_test_pca.shape, y_test.shape)\n",
        "print(\"test dataset for case 2: \", X_in_test_pca.shape, y_test.shape)\n",
        "print(\"test dataset for case 3: \", X_mix_test_pca.shape, y_test.shape)"
      ],
      "metadata": {
        "id": "7myg_4aASdmh",
        "colab": {
          "base_uri": "https://localhost:8080/"
        },
        "outputId": "f1c782bc-09aa-40b6-b29b-75f3965eb465"
      },
      "execution_count": null,
      "outputs": [
        {
          "output_type": "stream",
          "name": "stdout",
          "text": [
            "dimensions of data after dimensionality reductions\n",
            "trining dataset for case 1:  (4541, 155) (4541,)\n",
            "training dataset for case 2:  (4509, 74) (4509,)\n",
            "training dataset for case 3:  (4525, 155) (4525,)\n",
            "test dataset for case 1:  (1006, 155) (1006,)\n",
            "test dataset for case 2:  (1006, 74) (1006,)\n",
            "test dataset for case 3:  (1006, 155) (1006,)\n"
          ]
        }
      ]
    },
    {
      "cell_type": "markdown",
      "source": [
        "From the above, we can see that the data's demension is reduced. "
      ],
      "metadata": {
        "id": "Eo6rU9ADrHLB"
      }
    },
    {
      "cell_type": "markdown",
      "source": [
        "###**5. XGBoost**"
      ],
      "metadata": {
        "id": "DZS4k5HaNhLu"
      }
    },
    {
      "cell_type": "markdown",
      "source": [
        "**What is XGBoost?**\n",
        "\n",
        "As it has been discussed, one of the difficulties in using decision trees is its sensitivity to data. When one data point is added, it can change the whole structure of the tree. This means decision trees can easily overfit to the data. There are three main techniques to solve this problem: reguralization, boosting, and bagging, and XGBoost is a gradient boosting technique optimized for reducing runtime while maintain its classification ability by using regularization and boosting. XGBoost is regarded as one of the optimal classification technique available. (NDIVIA, n.d.)"
      ],
      "metadata": {
        "id": "u3QrQ4W1NrdL"
      }
    },
    {
      "cell_type": "markdown",
      "source": [
        "**How XGBoost works in binary classification?** (content here is greatly inspired by StatQuest (2020))\n",
        "\n",
        "Just like gradient boosting, XGBoost starts by making initial prediction. The initial prediction of probability can be 0.5 where 0 and 1 are classes to be classified. Then, trees can be constructed so that the residuals from the initial prediction can be determined. While building the tree for predicting residuals, it makes use of similarity scores so that the leaves can have points with similar value of residuals. The equation of similarity score is given by\n",
        "\n",
        "$$\n",
        "Similarity\\,Score = \\frac {(\\sum residual_i)^2} {\\sum [previous\\,probability_i \\times (1-previous\\,\n",
        "probability_i)]+\\lambda }$$\n",
        "\n",
        "In initial tree, previous probability is 0.5 for all of the datapoint. Then, the decision boundary with largest similarity score difference from the root node, or largest gain, is chosen. The gain is calculated by\n",
        "\n",
        "$$\n",
        "Gain = left_{similarity} + right_{similarity} - root_{similarity}\n",
        "$$\n",
        "\n",
        "The process continues until the cover of the leaves, which is the denominator of similarity score calculation except for the regularization parameter lamda, is smaller than a threshold value usually default to 1 and a branch with cover less than 1 is pruned. The min_child_weight corresponds with this threshold value, and higher it is, more pruning happens. \n",
        "\n",
        "After the tree is constructed, the further pruning process begins. The gamma, parameter, is compared with gain of the split, and if the gain is smaller than gamma, that branch is pruned. This means that having higher number for gamma can prune the tree more to avoid overfitting. Also, the regularization parameter is in the denominator. Hence, higher regualrization parameter reduces the gain of a branch and encourages more pruning.\n",
        "\n",
        "After the pruning, the output values, singifying how initial prediction should be adjusted for each leave, is computed by using the follwowing equation,\n",
        "\n",
        "$$\n",
        "O_{value}= \\frac {(\\sum residual_i)} {\\sum [previous\\,probability_i \\times (1-previous\\,\n",
        "probability_i)]+\\lambda }\n",
        "$$\n",
        "\n",
        "As the regualrization parameter is in the denominator here as well, it encourage less learning from the tree. Then, the log(odds) of initial predictions for all datapoints are updated by\n",
        "\n",
        "$$\n",
        "log(odds) = log(\\frac {p}{1-p})\n",
        "$$\n",
        "$$\n",
        "updated\\,log(odds) = log(odds) + O_{value}\n",
        "$$\n",
        "\n",
        ", and the new predictions for the data are generated by passing the outputs to logit function for converting the log(odds) back to probability. \n",
        "\n",
        "$$\n",
        "updated\\,probability = \\frac {e^{updated\\,log(odds)}}{1+e^{updated\\,log(odds)}}\n",
        "$$\n",
        "\n",
        "Based on the new predictions, new trees can be constructed using the same technique, until it reaches small residuals or maximum number of trees or estimators. This way, the trees can be constructed to cluster together the similar datapoints and gradually reduce residuals while avoiding under or overfitting. \n",
        "\n",
        "In summary, the basic parameters in XGBoost are regularization parameter (lamda), gamma, learning rate (eta), min_child_weight, and number of estimator. "
      ],
      "metadata": {
        "id": "39cQickwtPvT"
      }
    },
    {
      "cell_type": "markdown",
      "source": [
        "**Why those equations?** (content here is greatly inspired by StatQuest (2020))\n",
        "\n",
        "The primary job for the tree is to come up with appropriate output values for each of the data that minimize the loss function. As we have covered in class, the loss function for classifcation is\n",
        "\n",
        "$$\n",
        "L(yi, pi) = -[y_ilog(p_i)+(1-y_i)log(p_i)]\n",
        "$$\n",
        "\n",
        ", where y refers to actual observation and p is prediction. Since pi in this case is the sum of initial prediction and output value, and due to regularization, the loss function for the XGBoost is\n",
        "\n",
        "$$\n",
        "Loss = [\\sum_{i=1}^n L(y_i, p_i^0 + O_{value})] + \\frac{1}{2}λO^2_{value}\n",
        "$$\n",
        "\n",
        "Also, XGBoost reduce the number of calcualtions by using Second Order Tayler approximation, \n",
        "\n",
        "$$\n",
        "L(y, p_i + O_{value}) \\approx L(y, pi) + [\\frac {d}{dp_i} L(y, pi)]O_{value} + \\frac{1}{2}[\\frac {d^2}{dp_i^2} L(y, pi)]O^2_{value}\n",
        "$$\n",
        "\n",
        "This result in the following loss function,\n",
        "\n",
        "$$\n",
        "Loss \\approx [\\sum_{i=1}^n L(y, pi) + [\\frac {d}{dp_i} L(y, pi)]O_{value} + \\frac{1}{2}[\\frac {d^2}{dp_i^2} L(y, pi)]O^2_{value}] + \\frac{1}{2}λO^2_{value}\n",
        "$$\n",
        "\n",
        "Expressing gradient and hessian in terms as g and h, and omitting constant that becomes zero when differntiating (we can do this as we are interested in relative losses), the loss function is approximated as \n",
        "\n",
        "$$\n",
        "Loss \\approx [\\sum_{i=1}^n g_iO_{value} + \\frac{1}{2}h_iO^2_{value}] + \\frac{1}{2}λO^2_{value}\n",
        "$$\n",
        "$$\n",
        "Loss \\approx (g_1+g_2+...+g_n)O_{value} + \\frac{1}{2}(h_1+h_2+...+h_n+\\lambda)O^2_{value}\n",
        "$$\n",
        "\n",
        "Then, when we aim for the output value that minimize the loss, we take partial derivative of the loss function with respect to output value and set it to zero. This will give\n",
        "\n",
        "$$\n",
        "\\frac{d}{dO_{value}} Loss \\approx (g_1+g_2+...+g_n) + (h_1+h_2+...+h_n+\\lambda)O_{value}\n",
        "$$\n",
        "$$\n",
        "(g_1+g_2+...+g_n) + (h_1+h_2+...+h_n+\\lambda)O_{value} = 0\n",
        "$$\n",
        "$$\n",
        "O_{value} = \\frac{-(g_1+g_2+...+g_n)}{(h_1+h_2+...+h_n+\\lambda)}\n",
        "$$\n",
        "\n",
        "The first and scond derivative of L(yi,log(odds)) are determined as follows\n",
        "\n",
        "$$\n",
        "\\frac{d}{dlog(odds)}L(y_i, log(odds)_i) =g_i= -y_i + \\frac {e^{log(odds)_i}}{1+e^{log(odds)_i}} = -(y_i-p_i)\n",
        "$$\n",
        "$$\n",
        "\\frac{d^2}{dlog(odds)^2}L(y_i, log(odds)_i) =h_i = \\frac {e^{log(odds)_i}}{1+e^{log(odds)_i}} \\times \\frac {1}{1+e^{log(odds)_i}} = p_i \\times (1-p_i)\n",
        "$$\n",
        "\n",
        "Substituting them in, the output value that minimizes the loss is computed by\n",
        "\n",
        "$$\n",
        "O_{value} = \\frac{\\sum (y_i-p_i)}{(\\sum pi\\times(1-p_i))+\\lambda}\n",
        "$$\n",
        "$$\n",
        "O_{value}= \\frac {(\\sum residual_i)} {\\sum [previous\\,probability_i \\times (1-previous\\,\n",
        "probability_i)]+\\lambda }\n",
        "$$\n",
        "\n",
        ", which is the same equation used above. However, before computing the output value, we need to structure the tree in a way that minimize loss. Given the above equation for the output value that minimizes the loss, we can compute the approximated loss for a tree by substituting in the output value in the approximate loss function.\n",
        "\n",
        "$$\n",
        "Loss \\approx (g_1+g_2+...+g_n)O_{value} + \\frac{1}{2}(h_1+h_2+...+h_n+\\lambda)O^2_{value}\n",
        "$$\n",
        "\n",
        "$$\n",
        "Loss \\approx (g_1+g_2+...+g_n)\\frac{-(g_1+g_2+...+g_n)}{(h_1+h_2+...+h_n+\\lambda)} + \\frac{1}{2}(h_1+h_2+...+h_n+\\lambda)\\frac{-(g_1+g_2+...+g_n)^2}{(h_1+h_2+...+h_n+\\lambda)^2}\n",
        "$$\n",
        "$$\n",
        "Loss \\approx \\frac{-(g_1+g_2+...+g_n)^2}{(h_1+h_2+...+h_n+\\lambda)} + \\frac{1}{2}\\frac{-(g_1+g_2+...+g_n)^2}{(h_1+h_2+...+h_n+\\lambda)}\n",
        "$$\n",
        "$$\n",
        "Loss \\approx -\\frac{1}{2}\\frac{-(g_1+g_2+...+g_n)^2}{(h_1+h_2+...+h_n+\\lambda)}\n",
        "$$\n",
        "\n",
        "As we are only interested in relative values from loss function, \n",
        "\n",
        "$$\n",
        "Loss \\approx -\\frac{-(g_1+g_2+...+g_n)^2}{(h_1+h_2+...+h_n+\\lambda)}\n",
        "$$\n",
        "\n",
        "$$\n",
        "Loss \\approx -\\frac {(\\sum residual_i)^2} {\\sum [previous\\,probability_i \\times (1-previous\\,\n",
        "probability_i)]+\\lambda }\n",
        "$$\n",
        "\n",
        ", which corresponds to the similarity score. As similarity score = -loss, by choosing the boundary with largest similarity score, it is effectively choosing split that leads to smallest possible approximated loss when best output value is chosen. However, not all of the patterns of tree is examined as the algorithm splits the data by only observing the gain just after the split. Thus, the algorithm is greedy algorithm, which can acheive faster runtime. "
      ],
      "metadata": {
        "id": "eDI0PmBBtU7u"
      }
    },
    {
      "cell_type": "markdown",
      "source": [
        "###**6. Model training**"
      ],
      "metadata": {
        "id": "aJTizA41-I4x"
      }
    },
    {
      "cell_type": "markdown",
      "source": [
        "####**Model selection**\n",
        "\n"
      ],
      "metadata": {
        "id": "tPDW3yg_9kkc"
      }
    },
    {
      "cell_type": "markdown",
      "source": [
        "The function below performs random search cross validation for finding set of parameters that result in better validation score specified. In this scenario, n_estimator is set to be 100, the default value for XGBoostClassifer, to avoid using up too much memory. The grid search cross validation can examine all combinations of parameters inputted, but it took significant amount of time. Hence, random search cross validation is chosen. With enough computational power, grid search cross validation should be performed including n_estimators."
      ],
      "metadata": {
        "id": "ypIl5Bifhbhe"
      }
    },
    {
      "cell_type": "markdown",
      "source": [
        "**Metrics to be used, Recall**\n",
        "\n",
        "In evaluating the performance of classification, it is important to use appropriate metrics depending on the problem. In the case of sobriety classification, the false negative, drunk person being incorrectly classified as sober, has the largest consequence to be avoided. False positive, sober person being incorrectly classified as drunk, is just fun, but the false negative can cause drunk driving, which can lead to devastating consequences. \n",
        "\n",
        "Hence, recall is appropriate metrics to be used in this case. Recall is the ratio of correctly predicted positive classes to all items that are actually positive. Smaller the recall value, less false negative there is. "
      ],
      "metadata": {
        "id": "S9drdEPZ85GH"
      }
    },
    {
      "cell_type": "code",
      "source": [
        "def randomsearchCV_XGB_binary(X_train, y_train, parameters, scoring_type='f1_weighted'):\n",
        "  \"\"\"\n",
        "  Perform random search cross validation for XGBoost binary classier\n",
        "\n",
        "  Parameters\n",
        "  -----------------\n",
        "  X_train (np array): the features used in predicting y in training data\n",
        "  y_train (np array): the labels to be classifed in the training data\n",
        "  parameters (dict): parameters and distributions to take parameters from\n",
        "  scoring_type (str, default=f_1weighted): score to be looked at when choosing the best parameters\n",
        "\n",
        "  Returns\n",
        "  -----------------\n",
        "  best params (dict): best parameters identified stored in a dict\n",
        "  best score (float): best score from the model with the best parameters\n",
        "  \"\"\"\n",
        "  estimator= XGBClassifier(objective= 'binary:logistic',\n",
        "                          n_estimators=100,\n",
        "                          tree_method='hist',\n",
        "                          verbose=True,\n",
        "                          seed=42)\n",
        "\n",
        "  cv = RepeatedStratifiedKFold(n_splits=3, n_repeats=1, random_state=1)\n",
        "\n",
        "  scoring= {'accuracy': make_scorer(accuracy_score),\n",
        "           'precision': make_scorer(precision_score, average = 'macro'),\n",
        "           'recall': make_scorer(recall_score, average = 'macro'),\n",
        "           'f1_macro': make_scorer(f1_score, average = 'macro'),\n",
        "           'f1_weighted': make_scorer(f1_score, average = 'weighted')}\n",
        "  \n",
        "  rand_search = RandomizedSearchCV(\n",
        "      estimator=estimator,\n",
        "      param_distributions=parameters,\n",
        "      scoring = scoring[scoring_type],\n",
        "      n_iter=20,\n",
        "      n_jobs=10,\n",
        "      cv = cv,\n",
        "      verbose=True\n",
        "  )\n",
        "\n",
        "  rand_search.fit(X_train, y_train)\n",
        "\n",
        "  return rand_search.best_params_, rand_search.best_score_"
      ],
      "metadata": {
        "id": "MwEXgLmo0VWd"
      },
      "execution_count": null,
      "outputs": []
    },
    {
      "cell_type": "markdown",
      "source": [
        "####**Training model on dataset**"
      ],
      "metadata": {
        "id": "7EhQHYg29Gum"
      }
    },
    {
      "cell_type": "markdown",
      "source": [
        "**Case 1: Training on external dataset**"
      ],
      "metadata": {
        "id": "GkNZShSwT1bX"
      }
    },
    {
      "cell_type": "code",
      "source": [
        "parameters = {\n",
        "      'learning_rate': uniform(loc=0.001, scale=1),\n",
        "      'gamma': uniform(loc=0, scale=2),\n",
        "      'lamda': uniform(loc=0, scale=2),\n",
        "      'min_child_weight': uniform(loc=0, scale=2)\n",
        "  }\n",
        "\n",
        "params, score = randomsearchCV_XGB_binary(X_ex_train_pca, y_ex_train, parameters, scoring_type='recall')\n",
        "\n",
        "print(\"best parameters: \", params)\n",
        "print(\"best score: \", score)"
      ],
      "metadata": {
        "id": "Qz-yU7YIS57T",
        "colab": {
          "base_uri": "https://localhost:8080/"
        },
        "outputId": "a9b1c03f-5379-4db6-a04f-8b9ad39d2e8c"
      },
      "execution_count": null,
      "outputs": [
        {
          "output_type": "stream",
          "name": "stdout",
          "text": [
            "Fitting 3 folds for each of 20 candidates, totalling 60 fits\n",
            "best parameters:  {'gamma': 0.14931141484673538, 'lamda': 1.2587893779073591, 'learning_rate': 0.43906818804892767, 'min_child_weight': 0.6041280605383466}\n",
            "best score:  0.9522269248670359\n"
          ]
        }
      ]
    },
    {
      "cell_type": "code",
      "source": [
        "xgb_clf_ex = XGBClassifier(objective='binary:logistic', \n",
        "                          n_estimators=100,\n",
        "                          gamma=params['gamma'],\n",
        "                          lamda=params['lamda'],\n",
        "                          learning_rate=params['learning_rate'],\n",
        "                          min_child_weight=params['min_child_weight'],\n",
        "                          tree_method='hist',\n",
        "                          seed=42)\n",
        "xgb_clf_ex.fit(X_ex_train_pca, y_ex_train)"
      ],
      "metadata": {
        "id": "5sYfrTvH3JPc",
        "colab": {
          "base_uri": "https://localhost:8080/"
        },
        "outputId": "51130360-a70b-448c-cc0c-f0db93a85edf"
      },
      "execution_count": null,
      "outputs": [
        {
          "output_type": "execute_result",
          "data": {
            "text/plain": [
              "XGBClassifier(gamma=0.14931141484673538, lamda=1.2587893779073591,\n",
              "              learning_rate=0.43906818804892767,\n",
              "              min_child_weight=0.6041280605383466, seed=42, tree_method='hist')"
            ]
          },
          "metadata": {},
          "execution_count": 32
        }
      ]
    },
    {
      "cell_type": "markdown",
      "source": [
        "**Case 2: Training on personal dataset**"
      ],
      "metadata": {
        "id": "m5Z7v6U5ULFq"
      }
    },
    {
      "cell_type": "code",
      "source": [
        "params, score = randomsearchCV_XGB_binary(X_in_train_pca, y_in_train, parameters, scoring_type='recall')\n",
        "\n",
        "print(\"best parameters: \", params)\n",
        "print(\"best score: \", score)"
      ],
      "metadata": {
        "id": "MebS8tzAUPZC",
        "colab": {
          "base_uri": "https://localhost:8080/"
        },
        "outputId": "eb2156d7-726e-4a36-dce6-1ec8b0e09168"
      },
      "execution_count": null,
      "outputs": [
        {
          "output_type": "stream",
          "name": "stdout",
          "text": [
            "Fitting 3 folds for each of 20 candidates, totalling 60 fits\n",
            "best parameters:  {'gamma': 0.48471603655509643, 'lamda': 1.5117608385653838, 'learning_rate': 0.16190370332026782, 'min_child_weight': 1.375804655432541}\n",
            "best score:  0.9844786142878789\n"
          ]
        }
      ]
    },
    {
      "cell_type": "code",
      "source": [
        "xgb_clf_in = XGBClassifier(objective='binary:logistic', \n",
        "                          n_estimators=100,\n",
        "                          gamma=params['gamma'],\n",
        "                          lamda=params['lamda'],\n",
        "                          learning_rate=params['learning_rate'],\n",
        "                          min_child_weight=params['min_child_weight'],\n",
        "                          tree_method='hist',\n",
        "                          seed=42)\n",
        "xgb_clf_in.fit(X_in_train_pca, y_in_train)"
      ],
      "metadata": {
        "colab": {
          "base_uri": "https://localhost:8080/"
        },
        "id": "4t-4T3Yt9yPs",
        "outputId": "e47f14bd-15c4-4192-ee11-df3732053769"
      },
      "execution_count": null,
      "outputs": [
        {
          "output_type": "execute_result",
          "data": {
            "text/plain": [
              "XGBClassifier(gamma=0.48471603655509643, lamda=1.5117608385653838,\n",
              "              learning_rate=0.16190370332026782,\n",
              "              min_child_weight=1.375804655432541, seed=42, tree_method='hist')"
            ]
          },
          "metadata": {},
          "execution_count": 34
        }
      ]
    },
    {
      "cell_type": "markdown",
      "source": [
        "**Case 3: Training on mixed dataset**"
      ],
      "metadata": {
        "id": "ZxfWhw8Gc4O6"
      }
    },
    {
      "cell_type": "code",
      "source": [
        "params, score = randomsearchCV_XGB_binary(X_mix_train_pca, y_mix_train, parameters, scoring_type='recall')\n",
        "\n",
        "print(\"best parameters: \", params)\n",
        "print(\"best score: \", score)"
      ],
      "metadata": {
        "id": "44wgVcdVdBIV",
        "colab": {
          "base_uri": "https://localhost:8080/"
        },
        "outputId": "6804ceda-2dac-4008-b8b5-1176139d7a47"
      },
      "execution_count": null,
      "outputs": [
        {
          "output_type": "stream",
          "name": "stdout",
          "text": [
            "Fitting 3 folds for each of 20 candidates, totalling 60 fits\n",
            "best parameters:  {'gamma': 0.04826716626982286, 'lamda': 0.9295132111180016, 'learning_rate': 0.4254722439429356, 'min_child_weight': 1.846612800783459}\n",
            "best score:  0.9561105357310987\n"
          ]
        }
      ]
    },
    {
      "cell_type": "code",
      "source": [
        "xgb_clf_mix = XGBClassifier(objective='binary:logistic', \n",
        "                          n_estimators=100,\n",
        "                          gamma=params['gamma'],\n",
        "                          lamda=params['lamda'],\n",
        "                          learning_rate=params['learning_rate'],\n",
        "                          min_child_weight=params['min_child_weight'],\n",
        "                          tree_method='hist',\n",
        "                          seed=42)\n",
        "xgb_clf_mix.fit(X_mix_train_pca, y_mix_train)"
      ],
      "metadata": {
        "colab": {
          "base_uri": "https://localhost:8080/"
        },
        "id": "Z2fkhv0d-DcJ",
        "outputId": "1d9e46d6-ee17-4da8-900e-9e985b8827de"
      },
      "execution_count": null,
      "outputs": [
        {
          "output_type": "execute_result",
          "data": {
            "text/plain": [
              "XGBClassifier(gamma=0.04826716626982286, lamda=0.9295132111180016,\n",
              "              learning_rate=0.4254722439429356,\n",
              "              min_child_weight=1.846612800783459, seed=42, tree_method='hist')"
            ]
          },
          "metadata": {},
          "execution_count": 36
        }
      ]
    },
    {
      "cell_type": "markdown",
      "source": [
        "In all of the training datasets, cross validation recall score is above 0.95, which is extremely high. The result from cross validation can be compared with the test set. "
      ],
      "metadata": {
        "id": "_sFJnzl18EJY"
      }
    },
    {
      "cell_type": "markdown",
      "source": [
        "###**7. Predictions**"
      ],
      "metadata": {
        "id": "JbMoGajiYVli"
      }
    },
    {
      "cell_type": "markdown",
      "source": [
        "This section performs predictions to visualize result in the next section. It is important to keep in mind that the principle components are different between datasets, and corresponding trasnformed test datasets need to be used for performing predictions."
      ],
      "metadata": {
        "id": "x-9hdgDC8exm"
      }
    },
    {
      "cell_type": "code",
      "source": [
        "# case 1\n",
        "pred_ex = xgb_clf_ex.predict(X_ex_test_pca)\n",
        "# case 2\n",
        "pred_in = xgb_clf_in.predict(X_in_test_pca)\n",
        "# case 3\n",
        "pred_mix = xgb_clf_mix.predict(X_mix_test_pca)"
      ],
      "metadata": {
        "id": "bPs-91HKYVPG"
      },
      "execution_count": null,
      "outputs": []
    },
    {
      "cell_type": "markdown",
      "source": [
        "###**8. Visualization and Conclusion**"
      ],
      "metadata": {
        "id": "jvq62y__85KN"
      }
    },
    {
      "cell_type": "markdown",
      "source": [
        "For the visualizations, classifcation report and confusion matrix are made for each case. The macro recall is compared with the cross validation result. Also, the plot function is utilized to see what kind of predictions are made to the test images. "
      ],
      "metadata": {
        "id": "t5w-1me--Sg5"
      }
    },
    {
      "cell_type": "markdown",
      "source": [
        "**Case 1: External Dataset**"
      ],
      "metadata": {
        "id": "UUXSJ1WQ-JxR"
      }
    },
    {
      "cell_type": "code",
      "source": [
        "print(classification_report(y_test, pred_ex))"
      ],
      "metadata": {
        "colab": {
          "base_uri": "https://localhost:8080/"
        },
        "id": "liU_Paj83WfI",
        "outputId": "898ceb51-47cf-43ec-9389-9534caa56d5d"
      },
      "execution_count": null,
      "outputs": [
        {
          "output_type": "stream",
          "name": "stdout",
          "text": [
            "              precision    recall  f1-score   support\n",
            "\n",
            "           0       0.70      0.49      0.58       316\n",
            "           1       0.79      0.91      0.85       690\n",
            "\n",
            "    accuracy                           0.77      1006\n",
            "   macro avg       0.75      0.70      0.71      1006\n",
            "weighted avg       0.77      0.77      0.76      1006\n",
            "\n"
          ]
        }
      ]
    },
    {
      "cell_type": "code",
      "source": [
        "cm = confusion_matrix(y_test, pred_ex)\n",
        "disp = ConfusionMatrixDisplay(confusion_matrix=cm)\n",
        "\n",
        "rcParams['figure.figsize'] = 6,6\n",
        "disp.plot()\n",
        "plt.show()"
      ],
      "metadata": {
        "colab": {
          "base_uri": "https://localhost:8080/",
          "height": 359
        },
        "id": "TEO2zRlc3Yk2",
        "outputId": "974dec9f-4f18-417e-8ef3-07481d9c997a"
      },
      "execution_count": null,
      "outputs": [
        {
          "output_type": "display_data",
          "data": {
            "text/plain": [
              "<Figure size 432x432 with 2 Axes>"
            ],
            "image/png": "[encoded data removed]"
          },
          "metadata": {
            "needs_background": "light"
          }
        }
      ]
    },
    {
      "cell_type": "markdown",
      "source": [
        "**Case 2: Personal Dataset**"
      ],
      "metadata": {
        "id": "u4VZPY1J-qNm"
      }
    },
    {
      "cell_type": "code",
      "source": [
        "print(classification_report(y_test, pred_in))"
      ],
      "metadata": {
        "colab": {
          "base_uri": "https://localhost:8080/"
        },
        "id": "XinZIH2y-gOn",
        "outputId": "614a8f90-0c6b-4064-9f03-660aab3d8d99"
      },
      "execution_count": null,
      "outputs": [
        {
          "output_type": "stream",
          "name": "stdout",
          "text": [
            "              precision    recall  f1-score   support\n",
            "\n",
            "           0       0.66      0.77      0.71       316\n",
            "           1       0.88      0.82      0.85       690\n",
            "\n",
            "    accuracy                           0.80      1006\n",
            "   macro avg       0.77      0.79      0.78      1006\n",
            "weighted avg       0.81      0.80      0.80      1006\n",
            "\n"
          ]
        }
      ]
    },
    {
      "cell_type": "code",
      "source": [
        "cm = confusion_matrix(y_test, pred_in)\n",
        "disp = ConfusionMatrixDisplay(confusion_matrix=cm)\n",
        "\n",
        "rcParams['figure.figsize'] = 6,6\n",
        "disp.plot()\n",
        "plt.show()"
      ],
      "metadata": {
        "colab": {
          "base_uri": "https://localhost:8080/",
          "height": 359
        },
        "id": "698iT-2k-l5d",
        "outputId": "43149574-6ca5-4a94-df26-d95106bf11a3"
      },
      "execution_count": null,
      "outputs": [
        {
          "output_type": "display_data",
          "data": {
            "text/plain": [
              "<Figure size 432x432 with 2 Axes>"
            ],
            "image/png": "[encoded data removed]"
          },
          "metadata": {
            "needs_background": "light"
          }
        }
      ]
    },
    {
      "cell_type": "markdown",
      "source": [
        "**Case 3: Mixed Dataset**"
      ],
      "metadata": {
        "id": "j9-ZQ7Lq-vI9"
      }
    },
    {
      "cell_type": "code",
      "source": [
        "print(classification_report(y_test, pred_mix))"
      ],
      "metadata": {
        "colab": {
          "base_uri": "https://localhost:8080/"
        },
        "id": "yxu81qKH-zeE",
        "outputId": "d6ccd23b-9e6a-43cf-cebf-8f1353a3be85"
      },
      "execution_count": null,
      "outputs": [
        {
          "output_type": "stream",
          "name": "stdout",
          "text": [
            "              precision    recall  f1-score   support\n",
            "\n",
            "           0       0.94      0.95      0.94       316\n",
            "           1       0.98      0.97      0.97       690\n",
            "\n",
            "    accuracy                           0.96      1006\n",
            "   macro avg       0.96      0.96      0.96      1006\n",
            "weighted avg       0.96      0.96      0.96      1006\n",
            "\n"
          ]
        }
      ]
    },
    {
      "cell_type": "code",
      "source": [
        "cm = confusion_matrix(y_test, pred_mix)\n",
        "disp = ConfusionMatrixDisplay(confusion_matrix=cm)\n",
        "\n",
        "rcParams['figure.figsize'] = 6,6\n",
        "disp.plot()\n",
        "plt.show()"
      ],
      "metadata": {
        "colab": {
          "base_uri": "https://localhost:8080/",
          "height": 359
        },
        "id": "kIuhB5JE-22F",
        "outputId": "82ff3b91-4540-4233-e46c-455b06ecc996"
      },
      "execution_count": null,
      "outputs": [
        {
          "output_type": "display_data",
          "data": {
            "text/plain": [
              "<Figure size 432x432 with 2 Axes>"
            ],
            "image/png": "[encoded data removed]"
          },
          "metadata": {
            "needs_background": "light"
          }
        }
      ]
    },
    {
      "cell_type": "code",
      "source": [
        "# change pred to see the predictions from different models\n",
        "plot_rand_imgs(X_test, img_size, pred=pred_mix, actual=y_test)"
      ],
      "metadata": {
        "id": "rOExU3k3CQmK"
      },
      "execution_count": null,
      "outputs": []
    },
    {
      "cell_type": "markdown",
      "source": [
        "####**Conclusion**"
      ],
      "metadata": {
        "id": "q24qnY4t-810"
      }
    },
    {
      "cell_type": "markdown",
      "source": [
        "In case 1 and 2, the recall is around 0.75, while the cross validation scores were around 0.95. This signifies the possibility of overfitting. It was expected as data was skewed from the start. Furthermore, the model has technically seen half of the faces in test dataset. If the model learns to classify the faces in training dataset, they can guess randomely for the unseen faces to achieve recall around 0.75. Thus, it is likely that the model has learned to classify images themselves in the training dataset, rather than sobriety.\n",
        "\n",
        "The performance of the classification is exceptionally high for the mixed dataset, case 3, for both cross validation and test dataset. However, it is important to be skeptical for this extremely good result. The outcome is likely from the small number of face used to train the model that made the model learn really well to classify individual faces rather than classifying sobriety level. The data augumentation is performed, but the model has technically seen all of the faces present in the dataset.\n",
        "\n",
        "However, the experiment could find XGBoost's classification capability and speed to fit the data after dimensionality reduction, which becomes useful in future work. "
      ],
      "metadata": {
        "id": "vLSNnGsVWAZz"
      }
    },
    {
      "cell_type": "markdown",
      "source": [
        "**Future Implication**"
      ],
      "metadata": {
        "id": "QtvTa1NkYi_3"
      }
    },
    {
      "cell_type": "markdown",
      "source": [
        "The project confirmed the limitation of data augumentation as a way to solve the problem of having small dataset. In the future, it is necessary to collect more data to train the model to focus on classifying sober and drunk individuals. Ideally, the dataset should contain the data of same individuals with differing sobriety level like external dataset to make the model not to learn to perform facial recognition.  \n",
        "\n",
        "Another potential problem can be the information lost during resizing of the image. For fast and less momory intensive training, the image size is set to be 32 by 32 pixels, which is small. Also, PCA only extract covariance of the data meaning they only retain the linear correlation of the data. Hence, when the data is complex and non-linearly correlated, PCA can greatly reduce the information of the data. Autoencoder can retain non-linear relationships between features while reducing the dimensions by using deep learning. Thus, pretrained autoencoders can be tested to see if they can increase the performance. (Muaz, U, 2019)\n",
        "\n",
        "Furthermore, behavioral based intoxication recognition is traditionally conducted on videos and audio. In the future, CNN-RNN based machine learning model can be trained to classify the sober from drunk people to see if having more features and datapoints can help increase the classification performance. "
      ],
      "metadata": {
        "id": "Qmq5ZqaWYo_R"
      }
    },
    {
      "cell_type": "markdown",
      "source": [
        "###**9. Executive Summary**"
      ],
      "metadata": {
        "id": "DWrztNoH_IHL"
      }
    },
    {
      "cell_type": "markdown",
      "source": [
        "The PCA and XGBoost technique is trained on external datasets and personal datasets to classify sober and drunk faces. The faces are extracted from the images using OpenCV haarcascade model, and all of the facial images were augumented to amplify the size of the dataset to cope with the small size of initial dataset. \n",
        "\n",
        "Then, the results from training the model only on external and personal datasets, and on mixture of both datasets of same size are compared. The comparison revealed the possibility that the model has learned to classify faces themselves rather than learning to classify sober from drunk. This revelas the limitation of data augumentation and importance of data used.\n",
        "\n",
        "Finally, the paper has drawn futher implications of the work as the collection of better quality and larger data, the use of pretrained autoencoders for better dimensionality reduction, and the use of different datatypes such as video and audio that captures behavioral changes better and corresponding machine learning models. "
      ],
      "metadata": {
        "id": "LOuBQcNlcgQm"
      }
    },
    {
      "cell_type": "markdown",
      "source": [
        "###**10. References**"
      ],
      "metadata": {
        "id": "NEhu0wOW_NeI"
      }
    },
    {
      "cell_type": "markdown",
      "source": [
        "Chang, J., Hoke, T., Dastjerdi, P. & Kumar, H. 2019. Sobr. https://github.com/hoke-t/Sobr\n",
        "\n",
        "Jaadi, Z. 2022. A Step-by-Step Explanation of Principal Component Analysis (PCA). https://builtin.com/data-science/step-step-explanation-principal-component-analysis\n",
        "\n",
        "Muaz, U. 2019. Autoencoders vs PCA: when to use ?. https://towardsdatascience.com/autoencoders-vs-pca-when-to-use-which-73de063f5d7\n",
        "\n",
        "n.d. 2014. OpenCV. https://github.com/kipr/opencv\n",
        "\n",
        "NDIVIA.n.d. XGBoost. https://www.nvidia.com/en-us/glossary/data-science/xgboost/\n",
        "\n",
        "StatQuest. 2020. XGBoost Part 2 (of 4): Classification. https://www.youtube.com/watch?v=8b1JEDvenQU&t=2s\n",
        "\n",
        "StatQuest. 2020. XGBoost Part 3 (of 4): Mathematical Details. https://www.youtube.com/watch?v=ZVFeW798-2I\n",
        "\n"
      ],
      "metadata": {
        "id": "vIeoIji-SfuT"
      }
    },
    {
      "cell_type": "markdown",
      "source": [
        "LINK for the Google Colab: https://colab.research.google.com/drive/1JZAiS3sdIEixb-XdTQkJ5KqtFryppggo?usp=sharing"
      ],
      "metadata": {
        "id": "8f9W9JKucPZ_"
      }
    }
  ]
}