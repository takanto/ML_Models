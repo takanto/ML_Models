{
  "nbformat": 4,
  "nbformat_minor": 0,
  "metadata": {
    "colab": {
      "provenance": []
    },
    "kernelspec": {
      "name": "python3",
      "display_name": "Python 3"
    },
    "language_info": {
      "name": "python"
    }
  },
  "cells": [
    {
      "cell_type": "markdown",
      "source": [
        "### **LSTM for 1D sequential data**\n"
      ],
      "metadata": {
        "id": "DmAb1xJoX5FK"
      }
    },
    {
      "cell_type": "code",
      "execution_count": null,
      "metadata": {
        "id": "LqZgyI-jXqOh"
      },
      "outputs": [],
      "source": [
        "import tensorflow as tf"
      ]
    },
    {
      "cell_type": "code",
      "source": [
        "import numpy as np\n",
        "import pandas as pd\n",
        "import matplotlib.pyplot as plt\n",
        "from sklearn.model_selection import train_test_split\n",
        "\n",
        "from tensorflow.keras.layers import Input, Dense, GlobalMaxPooling1D, LSTM\n",
        "from tensorflow.keras.models import Model"
      ],
      "metadata": {
        "id": "b32fXCmqYDNw"
      },
      "execution_count": null,
      "outputs": []
    },
    {
      "cell_type": "code",
      "source": [
        "resolver = tf.distribute.cluster_resolver.TPUClusterResolver(tpu=\"\")\n",
        "tf.config.experimental_connect_to_cluster(resolver)\n",
        "tf.tpu.experimental.initialize_tpu_system(resolver)\n",
        "print(\"all devices:\", tf.config.list_logical_devices(\"TPU\"))"
      ],
      "metadata": {
        "id": "TmQOjLlYYK51"
      },
      "execution_count": null,
      "outputs": []
    },
    {
      "cell_type": "code",
      "source": [
        "strategy = tf.distribute.TPUStrategy(resolver)"
      ],
      "metadata": {
        "id": "8vZf-_rJYrqO"
      },
      "execution_count": null,
      "outputs": []
    },
    {
      "cell_type": "code",
      "source": [
        "!unzip data.zip"
      ],
      "metadata": {
        "id": "xH1oh0FJYum9"
      },
      "execution_count": null,
      "outputs": []
    },
    {
      "cell_type": "code",
      "source": [
        "df = pd.read_csv('data/accelerometer.csv')"
      ],
      "metadata": {
        "id": "SCcgj5PsY-uW"
      },
      "execution_count": null,
      "outputs": []
    },
    {
      "cell_type": "code",
      "source": [
        "df.head()"
      ],
      "metadata": {
        "id": "82u2Lph9aw9q"
      },
      "execution_count": null,
      "outputs": []
    },
    {
      "cell_type": "code",
      "source": [
        "# make sure we have sequential data on the first column and drunkness on the right\n",
        "x = df[0]\n",
        "y = df[1]"
      ],
      "metadata": {
        "id": "OWTk5INaa0bA"
      },
      "execution_count": null,
      "outputs": []
    },
    {
      "cell_type": "code",
      "source": [
        "x_train, x_test, y_train, y_test = train_test_split(x, y, test_size = 0.33)"
      ],
      "metadata": {
        "id": "zsIUvLCrbIuA"
      },
      "execution_count": null,
      "outputs": []
    },
    {
      "cell_type": "code",
      "source": [
        "D = 16\n",
        "D"
      ],
      "metadata": {
        "id": "bgdQoAyDbihB",
        "colab": {
          "base_uri": "https://localhost:8080/"
        },
        "outputId": "7c9cab95-ed64-48ba-f4c3-2e7e5ebbaa93"
      },
      "execution_count": null,
      "outputs": [
        {
          "output_type": "execute_result",
          "data": {
            "text/plain": [
              "16"
            ]
          },
          "metadata": {},
          "execution_count": 4
        }
      ]
    },
    {
      "cell_type": "code",
      "source": [
        "def build_LSTM():\n",
        "  i = Input((D,))\n",
        "  x = LSTM(M, return_sequences=True)(i)\n",
        "  x = GlobalMaxPooling1D()(x)\n",
        "  x = Dense(1, activation=\"sigmoid\")(x)\n",
        "\n",
        "  model = Model(i, x)\n",
        "  return model"
      ],
      "metadata": {
        "id": "gpk-h2aTbN00"
      },
      "execution_count": null,
      "outputs": []
    },
    {
      "cell_type": "code",
      "source": [
        "M = 10\n",
        "with strategy.scope():\n",
        "  LSTM = build_LSTM()\n",
        "  LSTM.compile(optimizer=\"adam\",\n",
        "                loss = \"binary_crossentropy\",\n",
        "                metrics = [\"accuracy\"])\n",
        "  r = LSTM.fit(x_train, y_train, validation_data = (x_test, y_test), epochs = 10)"
      ],
      "metadata": {
        "id": "k3tC4iHrcKyz"
      },
      "execution_count": null,
      "outputs": []
    },
    {
      "cell_type": "code",
      "source": [
        "LSTM.save('LSTM.h5')\n",
        "\n",
        "LSTM_weights = LSTM.get_weights()\n",
        "model_dir = \"model_dir\"\n",
        "if not os.path.exists(model_dir):\n",
        "  os.makedirs(model_dir)\n",
        "np.save(os.path.join(model_dir, 'LSTM_weights'), LSTM_weights)"
      ],
      "metadata": {
        "id": "GiRKPYdaeD39"
      },
      "execution_count": null,
      "outputs": []
    },
    {
      "cell_type": "code",
      "source": [
        "plt.plot(r.history['loss'], label='loss')\n",
        "plt.plot(r.history['val_loss'], label='val_loss')\n",
        "plt.legend()\n",
        "plt.show()"
      ],
      "metadata": {
        "id": "4xMlCirWc29_"
      },
      "execution_count": null,
      "outputs": []
    },
    {
      "cell_type": "code",
      "source": [
        "plt.plot(r.history['accuracy'], label='acc')\n",
        "plt.plot(r.history['val_accuracy'], label='val_acc')\n",
        "plt.legend()\n",
        "plt.show()"
      ],
      "metadata": {
        "id": "MZnQLqTTc58L"
      },
      "execution_count": null,
      "outputs": []
    },
    {
      "cell_type": "code",
      "source": [
        "converter = tf.lite.TFLiteConverter.from_keras_model(LSTM) \n",
        "tflite_model = converter.convert()\n",
        "\n",
        "with open(\"LSTM.tflite\", \"wb\") as f:\n",
        "  f.write(tflite_model)"
      ],
      "metadata": {
        "id": "WG-H7r-kc7-z"
      },
      "execution_count": null,
      "outputs": []
    },
    {
      "cell_type": "markdown",
      "source": [
        "### **ANN version**"
      ],
      "metadata": {
        "id": "KFRwzBHTeyqJ"
      }
    },
    {
      "cell_type": "code",
      "source": [
        "D = 16\n",
        "def build_ANN():\n",
        "  i = Input((D,))\n",
        "  x = Dense(1, activation='sigmoid')(i)\n",
        "\n",
        "  model = Model(i,x)\n",
        "\n",
        "  return model"
      ],
      "metadata": {
        "id": "D01q2K_fe208"
      },
      "execution_count": null,
      "outputs": []
    },
    {
      "cell_type": "code",
      "source": [
        "with strategy.scope():\n",
        "  ANN = build_ANN()\n",
        "  ANN.compile(optimizer=\"adam\",\n",
        "                loss = \"binary_crossentropy\",\n",
        "                metrics = [\"accuracy\"])\n",
        "  r = ANN.fit(x_train, y_train, validation_data = (x_test, y_test), epochs = 10)"
      ],
      "metadata": {
        "id": "cyvIbw-4nBPV",
        "colab": {
          "base_uri": "https://localhost:8080/",
          "height": 249
        },
        "outputId": "f96d990a-4711-49c6-c48b-4fb46982ee93"
      },
      "execution_count": null,
      "outputs": [
        {
          "output_type": "error",
          "ename": "NameError",
          "evalue": "ignored",
          "traceback": [
            "\u001b[0;31m---------------------------------------------------------------------------\u001b[0m",
            "\u001b[0;31mNameError\u001b[0m                                 Traceback (most recent call last)",
            "\u001b[0;32m<ipython-input-21-bd4c045e5347>\u001b[0m in \u001b[0;36m<module>\u001b[0;34m\u001b[0m\n\u001b[0;32m----> 1\u001b[0;31m \u001b[0;32mwith\u001b[0m \u001b[0mstrategy\u001b[0m\u001b[0;34m.\u001b[0m\u001b[0mscope\u001b[0m\u001b[0;34m(\u001b[0m\u001b[0;34m)\u001b[0m\u001b[0;34m:\u001b[0m\u001b[0;34m\u001b[0m\u001b[0;34m\u001b[0m\u001b[0m\n\u001b[0m\u001b[1;32m      2\u001b[0m   \u001b[0mANN\u001b[0m \u001b[0;34m=\u001b[0m \u001b[0mbuild_ANN\u001b[0m\u001b[0;34m(\u001b[0m\u001b[0;34m)\u001b[0m\u001b[0;34m\u001b[0m\u001b[0;34m\u001b[0m\u001b[0m\n\u001b[1;32m      3\u001b[0m   ANN.compile(optimizer=\"adam\",\n\u001b[1;32m      4\u001b[0m                 \u001b[0mloss\u001b[0m \u001b[0;34m=\u001b[0m \u001b[0;34m\"binary_crossentropy\"\u001b[0m\u001b[0;34m,\u001b[0m\u001b[0;34m\u001b[0m\u001b[0;34m\u001b[0m\u001b[0m\n\u001b[1;32m      5\u001b[0m                 metrics = [\"accuracy\"])\n",
            "\u001b[0;31mNameError\u001b[0m: name 'strategy' is not defined"
          ]
        }
      ]
    },
    {
      "cell_type": "code",
      "source": [
        "ANN = build_ANN()\n",
        "ANN.compile(optimizer=\"adam\",\n",
        "            loss = \"binary_crossentropy\",\n",
        "            metrics = [\"accuracy\"])"
      ],
      "metadata": {
        "id": "pjeMpMb0pnWJ"
      },
      "execution_count": null,
      "outputs": []
    },
    {
      "cell_type": "code",
      "source": [
        "ANN.save('ANN.h5')\n",
        "\n",
        "ANN_weights = ANN.get_weights()\n",
        "model_dir = \"model_dir\"\n",
        "if not os.path.exists(model_dir):\n",
        "  os.makedirs(model_dir)\n",
        "np.save(os.path.join(model_dir, 'ANN_weights'), ANN_weights)"
      ],
      "metadata": {
        "id": "kLTRtqB9nKgm"
      },
      "execution_count": null,
      "outputs": []
    },
    {
      "cell_type": "code",
      "source": [
        "plt.plot(r.history['loss'], label='loss')\n",
        "plt.plot(r.history['val_loss'], label='val_loss')\n",
        "plt.legend()\n",
        "plt.show()"
      ],
      "metadata": {
        "id": "DGqy8L9qnSwc"
      },
      "execution_count": null,
      "outputs": []
    },
    {
      "cell_type": "code",
      "source": [
        "plt.plot(r.history['accuracy'], label='acc')\n",
        "plt.plot(r.history['val_accuracy'], label='val_acc')\n",
        "plt.legend()\n",
        "plt.show()"
      ],
      "metadata": {
        "id": "3SxQTaEenTb6"
      },
      "execution_count": null,
      "outputs": []
    },
    {
      "cell_type": "code",
      "source": [
        "converter = tf.lite.TFLiteConverter.from_keras_model(ANN) \n",
        "tflite_model = converter.convert()\n",
        "\n",
        "with open(\"ANN.tflite\", \"wb\") as f:\n",
        "  f.write(tflite_model)"
      ],
      "metadata": {
        "id": "3mBYTSHxnVOI"
      },
      "execution_count": null,
      "outputs": []
    }
  ]
}