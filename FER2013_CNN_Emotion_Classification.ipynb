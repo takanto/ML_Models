{
  "nbformat": 4,
  "nbformat_minor": 0,
  "metadata": {
    "colab": {
      "provenance": []
    },
    "kernelspec": {
      "name": "python3",
      "display_name": "Python 3"
    },
    "language_info": {
      "name": "python"
    },
    "gpuClass": "standard",
    "accelerator": "GPU"
  },
  "cells": [
    {
      "cell_type": "code",
      "execution_count": null,
      "metadata": {
        "colab": {
          "base_uri": "https://localhost:8080/"
        },
        "id": "ptcxrmNyErvv",
        "outputId": "70dfa0bc-8575-4329-a83c-1f4f147a38c4"
      },
      "outputs": [
        {
          "output_type": "stream",
          "name": "stdout",
          "text": [
            "Looking in indexes: https://pypi.org/simple, https://us-python.pkg.dev/colab-wheels/public/simple/\n",
            "Collecting opendatasets\n",
            "  Downloading opendatasets-0.1.22-py3-none-any.whl (15 kB)\n",
            "Requirement already satisfied: tqdm in /usr/local/lib/python3.8/dist-packages (from opendatasets) (4.64.1)\n",
            "Requirement already satisfied: kaggle in /usr/local/lib/python3.8/dist-packages (from opendatasets) (1.5.12)\n",
            "Requirement already satisfied: click in /usr/local/lib/python3.8/dist-packages (from opendatasets) (8.1.3)\n",
            "Requirement already satisfied: requests in /usr/local/lib/python3.8/dist-packages (from kaggle->opendatasets) (2.25.1)\n",
            "Requirement already satisfied: certifi in /usr/local/lib/python3.8/dist-packages (from kaggle->opendatasets) (2022.12.7)\n",
            "Requirement already satisfied: six>=1.10 in /usr/local/lib/python3.8/dist-packages (from kaggle->opendatasets) (1.15.0)\n",
            "Requirement already satisfied: python-dateutil in /usr/local/lib/python3.8/dist-packages (from kaggle->opendatasets) (2.8.2)\n",
            "Requirement already satisfied: urllib3 in /usr/local/lib/python3.8/dist-packages (from kaggle->opendatasets) (1.26.14)\n",
            "Requirement already satisfied: python-slugify in /usr/local/lib/python3.8/dist-packages (from kaggle->opendatasets) (8.0.1)\n",
            "Requirement already satisfied: text-unidecode>=1.3 in /usr/local/lib/python3.8/dist-packages (from python-slugify->kaggle->opendatasets) (1.3)\n",
            "Requirement already satisfied: chardet<5,>=3.0.2 in /usr/local/lib/python3.8/dist-packages (from requests->kaggle->opendatasets) (4.0.0)\n",
            "Requirement already satisfied: idna<3,>=2.5 in /usr/local/lib/python3.8/dist-packages (from requests->kaggle->opendatasets) (2.10)\n",
            "Installing collected packages: opendatasets\n",
            "Successfully installed opendatasets-0.1.22\n"
          ]
        }
      ],
      "source": [
        "!pip install opendatasets\n",
        "\n",
        "import pandas as pd\n",
        "import os\n",
        "import opendatasets as od"
      ]
    },
    {
      "cell_type": "code",
      "source": [
        "from matplotlib import pyplot\n",
        "from math import sqrt \n",
        "import numpy as np \n",
        "import scipy.misc \n",
        "from IPython.display import display \n",
        "from keras.utils import np_utils\n",
        "from tensorflow.keras.preprocessing.image import ImageDataGenerator \n",
        "from tensorflow.keras.utils import plot_model\n",
        "from tensorflow.keras.models import Model\n",
        "from tensorflow.keras.layers import Input, Dense, Flatten, Dropout, BatchNormalization\n",
        "from tensorflow.keras.layers import Conv2D\n",
        "from tensorflow.keras.layers import MaxPooling2D\n",
        "#from keras.layers.merge import concatenate\n",
        "from tensorflow.keras.optimizers import Adam, SGD\n",
        "from tensorflow.keras.regularizers import l1, l2\n",
        "from matplotlib import pyplot as plt\n",
        "from sklearn.metrics import confusion_matrix\n",
        "import itertools\n",
        "%matplotlib inline"
      ],
      "metadata": {
        "id": "DydpqjJ9Iyr-"
      },
      "execution_count": null,
      "outputs": []
    },
    {
      "cell_type": "code",
      "source": [
        "dataset = 'https://www.kaggle.com/datasets/deadskull7/fer2013'\n",
        "\n",
        "od.download(dataset)"
      ],
      "metadata": {
        "colab": {
          "base_uri": "https://localhost:8080/"
        },
        "id": "SBKQMauPFDzt",
        "outputId": "c926a1f1-19ef-4633-fa3b-fafb4e1a50e4"
      },
      "execution_count": null,
      "outputs": [
        {
          "output_type": "stream",
          "name": "stdout",
          "text": [
            "Please provide your Kaggle credentials to download this dataset. Learn more: http://bit.ly/kaggle-creds\n",
            "Your Kaggle username: takanto\n",
            "Your Kaggle Key: ··········\n",
            "Downloading fer2013.zip to ./fer2013\n"
          ]
        },
        {
          "output_type": "stream",
          "name": "stderr",
          "text": [
            "100%|██████████| 96.6M/96.6M [00:05<00:00, 19.1MB/s]\n"
          ]
        },
        {
          "output_type": "stream",
          "name": "stdout",
          "text": [
            "\n"
          ]
        }
      ]
    },
    {
      "cell_type": "code",
      "source": [
        "df = pd.read_csv('fer2013/fer2013.csv')\n",
        "\n",
        "df.head()"
      ],
      "metadata": {
        "colab": {
          "base_uri": "https://localhost:8080/",
          "height": 206
        },
        "id": "NKOm0JtrFZHE",
        "outputId": "fd7aaa66-4f54-44ae-e1e0-9b5ce7decd1a"
      },
      "execution_count": null,
      "outputs": [
        {
          "output_type": "execute_result",
          "data": {
            "text/plain": [
              "   emotion                                             pixels     Usage\n",
              "0        0  70 80 82 72 58 58 60 63 54 58 60 48 89 115 121...  Training\n",
              "1        0  151 150 147 155 148 133 111 140 170 174 182 15...  Training\n",
              "2        2  231 212 156 164 174 138 161 173 182 200 106 38...  Training\n",
              "3        4  24 32 36 30 32 23 19 20 30 41 21 22 32 34 21 1...  Training\n",
              "4        6  4 0 0 0 0 0 0 0 0 0 0 0 3 15 23 28 48 50 58 84...  Training"
            ],
            "text/html": [
              "\n",
              "  <div id=\"df-76dac735-f682-4114-ae94-5d0eb23a17e6\">\n",
              "    <div class=\"colab-df-container\">\n",
              "      <div>\n",
              "<style scoped>\n",
              "    .dataframe tbody tr th:only-of-type {\n",
              "        vertical-align: middle;\n",
              "    }\n",
              "\n",
              "    .dataframe tbody tr th {\n",
              "        vertical-align: top;\n",
              "    }\n",
              "\n",
              "    .dataframe thead th {\n",
              "        text-align: right;\n",
              "    }\n",
              "</style>\n",
              "<table border=\"1\" class=\"dataframe\">\n",
              "  <thead>\n",
              "    <tr style=\"text-align: right;\">\n",
              "      <th></th>\n",
              "      <th>emotion</th>\n",
              "      <th>pixels</th>\n",
              "      <th>Usage</th>\n",
              "    </tr>\n",
              "  </thead>\n",
              "  <tbody>\n",
              "    <tr>\n",
              "      <th>0</th>\n",
              "      <td>0</td>\n",
              "      <td>70 80 82 72 58 58 60 63 54 58 60 48 89 115 121...</td>\n",
              "      <td>Training</td>\n",
              "    </tr>\n",
              "    <tr>\n",
              "      <th>1</th>\n",
              "      <td>0</td>\n",
              "      <td>151 150 147 155 148 133 111 140 170 174 182 15...</td>\n",
              "      <td>Training</td>\n",
              "    </tr>\n",
              "    <tr>\n",
              "      <th>2</th>\n",
              "      <td>2</td>\n",
              "      <td>231 212 156 164 174 138 161 173 182 200 106 38...</td>\n",
              "      <td>Training</td>\n",
              "    </tr>\n",
              "    <tr>\n",
              "      <th>3</th>\n",
              "      <td>4</td>\n",
              "      <td>24 32 36 30 32 23 19 20 30 41 21 22 32 34 21 1...</td>\n",
              "      <td>Training</td>\n",
              "    </tr>\n",
              "    <tr>\n",
              "      <th>4</th>\n",
              "      <td>6</td>\n",
              "      <td>4 0 0 0 0 0 0 0 0 0 0 0 3 15 23 28 48 50 58 84...</td>\n",
              "      <td>Training</td>\n",
              "    </tr>\n",
              "  </tbody>\n",
              "</table>\n",
              "</div>\n",
              "      <button class=\"colab-df-convert\" onclick=\"convertToInteractive('df-76dac735-f682-4114-ae94-5d0eb23a17e6')\"\n",
              "              title=\"Convert this dataframe to an interactive table.\"\n",
              "              style=\"display:none;\">\n",
              "        \n",
              "  <svg xmlns=\"http://www.w3.org/2000/svg\" height=\"24px\"viewBox=\"0 0 24 24\"\n",
              "       width=\"24px\">\n",
              "    <path d=\"M0 0h24v24H0V0z\" fill=\"none\"/>\n",
              "    <path d=\"M18.56 5.44l.94 2.06.94-2.06 2.06-.94-2.06-.94-.94-2.06-.94 2.06-2.06.94zm-11 1L8.5 8.5l.94-2.06 2.06-.94-2.06-.94L8.5 2.5l-.94 2.06-2.06.94zm10 10l.94 2.06.94-2.06 2.06-.94-2.06-.94-.94-2.06-.94 2.06-2.06.94z\"/><path d=\"M17.41 7.96l-1.37-1.37c-.4-.4-.92-.59-1.43-.59-.52 0-1.04.2-1.43.59L10.3 9.45l-7.72 7.72c-.78.78-.78 2.05 0 2.83L4 21.41c.39.39.9.59 1.41.59.51 0 1.02-.2 1.41-.59l7.78-7.78 2.81-2.81c.8-.78.8-2.07 0-2.86zM5.41 20L4 18.59l7.72-7.72 1.47 1.35L5.41 20z\"/>\n",
              "  </svg>\n",
              "      </button>\n",
              "      \n",
              "  <style>\n",
              "    .colab-df-container {\n",
              "      display:flex;\n",
              "      flex-wrap:wrap;\n",
              "      gap: 12px;\n",
              "    }\n",
              "\n",
              "    .colab-df-convert {\n",
              "      background-color: #E8F0FE;\n",
              "      border: none;\n",
              "      border-radius: 50%;\n",
              "      cursor: pointer;\n",
              "      display: none;\n",
              "      fill: #1967D2;\n",
              "      height: 32px;\n",
              "      padding: 0 0 0 0;\n",
              "      width: 32px;\n",
              "    }\n",
              "\n",
              "    .colab-df-convert:hover {\n",
              "      background-color: #E2EBFA;\n",
              "      box-shadow: 0px 1px 2px rgba(60, 64, 67, 0.3), 0px 1px 3px 1px rgba(60, 64, 67, 0.15);\n",
              "      fill: #174EA6;\n",
              "    }\n",
              "\n",
              "    [theme=dark] .colab-df-convert {\n",
              "      background-color: #3B4455;\n",
              "      fill: #D2E3FC;\n",
              "    }\n",
              "\n",
              "    [theme=dark] .colab-df-convert:hover {\n",
              "      background-color: #434B5C;\n",
              "      box-shadow: 0px 1px 3px 1px rgba(0, 0, 0, 0.15);\n",
              "      filter: drop-shadow(0px 1px 2px rgba(0, 0, 0, 0.3));\n",
              "      fill: #FFFFFF;\n",
              "    }\n",
              "  </style>\n",
              "\n",
              "      <script>\n",
              "        const buttonEl =\n",
              "          document.querySelector('#df-76dac735-f682-4114-ae94-5d0eb23a17e6 button.colab-df-convert');\n",
              "        buttonEl.style.display =\n",
              "          google.colab.kernel.accessAllowed ? 'block' : 'none';\n",
              "\n",
              "        async function convertToInteractive(key) {\n",
              "          const element = document.querySelector('#df-76dac735-f682-4114-ae94-5d0eb23a17e6');\n",
              "          const dataTable =\n",
              "            await google.colab.kernel.invokeFunction('convertToInteractive',\n",
              "                                                     [key], {});\n",
              "          if (!dataTable) return;\n",
              "\n",
              "          const docLinkHtml = 'Like what you see? Visit the ' +\n",
              "            '<a target=\"_blank\" href=https://colab.research.google.com/notebooks/data_table.ipynb>data table notebook</a>'\n",
              "            + ' to learn more about interactive tables.';\n",
              "          element.innerHTML = '';\n",
              "          dataTable['output_type'] = 'display_data';\n",
              "          await google.colab.output.renderOutput(dataTable, element);\n",
              "          const docLink = document.createElement('div');\n",
              "          docLink.innerHTML = docLinkHtml;\n",
              "          element.appendChild(docLink);\n",
              "        }\n",
              "      </script>\n",
              "    </div>\n",
              "  </div>\n",
              "  "
            ]
          },
          "metadata": {},
          "execution_count": 21
        }
      ]
    },
    {
      "cell_type": "code",
      "source": [
        "num_classes = 7\n",
        "width = 48\n",
        "height = 48\n",
        "emotion_labels = [\"Angry\", \"Disgust\", \"Fear\", \"Happy\", \"Sad\", \"Surprise\", \"Neutral\"]\n",
        "classes=np.array((\"Angry\", \"Disgust\", \"Fear\", \"Happy\", \"Sad\", \"Surprise\", \"Neutral\"))"
      ],
      "metadata": {
        "id": "LnA18jwJKDkG"
      },
      "execution_count": null,
      "outputs": []
    },
    {
      "cell_type": "code",
      "source": [
        "train_set = df[(df.Usage == 'Training')] \n",
        "val_set = df[(df.Usage == 'PublicTest')]\n",
        "test_set = df[(df.Usage == 'PrivateTest')] \n",
        "X_train = np.array(list(map(str.split, train_set.pixels)), np.float32) \n",
        "X_val = np.array(list(map(str.split, val_set.pixels)), np.float32) \n",
        "X_test = np.array(list(map(str.split, test_set.pixels)), np.float32) \n",
        "X_train = X_train.reshape(X_train.shape[0], 48, 48, 1) \n",
        "X_val = X_val.reshape(X_val.shape[0], 48, 48, 1)\n",
        "X_test = X_test.reshape(X_test.shape[0], 48, 48, 1)"
      ],
      "metadata": {
        "id": "nOsBPcauGXsz"
      },
      "execution_count": null,
      "outputs": []
    },
    {
      "cell_type": "code",
      "source": [
        "num_train = X_train.shape[0]\n",
        "num_val = X_val.shape[0]\n",
        "num_test = X_test.shape[0]"
      ],
      "metadata": {
        "id": "_WH_Rl2LI9SJ"
      },
      "execution_count": null,
      "outputs": []
    },
    {
      "cell_type": "code",
      "source": [
        "y_train = train_set.emotion \n",
        "y_train = np_utils.to_categorical(y_train, num_classes) \n",
        "y_val = val_set.emotion \n",
        "y_val = np_utils.to_categorical(y_val, num_classes) \n",
        "y_test = test_set.emotion \n",
        "y_test = np_utils.to_categorical(y_test, num_classes) "
      ],
      "metadata": {
        "id": "tU-j9nhfJCoL"
      },
      "execution_count": null,
      "outputs": []
    },
    {
      "cell_type": "code",
      "source": [
        "datagen = ImageDataGenerator( \n",
        "    rescale=1./255,\n",
        "    rotation_range = 10,\n",
        "    horizontal_flip = True,\n",
        "    width_shift_range=0.1,\n",
        "    height_shift_range=0.1,\n",
        "    fill_mode = 'nearest')\n",
        "\n",
        "testgen = ImageDataGenerator( \n",
        "    rescale=1./255\n",
        "    )\n",
        "datagen.fit(X_train)\n",
        "batch_size = 64"
      ],
      "metadata": {
        "id": "8YHRAzK6KK0F"
      },
      "execution_count": null,
      "outputs": []
    },
    {
      "cell_type": "code",
      "source": [
        "for X_batch, y_batch in datagen.flow(X_train, y_train, batch_size=9):\n",
        "    for i in range(0, 9): \n",
        "        pyplot.axis('off') \n",
        "        pyplot.subplot(330 + 1 + i) \n",
        "        pyplot.imshow(X_batch[i].reshape(48, 48), cmap=pyplot.get_cmap('gray'))\n",
        "    pyplot.axis('off') \n",
        "    pyplot.show() \n",
        "    break "
      ],
      "metadata": {
        "colab": {
          "base_uri": "https://localhost:8080/",
          "height": 248
        },
        "id": "D0VD8TYNKMEi",
        "outputId": "8fc04ebd-7347-4021-e8ed-9ce1f1ee3123"
      },
      "execution_count": null,
      "outputs": [
        {
          "output_type": "display_data",
          "data": {
            "text/plain": [
              "<Figure size 432x288 with 9 Axes>"
            ],
            "image/png": "[encoded data removed]"
          },
          "metadata": {
            "needs_background": "light"
          }
        }
      ]
    },
    {
      "cell_type": "code",
      "source": [
        "train_flow = datagen.flow(X_train, y_train, batch_size=batch_size) \n",
        "val_flow = testgen.flow(X_val, y_val, batch_size=batch_size) \n",
        "test_flow = testgen.flow(X_test, y_test, batch_size=batch_size) "
      ],
      "metadata": {
        "id": "NYOpB2K9KP27"
      },
      "execution_count": null,
      "outputs": []
    },
    {
      "cell_type": "code",
      "source": [
        "def FER_Model(input_shape=(48,48,1)):\n",
        "    # first input model\n",
        "    visible = Input(shape=input_shape, name='input')\n",
        "    num_classes = 7\n",
        "    #the 1-st block\n",
        "    conv1_1 = Conv2D(64, kernel_size=3, activation='relu', padding='same', name = 'conv1_1')(visible)\n",
        "    conv1_1 = BatchNormalization()(conv1_1)\n",
        "    conv1_2 = Conv2D(64, kernel_size=3, activation='relu', padding='same', name = 'conv1_2')(conv1_1)\n",
        "    conv1_2 = BatchNormalization()(conv1_2)\n",
        "    pool1_1 = MaxPooling2D(pool_size=(2,2), name = 'pool1_1')(conv1_2)\n",
        "    drop1_1 = Dropout(0.3, name = 'drop1_1')(pool1_1)\n",
        "\n",
        "    #the 2-nd block\n",
        "    conv2_1 = Conv2D(128, kernel_size=3, activation='relu', padding='same', name = 'conv2_1')(drop1_1)\n",
        "    conv2_1 = BatchNormalization()(conv2_1)\n",
        "    conv2_2 = Conv2D(128, kernel_size=3, activation='relu', padding='same', name = 'conv2_2')(conv2_1)\n",
        "    conv2_2 = BatchNormalization()(conv2_2)\n",
        "    conv2_3 = Conv2D(128, kernel_size=3, activation='relu', padding='same', name = 'conv2_3')(conv2_2)\n",
        "    conv2_2 = BatchNormalization()(conv2_3)\n",
        "    pool2_1 = MaxPooling2D(pool_size=(2,2), name = 'pool2_1')(conv2_3)\n",
        "    drop2_1 = Dropout(0.3, name = 'drop2_1')(pool2_1)\n",
        "\n",
        "    #the 3-rd block\n",
        "    conv3_1 = Conv2D(256, kernel_size=3, activation='relu', padding='same', name = 'conv3_1')(drop2_1)\n",
        "    conv3_1 = BatchNormalization()(conv3_1)\n",
        "    conv3_2 = Conv2D(256, kernel_size=3, activation='relu', padding='same', name = 'conv3_2')(conv3_1)\n",
        "    conv3_2 = BatchNormalization()(conv3_2)\n",
        "    conv3_3 = Conv2D(256, kernel_size=3, activation='relu', padding='same', name = 'conv3_3')(conv3_2)\n",
        "    conv3_3 = BatchNormalization()(conv3_3)\n",
        "    conv3_4 = Conv2D(256, kernel_size=3, activation='relu', padding='same', name = 'conv3_4')(conv3_3)\n",
        "    conv3_4 = BatchNormalization()(conv3_4)\n",
        "    pool3_1 = MaxPooling2D(pool_size=(2,2), name = 'pool3_1')(conv3_4)\n",
        "    drop3_1 = Dropout(0.3, name = 'drop3_1')(pool3_1)\n",
        "\n",
        "    #the 4-th block\n",
        "    conv4_1 = Conv2D(256, kernel_size=3, activation='relu', padding='same', name = 'conv4_1')(drop3_1)\n",
        "    conv4_1 = BatchNormalization()(conv4_1)\n",
        "    conv4_2 = Conv2D(256, kernel_size=3, activation='relu', padding='same', name = 'conv4_2')(conv4_1)\n",
        "    conv4_2 = BatchNormalization()(conv4_2)\n",
        "    conv4_3 = Conv2D(256, kernel_size=3, activation='relu', padding='same', name = 'conv4_3')(conv4_2)\n",
        "    conv4_3 = BatchNormalization()(conv4_3)\n",
        "    conv4_4 = Conv2D(256, kernel_size=3, activation='relu', padding='same', name = 'conv4_4')(conv4_3)\n",
        "    conv4_4 = BatchNormalization()(conv4_4)\n",
        "    pool4_1 = MaxPooling2D(pool_size=(2,2), name = 'pool4_1')(conv4_4)\n",
        "    drop4_1 = Dropout(0.3, name = 'drop4_1')(pool4_1)\n",
        "\n",
        "    #the 5-th block\n",
        "    conv5_1 = Conv2D(512, kernel_size=3, activation='relu', padding='same', name = 'conv5_1')(drop4_1)\n",
        "    conv5_1 = BatchNormalization()(conv5_1)\n",
        "    conv5_2 = Conv2D(512, kernel_size=3, activation='relu', padding='same', name = 'conv5_2')(conv5_1)\n",
        "    conv5_2 = BatchNormalization()(conv5_2)\n",
        "    conv5_3 = Conv2D(512, kernel_size=3, activation='relu', padding='same', name = 'conv5_3')(conv5_2)\n",
        "    conv5_3 = BatchNormalization()(conv5_3)\n",
        "    conv5_4 = Conv2D(512, kernel_size=3, activation='relu', padding='same', name = 'conv5_4')(conv5_3)\n",
        "    conv5_3 = BatchNormalization()(conv5_3)\n",
        "    pool5_1 = MaxPooling2D(pool_size=(2,2), name = 'pool5_1')(conv5_4)\n",
        "    drop5_1 = Dropout(0.3, name = 'drop5_1')(pool5_1)\n",
        "\n",
        "    #Flatten and output\n",
        "    flatten = Flatten(name = 'flatten')(drop5_1)\n",
        "    ouput = Dense(num_classes, activation='softmax', name = 'output')(flatten)\n",
        "\n",
        "    # create model \n",
        "    model = Model(inputs =visible, outputs = ouput)\n",
        "    # summary layers\n",
        "    print(model.summary())\n",
        "    \n",
        "    return model"
      ],
      "metadata": {
        "id": "39MOtqrLKWVM"
      },
      "execution_count": null,
      "outputs": []
    },
    {
      "cell_type": "code",
      "source": [
        "model = FER_Model()\n",
        "opt = Adam(lr=0.0001, epsilon=1e-6)\n",
        "model.compile(loss='categorical_crossentropy', optimizer=opt, metrics=['accuracy']) "
      ],
      "metadata": {
        "colab": {
          "base_uri": "https://localhost:8080/"
        },
        "id": "IiCHER3oKqAO",
        "outputId": "89c4c3bc-ec67-4b85-d900-980ff3eb992e"
      },
      "execution_count": null,
      "outputs": [
        {
          "output_type": "stream",
          "name": "stdout",
          "text": [
            "Model: \"model_2\"\n",
            "_________________________________________________________________\n",
            " Layer (type)                Output Shape              Param #   \n",
            "=================================================================\n",
            " input (InputLayer)          [(None, 48, 48, 1)]       0         \n",
            "                                                                 \n",
            " conv1_1 (Conv2D)            (None, 48, 48, 64)        640       \n",
            "                                                                 \n",
            " batch_normalization_34 (Bat  (None, 48, 48, 64)       256       \n",
            " chNormalization)                                                \n",
            "                                                                 \n",
            " conv1_2 (Conv2D)            (None, 48, 48, 64)        36928     \n",
            "                                                                 \n",
            " batch_normalization_35 (Bat  (None, 48, 48, 64)       256       \n",
            " chNormalization)                                                \n",
            "                                                                 \n",
            " pool1_1 (MaxPooling2D)      (None, 24, 24, 64)        0         \n",
            "                                                                 \n",
            " drop1_1 (Dropout)           (None, 24, 24, 64)        0         \n",
            "                                                                 \n",
            " conv2_1 (Conv2D)            (None, 24, 24, 128)       73856     \n",
            "                                                                 \n",
            " batch_normalization_36 (Bat  (None, 24, 24, 128)      512       \n",
            " chNormalization)                                                \n",
            "                                                                 \n",
            " conv2_2 (Conv2D)            (None, 24, 24, 128)       147584    \n",
            "                                                                 \n",
            " batch_normalization_37 (Bat  (None, 24, 24, 128)      512       \n",
            " chNormalization)                                                \n",
            "                                                                 \n",
            " conv2_3 (Conv2D)            (None, 24, 24, 128)       147584    \n",
            "                                                                 \n",
            " pool2_1 (MaxPooling2D)      (None, 12, 12, 128)       0         \n",
            "                                                                 \n",
            " drop2_1 (Dropout)           (None, 12, 12, 128)       0         \n",
            "                                                                 \n",
            " conv3_1 (Conv2D)            (None, 12, 12, 256)       295168    \n",
            "                                                                 \n",
            " batch_normalization_39 (Bat  (None, 12, 12, 256)      1024      \n",
            " chNormalization)                                                \n",
            "                                                                 \n",
            " conv3_2 (Conv2D)            (None, 12, 12, 256)       590080    \n",
            "                                                                 \n",
            " batch_normalization_40 (Bat  (None, 12, 12, 256)      1024      \n",
            " chNormalization)                                                \n",
            "                                                                 \n",
            " conv3_3 (Conv2D)            (None, 12, 12, 256)       590080    \n",
            "                                                                 \n",
            " batch_normalization_41 (Bat  (None, 12, 12, 256)      1024      \n",
            " chNormalization)                                                \n",
            "                                                                 \n",
            " conv3_4 (Conv2D)            (None, 12, 12, 256)       590080    \n",
            "                                                                 \n",
            " batch_normalization_42 (Bat  (None, 12, 12, 256)      1024      \n",
            " chNormalization)                                                \n",
            "                                                                 \n",
            " pool3_1 (MaxPooling2D)      (None, 6, 6, 256)         0         \n",
            "                                                                 \n",
            " drop3_1 (Dropout)           (None, 6, 6, 256)         0         \n",
            "                                                                 \n",
            " conv4_1 (Conv2D)            (None, 6, 6, 256)         590080    \n",
            "                                                                 \n",
            " batch_normalization_43 (Bat  (None, 6, 6, 256)        1024      \n",
            " chNormalization)                                                \n",
            "                                                                 \n",
            " conv4_2 (Conv2D)            (None, 6, 6, 256)         590080    \n",
            "                                                                 \n",
            " batch_normalization_44 (Bat  (None, 6, 6, 256)        1024      \n",
            " chNormalization)                                                \n",
            "                                                                 \n",
            " conv4_3 (Conv2D)            (None, 6, 6, 256)         590080    \n",
            "                                                                 \n",
            " batch_normalization_45 (Bat  (None, 6, 6, 256)        1024      \n",
            " chNormalization)                                                \n",
            "                                                                 \n",
            " conv4_4 (Conv2D)            (None, 6, 6, 256)         590080    \n",
            "                                                                 \n",
            " batch_normalization_46 (Bat  (None, 6, 6, 256)        1024      \n",
            " chNormalization)                                                \n",
            "                                                                 \n",
            " pool4_1 (MaxPooling2D)      (None, 3, 3, 256)         0         \n",
            "                                                                 \n",
            " drop4_1 (Dropout)           (None, 3, 3, 256)         0         \n",
            "                                                                 \n",
            " conv5_1 (Conv2D)            (None, 3, 3, 512)         1180160   \n",
            "                                                                 \n",
            " batch_normalization_47 (Bat  (None, 3, 3, 512)        2048      \n",
            " chNormalization)                                                \n",
            "                                                                 \n",
            " conv5_2 (Conv2D)            (None, 3, 3, 512)         2359808   \n",
            "                                                                 \n",
            " batch_normalization_48 (Bat  (None, 3, 3, 512)        2048      \n",
            " chNormalization)                                                \n",
            "                                                                 \n",
            " conv5_3 (Conv2D)            (None, 3, 3, 512)         2359808   \n",
            "                                                                 \n",
            " batch_normalization_49 (Bat  (None, 3, 3, 512)        2048      \n",
            " chNormalization)                                                \n",
            "                                                                 \n",
            " conv5_4 (Conv2D)            (None, 3, 3, 512)         2359808   \n",
            "                                                                 \n",
            " pool5_1 (MaxPooling2D)      (None, 1, 1, 512)         0         \n",
            "                                                                 \n",
            " drop5_1 (Dropout)           (None, 1, 1, 512)         0         \n",
            "                                                                 \n",
            " flatten (Flatten)           (None, 512)               0         \n",
            "                                                                 \n",
            " output (Dense)              (None, 7)                 3591      \n",
            "                                                                 \n",
            "=================================================================\n",
            "Total params: 13,111,367\n",
            "Trainable params: 13,103,431\n",
            "Non-trainable params: 7,936\n",
            "_________________________________________________________________\n"
          ]
        },
        {
          "output_type": "stream",
          "name": "stderr",
          "text": [
            "WARNING:absl:`lr` is deprecated, please use `learning_rate` instead, or use the legacy optimizer, e.g.,tf.keras.optimizers.legacy.Adam.\n"
          ]
        },
        {
          "output_type": "stream",
          "name": "stdout",
          "text": [
            "None\n"
          ]
        }
      ]
    },
    {
      "cell_type": "code",
      "source": [
        "num_epochs = 50 # we iterate 50 times over the entire training set \n",
        "history = model.fit_generator(train_flow, \n",
        "                    steps_per_epoch=len(X_train) / batch_size, \n",
        "                    epochs=num_epochs,  \n",
        "                    verbose=2,\n",
        "                    validation_data=val_flow,  \n",
        "                    validation_steps=len(X_val) / batch_size) "
      ],
      "metadata": {
        "colab": {
          "base_uri": "https://localhost:8080/"
        },
        "id": "BuH39RW9Kwgn",
        "outputId": "7767b99a-dd45-413a-d358-57ba8c52f573"
      },
      "execution_count": null,
      "outputs": [
        {
          "output_type": "stream",
          "name": "stdout",
          "text": [
            "Epoch 1/50\n"
          ]
        },
        {
          "output_type": "stream",
          "name": "stderr",
          "text": [
            "<ipython-input-32-eda5ceea9033>:2: UserWarning: `Model.fit_generator` is deprecated and will be removed in a future version. Please use `Model.fit`, which supports generators.\n",
            "  history = model.fit_generator(train_flow,\n"
          ]
        },
        {
          "output_type": "stream",
          "name": "stdout",
          "text": [
            "448/448 - 49s - loss: 2.1541 - accuracy: 0.2353 - val_loss: 2.2113 - val_accuracy: 0.2510 - 49s/epoch - 109ms/step\n",
            "Epoch 2/50\n",
            "448/448 - 36s - loss: 1.7090 - accuracy: 0.3100 - val_loss: 1.6479 - val_accuracy: 0.3619 - 36s/epoch - 81ms/step\n",
            "Epoch 3/50\n",
            "448/448 - 37s - loss: 1.5424 - accuracy: 0.3958 - val_loss: 1.4462 - val_accuracy: 0.4452 - 37s/epoch - 82ms/step\n",
            "Epoch 4/50\n",
            "448/448 - 37s - loss: 1.3902 - accuracy: 0.4628 - val_loss: 1.4174 - val_accuracy: 0.4784 - 37s/epoch - 82ms/step\n",
            "Epoch 5/50\n",
            "448/448 - 37s - loss: 1.3002 - accuracy: 0.5037 - val_loss: 1.5078 - val_accuracy: 0.4528 - 37s/epoch - 82ms/step\n",
            "Epoch 6/50\n",
            "448/448 - 37s - loss: 1.2546 - accuracy: 0.5249 - val_loss: 1.6048 - val_accuracy: 0.4681 - 37s/epoch - 83ms/step\n",
            "Epoch 7/50\n",
            "448/448 - 37s - loss: 1.2119 - accuracy: 0.5436 - val_loss: 1.3206 - val_accuracy: 0.5157 - 37s/epoch - 83ms/step\n",
            "Epoch 8/50\n",
            "448/448 - 82s - loss: 1.1748 - accuracy: 0.5568 - val_loss: 1.2185 - val_accuracy: 0.5422 - 82s/epoch - 183ms/step\n",
            "Epoch 9/50\n",
            "448/448 - 37s - loss: 1.1441 - accuracy: 0.5698 - val_loss: 1.1914 - val_accuracy: 0.5676 - 37s/epoch - 83ms/step\n",
            "Epoch 10/50\n",
            "448/448 - 37s - loss: 1.1159 - accuracy: 0.5815 - val_loss: 1.1198 - val_accuracy: 0.5848 - 37s/epoch - 83ms/step\n",
            "Epoch 11/50\n",
            "448/448 - 37s - loss: 1.1020 - accuracy: 0.5876 - val_loss: 1.1771 - val_accuracy: 0.5628 - 37s/epoch - 83ms/step\n",
            "Epoch 12/50\n",
            "448/448 - 38s - loss: 1.0786 - accuracy: 0.5961 - val_loss: 1.1043 - val_accuracy: 0.5954 - 38s/epoch - 85ms/step\n",
            "Epoch 13/50\n",
            "448/448 - 38s - loss: 1.0542 - accuracy: 0.6072 - val_loss: 1.1447 - val_accuracy: 0.5793 - 38s/epoch - 84ms/step\n",
            "Epoch 14/50\n",
            "448/448 - 38s - loss: 1.0418 - accuracy: 0.6104 - val_loss: 1.3212 - val_accuracy: 0.5350 - 38s/epoch - 84ms/step\n",
            "Epoch 15/50\n",
            "448/448 - 38s - loss: 1.0249 - accuracy: 0.6182 - val_loss: 1.0895 - val_accuracy: 0.5929 - 38s/epoch - 84ms/step\n",
            "Epoch 16/50\n",
            "448/448 - 38s - loss: 1.0714 - accuracy: 0.6004 - val_loss: 1.1687 - val_accuracy: 0.5589 - 38s/epoch - 84ms/step\n",
            "Epoch 17/50\n",
            "448/448 - 38s - loss: 1.0491 - accuracy: 0.6107 - val_loss: 1.0941 - val_accuracy: 0.5921 - 38s/epoch - 84ms/step\n",
            "Epoch 18/50\n",
            "448/448 - 38s - loss: 0.9983 - accuracy: 0.6267 - val_loss: 1.0231 - val_accuracy: 0.6197 - 38s/epoch - 84ms/step\n",
            "Epoch 19/50\n",
            "448/448 - 37s - loss: 0.9719 - accuracy: 0.6366 - val_loss: 1.0650 - val_accuracy: 0.6119 - 37s/epoch - 84ms/step\n",
            "Epoch 20/50\n",
            "448/448 - 38s - loss: 0.9574 - accuracy: 0.6450 - val_loss: 1.0389 - val_accuracy: 0.6172 - 38s/epoch - 84ms/step\n",
            "Epoch 21/50\n",
            "448/448 - 37s - loss: 0.9509 - accuracy: 0.6459 - val_loss: 1.0015 - val_accuracy: 0.6353 - 37s/epoch - 83ms/step\n",
            "Epoch 22/50\n",
            "448/448 - 37s - loss: 0.9370 - accuracy: 0.6544 - val_loss: 1.0415 - val_accuracy: 0.6216 - 37s/epoch - 83ms/step\n",
            "Epoch 23/50\n",
            "448/448 - 37s - loss: 0.9155 - accuracy: 0.6615 - val_loss: 1.0805 - val_accuracy: 0.6027 - 37s/epoch - 83ms/step\n",
            "Epoch 24/50\n",
            "448/448 - 37s - loss: 0.9032 - accuracy: 0.6677 - val_loss: 1.0713 - val_accuracy: 0.6133 - 37s/epoch - 83ms/step\n",
            "Epoch 25/50\n",
            "448/448 - 37s - loss: 0.8940 - accuracy: 0.6722 - val_loss: 0.9971 - val_accuracy: 0.6372 - 37s/epoch - 83ms/step\n",
            "Epoch 26/50\n",
            "448/448 - 37s - loss: 0.8782 - accuracy: 0.6773 - val_loss: 1.0518 - val_accuracy: 0.6211 - 37s/epoch - 83ms/step\n",
            "Epoch 27/50\n",
            "448/448 - 37s - loss: 0.8607 - accuracy: 0.6844 - val_loss: 0.9777 - val_accuracy: 0.6442 - 37s/epoch - 83ms/step\n",
            "Epoch 28/50\n",
            "448/448 - 37s - loss: 0.8553 - accuracy: 0.6843 - val_loss: 0.9774 - val_accuracy: 0.6542 - 37s/epoch - 83ms/step\n",
            "Epoch 29/50\n",
            "448/448 - 37s - loss: 0.8348 - accuracy: 0.6912 - val_loss: 1.0074 - val_accuracy: 0.6291 - 37s/epoch - 83ms/step\n",
            "Epoch 30/50\n",
            "448/448 - 37s - loss: 0.8264 - accuracy: 0.6977 - val_loss: 1.0306 - val_accuracy: 0.6442 - 37s/epoch - 83ms/step\n",
            "Epoch 31/50\n",
            "448/448 - 38s - loss: 0.8203 - accuracy: 0.6980 - val_loss: 1.0363 - val_accuracy: 0.6261 - 38s/epoch - 84ms/step\n",
            "Epoch 32/50\n",
            "448/448 - 37s - loss: 0.7978 - accuracy: 0.7071 - val_loss: 0.9941 - val_accuracy: 0.6400 - 37s/epoch - 83ms/step\n",
            "Epoch 33/50\n",
            "448/448 - 37s - loss: 0.7905 - accuracy: 0.7110 - val_loss: 1.0191 - val_accuracy: 0.6381 - 37s/epoch - 83ms/step\n",
            "Epoch 34/50\n",
            "448/448 - 37s - loss: 0.7723 - accuracy: 0.7144 - val_loss: 0.9616 - val_accuracy: 0.6690 - 37s/epoch - 83ms/step\n",
            "Epoch 35/50\n",
            "448/448 - 37s - loss: 0.7637 - accuracy: 0.7197 - val_loss: 1.0439 - val_accuracy: 0.6400 - 37s/epoch - 83ms/step\n",
            "Epoch 36/50\n",
            "448/448 - 37s - loss: 0.7506 - accuracy: 0.7252 - val_loss: 1.0466 - val_accuracy: 0.6378 - 37s/epoch - 83ms/step\n",
            "Epoch 37/50\n",
            "448/448 - 37s - loss: 0.7333 - accuracy: 0.7315 - val_loss: 1.0001 - val_accuracy: 0.6539 - 37s/epoch - 83ms/step\n",
            "Epoch 38/50\n",
            "448/448 - 38s - loss: 0.7305 - accuracy: 0.7321 - val_loss: 0.9579 - val_accuracy: 0.6757 - 38s/epoch - 84ms/step\n",
            "Epoch 39/50\n",
            "448/448 - 37s - loss: 0.7133 - accuracy: 0.7401 - val_loss: 1.0216 - val_accuracy: 0.6261 - 37s/epoch - 83ms/step\n",
            "Epoch 40/50\n",
            "448/448 - 37s - loss: 0.7021 - accuracy: 0.7449 - val_loss: 1.0023 - val_accuracy: 0.6576 - 37s/epoch - 84ms/step\n",
            "Epoch 41/50\n",
            "448/448 - 37s - loss: 0.6904 - accuracy: 0.7459 - val_loss: 0.9897 - val_accuracy: 0.6684 - 37s/epoch - 83ms/step\n",
            "Epoch 42/50\n",
            "448/448 - 37s - loss: 0.6800 - accuracy: 0.7524 - val_loss: 1.0480 - val_accuracy: 0.6353 - 37s/epoch - 83ms/step\n",
            "Epoch 43/50\n",
            "448/448 - 37s - loss: 0.6704 - accuracy: 0.7587 - val_loss: 0.9935 - val_accuracy: 0.6668 - 37s/epoch - 83ms/step\n",
            "Epoch 44/50\n",
            "448/448 - 37s - loss: 0.6576 - accuracy: 0.7624 - val_loss: 1.0106 - val_accuracy: 0.6723 - 37s/epoch - 83ms/step\n",
            "Epoch 45/50\n",
            "448/448 - 37s - loss: 0.6518 - accuracy: 0.7628 - val_loss: 1.0002 - val_accuracy: 0.6748 - 37s/epoch - 83ms/step\n",
            "Epoch 46/50\n",
            "448/448 - 37s - loss: 0.6491 - accuracy: 0.7666 - val_loss: 1.0300 - val_accuracy: 0.6565 - 37s/epoch - 83ms/step\n",
            "Epoch 47/50\n",
            "448/448 - 37s - loss: 0.6259 - accuracy: 0.7714 - val_loss: 1.0492 - val_accuracy: 0.6601 - 37s/epoch - 83ms/step\n",
            "Epoch 48/50\n",
            "448/448 - 37s - loss: 0.6160 - accuracy: 0.7782 - val_loss: 0.9691 - val_accuracy: 0.6771 - 37s/epoch - 83ms/step\n",
            "Epoch 49/50\n",
            "448/448 - 38s - loss: 0.6316 - accuracy: 0.7715 - val_loss: 1.0347 - val_accuracy: 0.6461 - 38s/epoch - 84ms/step\n",
            "Epoch 50/50\n",
            "448/448 - 37s - loss: 0.6213 - accuracy: 0.7747 - val_loss: 0.9810 - val_accuracy: 0.6684 - 37s/epoch - 83ms/step\n"
          ]
        }
      ]
    },
    {
      "cell_type": "code",
      "source": [
        "model.save('fer13.h5')\n",
        "model_weights = model.get_weights()\n",
        "\n",
        "model_dir = \"model_dir\"\n",
        "if not os.path.exists(model_dir):\n",
        "  os.makedirs(model_dir)\n",
        "np.save(os.path.join(model_dir, 'fer13_weights'), model_weights)"
      ],
      "metadata": {
        "colab": {
          "base_uri": "https://localhost:8080/"
        },
        "id": "DZP6bxS8K80R",
        "outputId": "8de3b8b9-b9db-4280-fdb3-676ae2f50722"
      },
      "execution_count": null,
      "outputs": [
        {
          "output_type": "stream",
          "name": "stderr",
          "text": [
            "/usr/local/lib/python3.8/dist-packages/numpy/lib/npyio.py:528: VisibleDeprecationWarning: Creating an ndarray from ragged nested sequences (which is a list-or-tuple of lists-or-tuples-or ndarrays with different lengths or shapes) is deprecated. If you meant to do this, you must specify 'dtype=object' when creating the ndarray.\n",
            "  arr = np.asanyarray(arr)\n"
          ]
        }
      ]
    },
    {
      "cell_type": "code",
      "source": [
        "import tensorflow as tf"
      ],
      "metadata": {
        "id": "bPOeA6msbKXU"
      },
      "execution_count": null,
      "outputs": []
    },
    {
      "cell_type": "code",
      "source": [
        "model = tf.keras.models.load_model('fer13.h5')\n",
        "model_weights = np.load('fer13_weights.npy', allow_pickle=True)\n",
        "model.set_weights(model_weights)"
      ],
      "metadata": {
        "id": "dGJmIbambDsg"
      },
      "execution_count": null,
      "outputs": []
    },
    {
      "cell_type": "code",
      "source": [
        "converter = tf.lite.TFLiteConverter.from_keras_model(model) \n",
        "tflite_model = converter.convert()\n",
        "\n",
        "with open(\"fer13.tflite\", \"wb\") as f:\n",
        "  f.write(tflite_model)"
      ],
      "metadata": {
        "id": "z2heSQnPTR6w",
        "colab": {
          "base_uri": "https://localhost:8080/"
        },
        "outputId": "bc482518-352b-416b-dd59-69a822bc65f8"
      },
      "execution_count": null,
      "outputs": [
        {
          "output_type": "stream",
          "name": "stderr",
          "text": [
            "WARNING:absl:Found untraced functions such as _jit_compiled_convolution_op, _jit_compiled_convolution_op, _jit_compiled_convolution_op, _jit_compiled_convolution_op, _jit_compiled_convolution_op while saving (showing 5 of 17). These functions will not be directly callable after loading.\n"
          ]
        }
      ]
    }
  ]
}