{
  "nbformat": 4,
  "nbformat_minor": 0,
  "metadata": {
    "colab": {
      "provenance": []
    },
    "kernelspec": {
      "name": "python3",
      "display_name": "Python 3"
    },
    "language_info": {
      "name": "python"
    },
    "accelerator": "TPU",
    "gpuClass": "standard"
  },
  "cells": [
    {
      "cell_type": "code",
      "execution_count": null,
      "metadata": {
        "id": "yqjZlvRkYRI7"
      },
      "outputs": [],
      "source": [
        "import tensorflow as tf"
      ]
    },
    {
      "cell_type": "code",
      "source": [
        "import numpy as np\n",
        "import matplotlib.pyplot as plt\n",
        "import pandas as pd\n",
        "import sys, os\n",
        "from glob import glob\n",
        "\n",
        "from tensorflow.keras.layers import Input, Dense, Flatten, Conv2DTranspose, MaxPooling2D, Dropout, BatchNormalization, Reshape, LeakyReLU, Conv2D\n",
        "from tensorflow.keras.applications.vgg16 import VGG16 as PretrainedModel, preprocess_input\n",
        "from tensorflow.keras.models import Model\n",
        "from tensorflow.keras.optimizers import Adam\n",
        "from tensorflow.keras.preprocessing import image\n",
        "from tensorflow.keras.preprocessing.image import ImageDataGenerator"
      ],
      "metadata": {
        "id": "HOUxpMs-YZrm"
      },
      "execution_count": null,
      "outputs": []
    },
    {
      "cell_type": "code",
      "source": [
        "resolver = tf.distribute.cluster_resolver.TPUClusterResolver(tpu=\"\")\n",
        "tf.config.experimental_connect_to_cluster(resolver)\n",
        "tf.tpu.experimental.initialize_tpu_system(resolver)\n",
        "print(\"all devices:\", tf.config.list_logical_devices(\"TPU\"))"
      ],
      "metadata": {
        "id": "lyCH4xNPYcAk",
        "colab": {
          "base_uri": "https://localhost:8080/"
        },
        "outputId": "6b9f3735-2c2f-43c3-9bad-40632c6a7f0e"
      },
      "execution_count": null,
      "outputs": [
        {
          "output_type": "stream",
          "name": "stdout",
          "text": [
            "all devices: [LogicalDevice(name='/job:worker/replica:0/task:0/device:TPU:0', device_type='TPU'), LogicalDevice(name='/job:worker/replica:0/task:0/device:TPU:1', device_type='TPU'), LogicalDevice(name='/job:worker/replica:0/task:0/device:TPU:2', device_type='TPU'), LogicalDevice(name='/job:worker/replica:0/task:0/device:TPU:3', device_type='TPU'), LogicalDevice(name='/job:worker/replica:0/task:0/device:TPU:4', device_type='TPU'), LogicalDevice(name='/job:worker/replica:0/task:0/device:TPU:5', device_type='TPU'), LogicalDevice(name='/job:worker/replica:0/task:0/device:TPU:6', device_type='TPU'), LogicalDevice(name='/job:worker/replica:0/task:0/device:TPU:7', device_type='TPU')]\n"
          ]
        }
      ]
    },
    {
      "cell_type": "code",
      "source": [
        "strategy = tf.distribute.TPUStrategy(resolver)"
      ],
      "metadata": {
        "id": "SrlvM9baYe37"
      },
      "execution_count": null,
      "outputs": []
    },
    {
      "cell_type": "code",
      "source": [
        "!unzip training.zip\n",
        "!unzip testing.zip"
      ],
      "metadata": {
        "id": "FxQWEzDrxs3p",
        "colab": {
          "base_uri": "https://localhost:8080/"
        },
        "outputId": "97e180b0-0af3-4aa5-8276-97eb858a3b3a"
      },
      "execution_count": null,
      "outputs": [
        {
          "output_type": "stream",
          "name": "stdout",
          "text": [
            "Archive:  training.zip\n",
            "   creating: training/\n",
            "  inflating: training/0_11.jpeg      \n",
            "  inflating: __MACOSX/training/._0_11.jpeg  \n",
            "  inflating: training/1_35 Medium.jpeg  \n",
            "  inflating: __MACOSX/training/._1_35 Medium.jpeg  \n",
            "  inflating: training/1_29 Medium.jpeg  \n",
            "  inflating: __MACOSX/training/._1_29 Medium.jpeg  \n",
            "  inflating: training/0_35 Small.jpeg  \n",
            "  inflating: __MACOSX/training/._0_35 Small.jpeg  \n",
            "  inflating: training/1_10.jpeg      \n",
            "  inflating: __MACOSX/training/._1_10.jpeg  \n",
            "  inflating: training/1_12 Medium.jpeg  \n",
            "  inflating: __MACOSX/training/._1_12 Medium.jpeg  \n",
            "  inflating: training/0_5.jpeg       \n",
            "  inflating: __MACOSX/training/._0_5.jpeg  \n",
            "  inflating: training/0_31.jpeg      \n",
            "  inflating: __MACOSX/training/._0_31.jpeg  \n",
            "  inflating: training/1_20 Medium.jpeg  \n",
            "  inflating: __MACOSX/training/._1_20 Medium.jpeg  \n",
            "  inflating: training/1_1.jpeg       \n",
            "  inflating: __MACOSX/training/._1_1.jpeg  \n",
            "  inflating: training/1_17 Medium.jpeg  \n",
            "  inflating: __MACOSX/training/._1_17 Medium.jpeg  \n",
            "  inflating: training/0_30.jpeg      \n",
            "  inflating: __MACOSX/training/._0_30.jpeg  \n",
            "  inflating: training/0_26.jpeg      \n",
            "  inflating: __MACOSX/training/._0_26.jpeg  \n",
            "  inflating: training/0_4 Small.jpeg  \n",
            "  inflating: __MACOSX/training/._0_4 Small.jpeg  \n",
            "  inflating: training/.DS_Store      \n",
            "  inflating: __MACOSX/training/._.DS_Store  \n",
            "  inflating: training/1_39 Medium.jpeg  \n",
            "  inflating: __MACOSX/training/._1_39 Medium.jpeg  \n",
            "  inflating: training/1_25 Medium.jpeg  \n",
            "  inflating: __MACOSX/training/._1_25 Medium.jpeg  \n",
            "  inflating: training/1_9 Medium.jpeg  \n",
            "  inflating: __MACOSX/training/._1_9 Medium.jpeg  \n",
            "  inflating: training/0_9 Small.jpeg  \n",
            "  inflating: __MACOSX/training/._0_9 Small.jpeg  \n",
            "  inflating: training/1_11.jpeg      \n",
            "  inflating: __MACOSX/training/._1_11.jpeg  \n",
            "  inflating: training/1_30 Medium.jpeg  \n",
            "  inflating: __MACOSX/training/._1_30 Medium.jpeg  \n",
            "  inflating: training/0_8.jpeg       \n",
            "  inflating: __MACOSX/training/._0_8.jpeg  \n",
            "  inflating: training/1_9.webp       \n",
            "  inflating: __MACOSX/training/._1_9.webp  \n",
            "  inflating: training/0_10.jpeg      \n",
            "  inflating: __MACOSX/training/._0_10.jpeg  \n",
            "  inflating: training/1_33 Medium.jpeg  \n",
            "  inflating: __MACOSX/training/._1_33 Medium.jpeg  \n",
            "  inflating: training/0_21.jpeg      \n",
            "  inflating: __MACOSX/training/._0_21.jpeg  \n",
            "  inflating: training/0_3.jpeg       \n",
            "  inflating: __MACOSX/training/._0_3.jpeg  \n",
            "  inflating: training/0_37.jpeg      \n",
            "  inflating: __MACOSX/training/._0_37.jpeg  \n",
            "  inflating: training/1_7.jpeg       \n",
            "  inflating: __MACOSX/training/._1_7.jpeg  \n",
            "  inflating: training/0_17.jpeg      \n",
            "  inflating: __MACOSX/training/._0_17.jpeg  \n",
            "  inflating: training/0_40.jpeg      \n",
            "  inflating: __MACOSX/training/._0_40.jpeg  \n",
            "  inflating: training/1_26 Medium.jpeg  \n",
            "  inflating: __MACOSX/training/._1_26 Medium.jpeg  \n",
            "  inflating: training/1_14 Medium.jpeg  \n",
            "  inflating: __MACOSX/training/._1_14 Medium.jpeg  \n",
            "  inflating: training/1_23 Medium.jpeg  \n",
            "  inflating: __MACOSX/training/._1_23 Medium.jpeg  \n",
            "  inflating: training/0_16.jpeg      \n",
            "  inflating: __MACOSX/training/._0_16.jpeg  \n",
            "  inflating: training/1_6 Medium.jpeg  \n",
            "  inflating: __MACOSX/training/._1_6 Medium.jpeg  \n",
            "  inflating: training/0_32 Small.jpeg  \n",
            "  inflating: __MACOSX/training/._0_32 Small.jpeg  \n",
            "  inflating: training/0_36.jpeg      \n",
            "  inflating: __MACOSX/training/._0_36.jpeg  \n",
            "  inflating: training/1_18 Medium.jpeg  \n",
            "  inflating: __MACOSX/training/._1_18 Medium.jpeg  \n",
            "  inflating: training/1_36 Medium.jpeg  \n",
            "  inflating: __MACOSX/training/._1_36 Medium.jpeg  \n",
            "  inflating: training/1_5.jpeg       \n",
            "  inflating: __MACOSX/training/._1_5.jpeg  \n",
            "  inflating: training/0_20 Small.jpeg  \n",
            "  inflating: __MACOSX/training/._0_20 Small.jpeg  \n",
            "  inflating: training/0_1.jpeg       \n",
            "  inflating: __MACOSX/training/._0_1.jpeg  \n",
            "  inflating: training/0_23.jpeg      \n",
            "  inflating: __MACOSX/training/._0_23.jpeg  \n",
            "  inflating: training/0_19.jpeg      \n",
            "  inflating: __MACOSX/training/._0_19.jpeg  \n",
            "  inflating: training/1_31 Medium.jpeg  \n",
            "  inflating: __MACOSX/training/._1_31 Medium.jpeg  \n",
            "  inflating: training/1_8 Medium.jpeg  \n",
            "  inflating: __MACOSX/training/._1_8 Medium.jpeg  \n",
            "  inflating: training/1_24 Medium.jpeg  \n",
            "  inflating: __MACOSX/training/._1_24 Medium.jpeg  \n",
            "  inflating: training/1_16 Medium.jpeg  \n",
            "  inflating: __MACOSX/training/._1_16 Medium.jpeg  \n",
            "  inflating: training/1_38 Medium.jpeg  \n",
            "  inflating: __MACOSX/training/._1_38 Medium.jpeg  \n",
            "  inflating: training/0_28 Small.jpeg  \n",
            "  inflating: __MACOSX/training/._0_28 Small.jpeg  \n",
            "  inflating: training/0_14.jpeg      \n",
            "  inflating: __MACOSX/training/._0_14.jpeg  \n",
            "  inflating: training/1_21 Medium.jpeg  \n",
            "  inflating: __MACOSX/training/._1_21 Medium.jpeg  \n",
            "  inflating: training/0_34 Small.jpeg  \n",
            "  inflating: __MACOSX/training/._0_34 Small.jpeg  \n",
            "  inflating: training/0_38.jpeg      \n",
            "  inflating: __MACOSX/training/._0_38.jpeg  \n",
            "  inflating: training/1_13 Medium.jpeg  \n",
            "  inflating: __MACOSX/training/._1_13 Medium.jpeg  \n",
            "  inflating: training/0_18.jpeg      \n",
            "  inflating: __MACOSX/training/._0_18.jpeg  \n",
            "  inflating: training/1_28 Medium.jpeg  \n",
            "  inflating: __MACOSX/training/._1_28 Medium.jpeg  \n",
            "  inflating: training/1_34 Medium.jpeg  \n",
            "  inflating: __MACOSX/training/._1_34 Medium.jpeg  \n",
            "  inflating: training/1_4.jpeg       \n",
            "  inflating: __MACOSX/training/._1_4.jpeg  \n",
            "  inflating: training/0_39 Small.jpeg  \n",
            "  inflating: __MACOSX/training/._0_39 Small.jpeg  \n",
            "  inflating: training/1_19 Medium.jpeg  \n",
            "  inflating: __MACOSX/training/._1_19 Medium.jpeg  \n",
            "  inflating: training/0_29.jpeg      \n",
            "  inflating: __MACOSX/training/._0_29.jpeg  \n",
            "  inflating: training/1_37 Medium.jpeg  \n",
            "  inflating: __MACOSX/training/._1_37 Medium.jpeg  \n",
            "  inflating: training/0_22 Small.jpeg  \n",
            "  inflating: __MACOSX/training/._0_22 Small.jpeg  \n",
            "  inflating: training/0_13.jpeg      \n",
            "  inflating: __MACOSX/training/._0_13.jpeg  \n",
            "  inflating: training/1_3.jpeg       \n",
            "  inflating: __MACOSX/training/._1_3.jpeg  \n",
            "  inflating: training/0_2.webp       \n",
            "  inflating: __MACOSX/training/._0_2.webp  \n",
            "  inflating: training/0_25.jpeg      \n",
            "  inflating: __MACOSX/training/._0_25.jpeg  \n",
            "  inflating: training/0_7.jpeg       \n",
            "  inflating: __MACOSX/training/._0_7.jpeg  \n",
            "  inflating: training/0_33 Small.jpeg  \n",
            "  inflating: __MACOSX/training/._0_33 Small.jpeg  \n",
            "  inflating: training/1_22 Medium.jpeg  \n",
            "  inflating: __MACOSX/training/._1_22 Medium.jpeg  \n",
            "  inflating: training/1_15 Medium.jpeg  \n",
            "  inflating: __MACOSX/training/._1_15 Medium.jpeg  \n",
            "  inflating: training/0_24.jpeg      \n",
            "  inflating: __MACOSX/training/._0_24.jpeg  \n",
            "  inflating: training/0_6.jpeg       \n",
            "  inflating: __MACOSX/training/._0_6.jpeg  \n",
            "  inflating: training/1_27 Medium.jpeg  \n",
            "  inflating: __MACOSX/training/._1_27 Medium.jpeg  \n",
            "  inflating: training/1_2.jpeg       \n",
            "  inflating: __MACOSX/training/._1_2.jpeg  \n",
            "  inflating: training/0_12.jpeg      \n",
            "  inflating: __MACOSX/training/._0_12.jpeg  \n",
            "  inflating: training/1_32 Medium.jpeg  \n",
            "  inflating: __MACOSX/training/._1_32 Medium.jpeg  \n",
            "  inflating: training/0_15.png       \n",
            "  inflating: __MACOSX/training/._0_15.png  \n",
            "  inflating: training/0_27 Small.jpeg  \n",
            "  inflating: __MACOSX/training/._0_27 Small.jpeg  \n",
            "Archive:  testing.zip\n",
            "   creating: testing/\n",
            "  inflating: testing/1_45 Medium.jpeg  \n",
            "  inflating: __MACOSX/testing/._1_45 Medium.jpeg  \n",
            "  inflating: testing/0_46.jpeg       \n",
            "  inflating: __MACOSX/testing/._0_46.jpeg  \n",
            "  inflating: testing/0_50.jpeg       \n",
            "  inflating: __MACOSX/testing/._0_50.jpeg  \n",
            "  inflating: testing/1_59 Medium.jpeg  \n",
            "  inflating: __MACOSX/testing/._1_59 Medium.jpeg  \n",
            "  inflating: testing/1_49 Medium.jpeg  \n",
            "  inflating: __MACOSX/testing/._1_49 Medium.jpeg  \n",
            "  inflating: testing/.DS_Store       \n",
            "  inflating: __MACOSX/testing/._.DS_Store  \n",
            "  inflating: testing/1_40 Medium.jpeg  \n",
            "  inflating: __MACOSX/testing/._1_40 Medium.jpeg  \n",
            "  inflating: testing/0_47.jpeg       \n",
            "  inflating: __MACOSX/testing/._0_47.jpeg  \n",
            "  inflating: testing/1_43 Medium.jpeg  \n",
            "  inflating: __MACOSX/testing/._1_43 Medium.jpeg  \n",
            "  inflating: testing/0_41.jpeg       \n",
            "  inflating: __MACOSX/testing/._0_41.jpeg  \n",
            "  inflating: testing/1_46 Medium.jpeg  \n",
            "  inflating: __MACOSX/testing/._1_46 Medium.jpeg  \n",
            "  inflating: testing/1_41 Medium.jpeg  \n",
            "  inflating: __MACOSX/testing/._1_41 Medium.jpeg  \n",
            "  inflating: testing/0_42.jpeg       \n",
            "  inflating: __MACOSX/testing/._0_42.jpeg  \n",
            "  inflating: testing/1_48 Medium.jpeg  \n",
            "  inflating: __MACOSX/testing/._1_48 Medium.jpeg  \n",
            "  inflating: testing/0_43.jpeg       \n",
            "  inflating: __MACOSX/testing/._0_43.jpeg  \n",
            "  inflating: testing/1_44 Medium.jpeg  \n",
            "  inflating: __MACOSX/testing/._1_44 Medium.jpeg  \n",
            "  inflating: testing/1_47 Medium.jpeg  \n",
            "  inflating: __MACOSX/testing/._1_47 Medium.jpeg  \n",
            "  inflating: testing/0_44.jpeg       \n",
            "  inflating: __MACOSX/testing/._0_44.jpeg  \n",
            "  inflating: testing/0_48.jpeg       \n",
            "  inflating: __MACOSX/testing/._0_48.jpeg  \n",
            "  inflating: testing/0_49.jpeg       \n",
            "  inflating: __MACOSX/testing/._0_49.jpeg  \n",
            "  inflating: testing/1_42 Medium.jpeg  \n",
            "  inflating: __MACOSX/testing/._1_42 Medium.jpeg  \n",
            "  inflating: testing/0_45.jpeg       \n",
            "  inflating: __MACOSX/testing/._0_45.jpeg  \n"
          ]
        }
      ]
    },
    {
      "cell_type": "code",
      "source": [
        "!mkdir data\n",
        "!mkdir data/train\n",
        "!mkdir data/test\n",
        "!mkdir data/train/notdrunk\n",
        "!mkdir data/train/drunk\n",
        "!mkdir data/test/notdrunk\n",
        "!mkdir data/test/drunk"
      ],
      "metadata": {
        "id": "WIxbn05cww0N"
      },
      "execution_count": null,
      "outputs": []
    },
    {
      "cell_type": "code",
      "source": [
        "!mv training/0*.jpeg data/train/notdrunk\n",
        "!mv training/1*.jpeg data/train/drunk\n",
        "!mv testing/0*.jpeg data/test/notdrunk\n",
        "!mv testing/1*.jpeg data/test/drunk"
      ],
      "metadata": {
        "id": "Rv4A_UDAw8u_"
      },
      "execution_count": null,
      "outputs": []
    },
    {
      "cell_type": "code",
      "source": [
        "train = 'data/train'\n",
        "test = 'data/test'"
      ],
      "metadata": {
        "id": "gkvhuwS4qfNf"
      },
      "execution_count": null,
      "outputs": []
    },
    {
      "cell_type": "code",
      "source": [
        "train_images = glob(train + '/*/*.jpeg')\n",
        "test_images = glob(test + '/*/*.jpeg')\n",
        "ntrain = len(train_images)\n",
        "ntest = len(test_images)\n",
        "\n",
        "print(ntrain, ntest)"
      ],
      "metadata": {
        "id": "02dZ0kpRwfJX",
        "colab": {
          "base_uri": "https://localhost:8080/"
        },
        "outputId": "20958e62-a4be-4f81-9b65-0aa2a7a65e46"
      },
      "execution_count": null,
      "outputs": [
        {
          "output_type": "stream",
          "name": "stdout",
          "text": [
            "77 21\n"
          ]
        }
      ]
    },
    {
      "cell_type": "code",
      "source": [
        "def build_vgg_model(image_size):\n",
        "  ptm = PretrainedModel(include_top = False, weights = 'imagenet', input_shape = image_size)\n",
        "  ptm.trainable = False\n",
        "\n",
        "  x = Flatten()(ptm.output)\n",
        "  model = Model(inputs=ptm.input, outputs = x)\n",
        "\n",
        "  return model"
      ],
      "metadata": {
        "id": "v9YV3aRFYpdE"
      },
      "execution_count": null,
      "outputs": []
    },
    {
      "cell_type": "code",
      "source": [
        "with strategy.scope():\n",
        "  vgg_model = build_vgg_model([512,512,3])\n",
        "\n",
        "gen = ImageDataGenerator(preprocessing_function=preprocess_input)"
      ],
      "metadata": {
        "id": "TNtPTySlZbZw",
        "colab": {
          "base_uri": "https://localhost:8080/"
        },
        "outputId": "2a9fb89d-d6c7-4164-cdf8-76441343b69e"
      },
      "execution_count": null,
      "outputs": [
        {
          "output_type": "stream",
          "name": "stdout",
          "text": [
            "Downloading data from https://storage.googleapis.com/tensorflow/keras-applications/vgg16/vgg16_weights_tf_dim_ordering_tf_kernels_notop.h5\n",
            "58889256/58889256 [==============================] - 0s 0us/step\n"
          ]
        }
      ]
    },
    {
      "cell_type": "code",
      "source": [
        "converter = tf.lite.TFLiteConverter.from_keras_model(vgg_model) \n",
        "tflite_model = converter.convert()\n",
        "\n",
        "with open(\"vgg.tflite\", \"wb\") as f:\n",
        "  f.write(tflite_model)"
      ],
      "metadata": {
        "id": "fDamnqdHaGpF",
        "colab": {
          "base_uri": "https://localhost:8080/"
        },
        "outputId": "8fa14b28-7939-446b-906f-f7bfe665a4b1"
      },
      "execution_count": null,
      "outputs": [
        {
          "output_type": "stream",
          "name": "stderr",
          "text": [
            "WARNING:absl:Found untraced functions such as _jit_compiled_convolution_op, _jit_compiled_convolution_op, _jit_compiled_convolution_op, _jit_compiled_convolution_op, _jit_compiled_convolution_op while saving (showing 5 of 13). These functions will not be directly callable after loading.\n"
          ]
        }
      ]
    },
    {
      "cell_type": "code",
      "source": [
        "with strategy.scope():\n",
        "  batch_size = 32\n",
        "  train_generator = gen.flow_from_directory(train, target_size=[512,512], batch_size=batch_size, class_mode='binary')\n",
        "  test_generator = gen.flow_from_directory(test, target_size=[512,512], batch_size=batch_size, class_mode='binary')"
      ],
      "metadata": {
        "id": "jrBXI3aybWOs",
        "colab": {
          "base_uri": "https://localhost:8080/"
        },
        "outputId": "4dfd51ea-d93c-4b49-9003-25ea4ced7f63"
      },
      "execution_count": null,
      "outputs": [
        {
          "output_type": "stream",
          "name": "stdout",
          "text": [
            "Found 77 images belonging to 2 classes.\n",
            "Found 21 images belonging to 2 classes.\n"
          ]
        }
      ]
    },
    {
      "cell_type": "code",
      "source": [
        "nfeature = vgg_model.predict(np.random.random([1,512,512,3]))\n",
        "D = nfeature.shape[1]\n",
        "\n",
        "x_train = np.zeros((ntrain,D))\n",
        "y_train = np.zeros(ntrain)\n",
        "x_test = np.zeros((ntest,D))\n",
        "y_test = np.zeros(ntest)"
      ],
      "metadata": {
        "id": "7au3diVLzIuG",
        "colab": {
          "base_uri": "https://localhost:8080/"
        },
        "outputId": "f1330b02-1dd4-4220-81c0-394df1d15fd2"
      },
      "execution_count": null,
      "outputs": [
        {
          "output_type": "stream",
          "name": "stdout",
          "text": [
            "1/1 [==============================] - 7s 7s/step\n"
          ]
        }
      ]
    },
    {
      "cell_type": "code",
      "source": [
        "with strategy.scope():\n",
        "  i = 0\n",
        "  for x,y in train_generator:\n",
        "    features = vgg_model.predict(x)\n",
        "    sz = len(y)\n",
        "\n",
        "    x_train[i:i+sz] = features\n",
        "    y_train[i:i+sz] = y\n",
        "\n",
        "    i += sz\n",
        "\n",
        "    if i >= ntrain:\n",
        "      print('done')\n",
        "      break"
      ],
      "metadata": {
        "id": "HtJWqQZb0K7W",
        "colab": {
          "base_uri": "https://localhost:8080/"
        },
        "outputId": "f4ad45bc-bf48-4825-9a76-fda04dc5a026"
      },
      "execution_count": null,
      "outputs": [
        {
          "output_type": "stream",
          "name": "stdout",
          "text": [
            "1/1 [==============================] - 4s 4s/step\n",
            "1/1 [==============================] - 1s 1s/step\n",
            "1/1 [==============================] - 1s 564ms/step\n",
            "done\n"
          ]
        }
      ]
    },
    {
      "cell_type": "code",
      "source": [
        "with strategy.scope():\n",
        "  i = 0\n",
        "  for x,y in test_generator:\n",
        "    features = vgg_model.predict(x)\n",
        "    sz = len(y)\n",
        "\n",
        "    x_test[i:i+sz] = features\n",
        "    y_test[i:i+sz] = y\n",
        "\n",
        "    i += sz\n",
        "\n",
        "    if i >= ntest:\n",
        "      print('done')\n",
        "      break"
      ],
      "metadata": {
        "id": "Z2MpYfs80v6V",
        "colab": {
          "base_uri": "https://localhost:8080/"
        },
        "outputId": "5c5e5314-75c3-4fc1-bbe2-3e0a50efa8a1"
      },
      "execution_count": null,
      "outputs": [
        {
          "output_type": "stream",
          "name": "stdout",
          "text": [
            "1/1 [==============================] - 5s 5s/step\n",
            "done\n"
          ]
        }
      ]
    },
    {
      "cell_type": "code",
      "source": [
        "def build_logistic_regression():\n",
        "  i = Input((131072,))\n",
        "  x = Dense(100, activation='relu')(i)\n",
        "  x = Dense(1, activation='sigmoid')(x)\n",
        "\n",
        "  model = Model(inputs=i, outputs=x)\n",
        "\n",
        "  return model"
      ],
      "metadata": {
        "id": "6GpkKha307b1"
      },
      "execution_count": null,
      "outputs": []
    },
    {
      "cell_type": "code",
      "source": [
        "with strategy.scope():\n",
        "  logistic_regression_model = build_logistic_regression()\n",
        "  logistic_regression_model.compile(optimizer='adam',\n",
        "                              loss='binary_crossentropy',\n",
        "                              metrics=['accuracy'])"
      ],
      "metadata": {
        "id": "jxzV0lzq1omO"
      },
      "execution_count": null,
      "outputs": []
    },
    {
      "cell_type": "code",
      "source": [
        "with strategy.scope():\n",
        "  r = logistic_regression_model.fit(x_train, y_train, batch_size = batch_size, epochs = 100, validation_data=(x_test,y_test))"
      ],
      "metadata": {
        "id": "GSAzJNUD3Ip6",
        "colab": {
          "base_uri": "https://localhost:8080/"
        },
        "outputId": "ff8b2665-b94b-4bff-c709-eda6575f4854"
      },
      "execution_count": null,
      "outputs": [
        {
          "output_type": "stream",
          "name": "stdout",
          "text": [
            "Epoch 1/100\n",
            "3/3 [==============================] - 16s 3s/step - loss: 3.1869 - accuracy: 0.7403 - val_loss: 4.1542e-08 - val_accuracy: 1.0000\n",
            "Epoch 2/100\n",
            "3/3 [==============================] - 1s 353ms/step - loss: 5.2073 - accuracy: 0.8961 - val_loss: 3.3412e-10 - val_accuracy: 1.0000\n",
            "Epoch 3/100\n",
            "3/3 [==============================] - 1s 351ms/step - loss: 0.4962 - accuracy: 0.9740 - val_loss: 23.8081 - val_accuracy: 0.5714\n",
            "Epoch 4/100\n",
            "3/3 [==============================] - 1s 335ms/step - loss: 7.5247 - accuracy: 0.9221 - val_loss: 3.6137 - val_accuracy: 0.9524\n",
            "Epoch 5/100\n",
            "3/3 [==============================] - 1s 349ms/step - loss: 6.7144e-32 - accuracy: 1.0000 - val_loss: 2.8168e-07 - val_accuracy: 1.0000\n",
            "Epoch 6/100\n",
            "3/3 [==============================] - 1s 551ms/step - loss: 8.7235e-17 - accuracy: 1.0000 - val_loss: 1.2958e-13 - val_accuracy: 1.0000\n",
            "Epoch 7/100\n",
            "3/3 [==============================] - 1s 391ms/step - loss: 0.2898 - accuracy: 0.9870 - val_loss: 6.6819e-09 - val_accuracy: 1.0000\n",
            "Epoch 8/100\n",
            "3/3 [==============================] - 1s 359ms/step - loss: 2.2708e-13 - accuracy: 1.0000 - val_loss: 1.2789e-16 - val_accuracy: 1.0000\n",
            "Epoch 9/100\n",
            "3/3 [==============================] - 1s 353ms/step - loss: 2.3641e-17 - accuracy: 1.0000 - val_loss: 1.4237e-22 - val_accuracy: 1.0000\n",
            "Epoch 10/100\n",
            "3/3 [==============================] - 1s 350ms/step - loss: 3.5566e-20 - accuracy: 1.0000 - val_loss: 4.1343e-27 - val_accuracy: 1.0000\n",
            "Epoch 11/100\n",
            "3/3 [==============================] - 1s 351ms/step - loss: 2.7187e-21 - accuracy: 1.0000 - val_loss: 1.8027e-30 - val_accuracy: 1.0000\n",
            "Epoch 12/100\n",
            "3/3 [==============================] - 1s 360ms/step - loss: 3.3264e-22 - accuracy: 1.0000 - val_loss: 6.3800e-33 - val_accuracy: 1.0000\n",
            "Epoch 13/100\n",
            "3/3 [==============================] - 1s 371ms/step - loss: 1.0212e-23 - accuracy: 1.0000 - val_loss: 9.9946e-35 - val_accuracy: 1.0000\n",
            "Epoch 14/100\n",
            "3/3 [==============================] - 1s 417ms/step - loss: 2.5077e-24 - accuracy: 1.0000 - val_loss: 4.0489e-36 - val_accuracy: 1.0000\n",
            "Epoch 15/100\n",
            "3/3 [==============================] - 1s 379ms/step - loss: 4.7386e-25 - accuracy: 1.0000 - val_loss: 3.6513e-37 - val_accuracy: 1.0000\n",
            "Epoch 16/100\n",
            "3/3 [==============================] - 1s 355ms/step - loss: 7.0606e-26 - accuracy: 1.0000 - val_loss: 6.0418e-38 - val_accuracy: 1.0000\n",
            "Epoch 17/100\n",
            "3/3 [==============================] - 1s 361ms/step - loss: 4.0811e-26 - accuracy: 1.0000 - val_loss: 1.5316e-38 - val_accuracy: 1.0000\n",
            "Epoch 18/100\n",
            "3/3 [==============================] - 1s 363ms/step - loss: 2.1169e-26 - accuracy: 1.0000 - val_loss: 0.0000e+00 - val_accuracy: 1.0000\n",
            "Epoch 19/100\n",
            "3/3 [==============================] - 1s 354ms/step - loss: 1.1314e-26 - accuracy: 1.0000 - val_loss: 0.0000e+00 - val_accuracy: 1.0000\n",
            "Epoch 20/100\n",
            "3/3 [==============================] - 1s 362ms/step - loss: 8.8395e-27 - accuracy: 1.0000 - val_loss: 0.0000e+00 - val_accuracy: 1.0000\n",
            "Epoch 21/100\n",
            "3/3 [==============================] - 1s 356ms/step - loss: 6.0590e-27 - accuracy: 1.0000 - val_loss: 0.0000e+00 - val_accuracy: 1.0000\n",
            "Epoch 22/100\n",
            "3/3 [==============================] - 1s 337ms/step - loss: 5.5916e-27 - accuracy: 1.0000 - val_loss: 0.0000e+00 - val_accuracy: 1.0000\n",
            "Epoch 23/100\n",
            "3/3 [==============================] - 1s 365ms/step - loss: 4.4297e-27 - accuracy: 1.0000 - val_loss: 0.0000e+00 - val_accuracy: 1.0000\n",
            "Epoch 24/100\n",
            "3/3 [==============================] - 1s 376ms/step - loss: 3.8431e-27 - accuracy: 1.0000 - val_loss: 0.0000e+00 - val_accuracy: 1.0000\n",
            "Epoch 25/100\n",
            "3/3 [==============================] - 1s 338ms/step - loss: 3.7432e-27 - accuracy: 1.0000 - val_loss: 0.0000e+00 - val_accuracy: 1.0000\n",
            "Epoch 26/100\n",
            "3/3 [==============================] - 1s 369ms/step - loss: 3.4066e-27 - accuracy: 1.0000 - val_loss: 0.0000e+00 - val_accuracy: 1.0000\n",
            "Epoch 27/100\n",
            "3/3 [==============================] - 1s 340ms/step - loss: 3.2299e-27 - accuracy: 1.0000 - val_loss: 0.0000e+00 - val_accuracy: 1.0000\n",
            "Epoch 28/100\n",
            "3/3 [==============================] - 1s 353ms/step - loss: 3.0957e-27 - accuracy: 1.0000 - val_loss: 0.0000e+00 - val_accuracy: 1.0000\n",
            "Epoch 29/100\n",
            "3/3 [==============================] - 1s 355ms/step - loss: 3.0512e-27 - accuracy: 1.0000 - val_loss: 0.0000e+00 - val_accuracy: 1.0000\n",
            "Epoch 30/100\n",
            "3/3 [==============================] - 1s 366ms/step - loss: 2.9680e-27 - accuracy: 1.0000 - val_loss: 0.0000e+00 - val_accuracy: 1.0000\n",
            "Epoch 31/100\n",
            "3/3 [==============================] - 1s 364ms/step - loss: 2.9263e-27 - accuracy: 1.0000 - val_loss: 0.0000e+00 - val_accuracy: 1.0000\n",
            "Epoch 32/100\n",
            "3/3 [==============================] - 1s 354ms/step - loss: 2.8907e-27 - accuracy: 1.0000 - val_loss: 0.0000e+00 - val_accuracy: 1.0000\n",
            "Epoch 33/100\n",
            "3/3 [==============================] - 1s 358ms/step - loss: 2.8530e-27 - accuracy: 1.0000 - val_loss: 0.0000e+00 - val_accuracy: 1.0000\n",
            "Epoch 34/100\n",
            "3/3 [==============================] - 1s 361ms/step - loss: 2.8459e-27 - accuracy: 1.0000 - val_loss: 0.0000e+00 - val_accuracy: 1.0000\n",
            "Epoch 35/100\n",
            "3/3 [==============================] - 1s 364ms/step - loss: 2.8272e-27 - accuracy: 1.0000 - val_loss: 0.0000e+00 - val_accuracy: 1.0000\n",
            "Epoch 36/100\n",
            "3/3 [==============================] - 1s 356ms/step - loss: 2.8172e-27 - accuracy: 1.0000 - val_loss: 0.0000e+00 - val_accuracy: 1.0000\n",
            "Epoch 37/100\n",
            "3/3 [==============================] - 1s 349ms/step - loss: 2.8040e-27 - accuracy: 1.0000 - val_loss: 0.0000e+00 - val_accuracy: 1.0000\n",
            "Epoch 38/100\n",
            "3/3 [==============================] - 1s 349ms/step - loss: 2.7932e-27 - accuracy: 1.0000 - val_loss: 0.0000e+00 - val_accuracy: 1.0000\n",
            "Epoch 39/100\n",
            "3/3 [==============================] - 1s 358ms/step - loss: 2.7893e-27 - accuracy: 1.0000 - val_loss: 0.0000e+00 - val_accuracy: 1.0000\n",
            "Epoch 40/100\n",
            "3/3 [==============================] - 1s 346ms/step - loss: 2.7834e-27 - accuracy: 1.0000 - val_loss: 0.0000e+00 - val_accuracy: 1.0000\n",
            "Epoch 41/100\n",
            "3/3 [==============================] - 1s 351ms/step - loss: 2.7828e-27 - accuracy: 1.0000 - val_loss: 0.0000e+00 - val_accuracy: 1.0000\n",
            "Epoch 42/100\n",
            "3/3 [==============================] - 1s 364ms/step - loss: 2.7820e-27 - accuracy: 1.0000 - val_loss: 0.0000e+00 - val_accuracy: 1.0000\n",
            "Epoch 43/100\n",
            "3/3 [==============================] - 1s 356ms/step - loss: 2.7816e-27 - accuracy: 1.0000 - val_loss: 0.0000e+00 - val_accuracy: 1.0000\n",
            "Epoch 44/100\n",
            "3/3 [==============================] - 1s 344ms/step - loss: 2.7835e-27 - accuracy: 1.0000 - val_loss: 0.0000e+00 - val_accuracy: 1.0000\n",
            "Epoch 45/100\n",
            "3/3 [==============================] - 1s 336ms/step - loss: 2.7826e-27 - accuracy: 1.0000 - val_loss: 0.0000e+00 - val_accuracy: 1.0000\n",
            "Epoch 46/100\n",
            "3/3 [==============================] - 1s 330ms/step - loss: 2.7814e-27 - accuracy: 1.0000 - val_loss: 0.0000e+00 - val_accuracy: 1.0000\n",
            "Epoch 47/100\n",
            "3/3 [==============================] - 1s 346ms/step - loss: 2.7807e-27 - accuracy: 1.0000 - val_loss: 0.0000e+00 - val_accuracy: 1.0000\n",
            "Epoch 48/100\n",
            "3/3 [==============================] - 1s 599ms/step - loss: 2.7778e-27 - accuracy: 1.0000 - val_loss: 0.0000e+00 - val_accuracy: 1.0000\n",
            "Epoch 49/100\n",
            "3/3 [==============================] - 1s 337ms/step - loss: 2.7776e-27 - accuracy: 1.0000 - val_loss: 0.0000e+00 - val_accuracy: 1.0000\n",
            "Epoch 50/100\n",
            "3/3 [==============================] - 1s 351ms/step - loss: 2.7773e-27 - accuracy: 1.0000 - val_loss: 0.0000e+00 - val_accuracy: 1.0000\n",
            "Epoch 51/100\n",
            "3/3 [==============================] - 1s 371ms/step - loss: 2.7765e-27 - accuracy: 1.0000 - val_loss: 0.0000e+00 - val_accuracy: 1.0000\n",
            "Epoch 52/100\n",
            "3/3 [==============================] - 1s 359ms/step - loss: 2.7766e-27 - accuracy: 1.0000 - val_loss: 0.0000e+00 - val_accuracy: 1.0000\n",
            "Epoch 53/100\n",
            "3/3 [==============================] - 1s 335ms/step - loss: 2.7765e-27 - accuracy: 1.0000 - val_loss: 0.0000e+00 - val_accuracy: 1.0000\n",
            "Epoch 54/100\n",
            "3/3 [==============================] - 1s 349ms/step - loss: 2.7763e-27 - accuracy: 1.0000 - val_loss: 0.0000e+00 - val_accuracy: 1.0000\n",
            "Epoch 55/100\n",
            "3/3 [==============================] - 1s 359ms/step - loss: 2.7763e-27 - accuracy: 1.0000 - val_loss: 0.0000e+00 - val_accuracy: 1.0000\n",
            "Epoch 56/100\n",
            "3/3 [==============================] - 1s 345ms/step - loss: 2.7763e-27 - accuracy: 1.0000 - val_loss: 0.0000e+00 - val_accuracy: 1.0000\n",
            "Epoch 57/100\n",
            "3/3 [==============================] - 1s 350ms/step - loss: 2.7763e-27 - accuracy: 1.0000 - val_loss: 0.0000e+00 - val_accuracy: 1.0000\n",
            "Epoch 58/100\n",
            "3/3 [==============================] - 1s 349ms/step - loss: 2.7763e-27 - accuracy: 1.0000 - val_loss: 0.0000e+00 - val_accuracy: 1.0000\n",
            "Epoch 59/100\n",
            "3/3 [==============================] - 1s 370ms/step - loss: 2.7763e-27 - accuracy: 1.0000 - val_loss: 0.0000e+00 - val_accuracy: 1.0000\n",
            "Epoch 60/100\n",
            "3/3 [==============================] - 1s 342ms/step - loss: 2.7763e-27 - accuracy: 1.0000 - val_loss: 0.0000e+00 - val_accuracy: 1.0000\n",
            "Epoch 61/100\n",
            "3/3 [==============================] - 1s 335ms/step - loss: 2.7763e-27 - accuracy: 1.0000 - val_loss: 0.0000e+00 - val_accuracy: 1.0000\n",
            "Epoch 62/100\n",
            "3/3 [==============================] - 1s 348ms/step - loss: 2.7763e-27 - accuracy: 1.0000 - val_loss: 0.0000e+00 - val_accuracy: 1.0000\n",
            "Epoch 63/100\n",
            "3/3 [==============================] - 1s 365ms/step - loss: 2.7763e-27 - accuracy: 1.0000 - val_loss: 0.0000e+00 - val_accuracy: 1.0000\n",
            "Epoch 64/100\n",
            "3/3 [==============================] - 1s 354ms/step - loss: 2.7763e-27 - accuracy: 1.0000 - val_loss: 0.0000e+00 - val_accuracy: 1.0000\n",
            "Epoch 65/100\n",
            "3/3 [==============================] - 1s 367ms/step - loss: 2.7763e-27 - accuracy: 1.0000 - val_loss: 0.0000e+00 - val_accuracy: 1.0000\n",
            "Epoch 66/100\n",
            "3/3 [==============================] - 1s 356ms/step - loss: 2.7763e-27 - accuracy: 1.0000 - val_loss: 0.0000e+00 - val_accuracy: 1.0000\n",
            "Epoch 67/100\n",
            "3/3 [==============================] - 1s 341ms/step - loss: 2.7763e-27 - accuracy: 1.0000 - val_loss: 0.0000e+00 - val_accuracy: 1.0000\n",
            "Epoch 68/100\n",
            "3/3 [==============================] - 1s 345ms/step - loss: 2.7763e-27 - accuracy: 1.0000 - val_loss: 0.0000e+00 - val_accuracy: 1.0000\n",
            "Epoch 69/100\n",
            "3/3 [==============================] - 1s 365ms/step - loss: 2.7763e-27 - accuracy: 1.0000 - val_loss: 0.0000e+00 - val_accuracy: 1.0000\n",
            "Epoch 70/100\n",
            "3/3 [==============================] - 1s 373ms/step - loss: 2.7763e-27 - accuracy: 1.0000 - val_loss: 0.0000e+00 - val_accuracy: 1.0000\n",
            "Epoch 71/100\n",
            "3/3 [==============================] - 1s 338ms/step - loss: 2.7763e-27 - accuracy: 1.0000 - val_loss: 0.0000e+00 - val_accuracy: 1.0000\n",
            "Epoch 72/100\n",
            "3/3 [==============================] - 1s 340ms/step - loss: 2.7763e-27 - accuracy: 1.0000 - val_loss: 0.0000e+00 - val_accuracy: 1.0000\n",
            "Epoch 73/100\n",
            "3/3 [==============================] - 1s 361ms/step - loss: 2.7763e-27 - accuracy: 1.0000 - val_loss: 0.0000e+00 - val_accuracy: 1.0000\n",
            "Epoch 74/100\n",
            "3/3 [==============================] - 1s 363ms/step - loss: 2.7763e-27 - accuracy: 1.0000 - val_loss: 0.0000e+00 - val_accuracy: 1.0000\n",
            "Epoch 75/100\n",
            "3/3 [==============================] - 1s 349ms/step - loss: 2.7763e-27 - accuracy: 1.0000 - val_loss: 0.0000e+00 - val_accuracy: 1.0000\n",
            "Epoch 76/100\n",
            "3/3 [==============================] - 1s 361ms/step - loss: 2.7763e-27 - accuracy: 1.0000 - val_loss: 0.0000e+00 - val_accuracy: 1.0000\n",
            "Epoch 77/100\n",
            "3/3 [==============================] - 1s 341ms/step - loss: 2.7763e-27 - accuracy: 1.0000 - val_loss: 0.0000e+00 - val_accuracy: 1.0000\n",
            "Epoch 78/100\n",
            "3/3 [==============================] - 1s 350ms/step - loss: 2.7763e-27 - accuracy: 1.0000 - val_loss: 0.0000e+00 - val_accuracy: 1.0000\n",
            "Epoch 79/100\n",
            "3/3 [==============================] - 1s 334ms/step - loss: 2.7763e-27 - accuracy: 1.0000 - val_loss: 0.0000e+00 - val_accuracy: 1.0000\n",
            "Epoch 80/100\n",
            "3/3 [==============================] - 1s 363ms/step - loss: 2.7763e-27 - accuracy: 1.0000 - val_loss: 0.0000e+00 - val_accuracy: 1.0000\n",
            "Epoch 81/100\n",
            "3/3 [==============================] - 1s 342ms/step - loss: 2.7763e-27 - accuracy: 1.0000 - val_loss: 0.0000e+00 - val_accuracy: 1.0000\n",
            "Epoch 82/100\n",
            "3/3 [==============================] - 1s 363ms/step - loss: 2.7763e-27 - accuracy: 1.0000 - val_loss: 0.0000e+00 - val_accuracy: 1.0000\n",
            "Epoch 83/100\n",
            "3/3 [==============================] - 1s 364ms/step - loss: 2.7763e-27 - accuracy: 1.0000 - val_loss: 0.0000e+00 - val_accuracy: 1.0000\n",
            "Epoch 84/100\n",
            "3/3 [==============================] - 1s 360ms/step - loss: 2.7763e-27 - accuracy: 1.0000 - val_loss: 0.0000e+00 - val_accuracy: 1.0000\n",
            "Epoch 85/100\n",
            "3/3 [==============================] - 1s 375ms/step - loss: 2.7763e-27 - accuracy: 1.0000 - val_loss: 0.0000e+00 - val_accuracy: 1.0000\n",
            "Epoch 86/100\n",
            "3/3 [==============================] - 1s 359ms/step - loss: 2.7763e-27 - accuracy: 1.0000 - val_loss: 0.0000e+00 - val_accuracy: 1.0000\n",
            "Epoch 87/100\n",
            "3/3 [==============================] - 1s 367ms/step - loss: 2.7763e-27 - accuracy: 1.0000 - val_loss: 0.0000e+00 - val_accuracy: 1.0000\n",
            "Epoch 88/100\n",
            "3/3 [==============================] - 1s 356ms/step - loss: 2.7763e-27 - accuracy: 1.0000 - val_loss: 0.0000e+00 - val_accuracy: 1.0000\n",
            "Epoch 89/100\n",
            "3/3 [==============================] - 1s 362ms/step - loss: 2.7763e-27 - accuracy: 1.0000 - val_loss: 0.0000e+00 - val_accuracy: 1.0000\n",
            "Epoch 90/100\n",
            "3/3 [==============================] - 1s 346ms/step - loss: 2.7763e-27 - accuracy: 1.0000 - val_loss: 0.0000e+00 - val_accuracy: 1.0000\n",
            "Epoch 91/100\n",
            "3/3 [==============================] - 1s 587ms/step - loss: 2.7763e-27 - accuracy: 1.0000 - val_loss: 0.0000e+00 - val_accuracy: 1.0000\n",
            "Epoch 92/100\n",
            "3/3 [==============================] - 1s 342ms/step - loss: 2.7763e-27 - accuracy: 1.0000 - val_loss: 0.0000e+00 - val_accuracy: 1.0000\n",
            "Epoch 93/100\n",
            "3/3 [==============================] - 1s 332ms/step - loss: 2.7763e-27 - accuracy: 1.0000 - val_loss: 0.0000e+00 - val_accuracy: 1.0000\n",
            "Epoch 94/100\n",
            "3/3 [==============================] - 1s 332ms/step - loss: 2.7763e-27 - accuracy: 1.0000 - val_loss: 0.0000e+00 - val_accuracy: 1.0000\n",
            "Epoch 95/100\n",
            "3/3 [==============================] - 1s 351ms/step - loss: 2.7763e-27 - accuracy: 1.0000 - val_loss: 0.0000e+00 - val_accuracy: 1.0000\n",
            "Epoch 96/100\n",
            "3/3 [==============================] - 1s 339ms/step - loss: 2.7763e-27 - accuracy: 1.0000 - val_loss: 0.0000e+00 - val_accuracy: 1.0000\n",
            "Epoch 97/100\n",
            "3/3 [==============================] - 1s 346ms/step - loss: 2.7763e-27 - accuracy: 1.0000 - val_loss: 0.0000e+00 - val_accuracy: 1.0000\n",
            "Epoch 98/100\n",
            "3/3 [==============================] - 1s 344ms/step - loss: 2.7763e-27 - accuracy: 1.0000 - val_loss: 0.0000e+00 - val_accuracy: 1.0000\n",
            "Epoch 99/100\n",
            "3/3 [==============================] - 1s 355ms/step - loss: 2.7763e-27 - accuracy: 1.0000 - val_loss: 0.0000e+00 - val_accuracy: 1.0000\n",
            "Epoch 100/100\n",
            "3/3 [==============================] - 1s 373ms/step - loss: 2.7763e-27 - accuracy: 1.0000 - val_loss: 0.0000e+00 - val_accuracy: 1.0000\n"
          ]
        }
      ]
    },
    {
      "cell_type": "code",
      "source": [
        "logistic_regression_model.save('logistic.h5')\n",
        "\n",
        "logistic_weights = logistic_regression_model.get_weights()\n",
        "model_dir = \"model_dir\"\n",
        "if not os.path.exists(model_dir):\n",
        "  os.makedirs(model_dir)\n",
        "np.save(os.path.join(model_dir, 'logistic_weights'), logistic_weights)"
      ],
      "metadata": {
        "id": "sIifc6VJdLxG",
        "colab": {
          "base_uri": "https://localhost:8080/"
        },
        "outputId": "054746de-203a-4f94-883a-3ac10f2d22e1"
      },
      "execution_count": null,
      "outputs": [
        {
          "output_type": "stream",
          "name": "stderr",
          "text": [
            "/usr/local/lib/python3.8/dist-packages/numpy/lib/npyio.py:528: VisibleDeprecationWarning: Creating an ndarray from ragged nested sequences (which is a list-or-tuple of lists-or-tuples-or ndarrays with different lengths or shapes) is deprecated. If you meant to do this, you must specify 'dtype=object' when creating the ndarray.\n",
            "  arr = np.asanyarray(arr)\n"
          ]
        }
      ]
    },
    {
      "cell_type": "code",
      "source": [
        "plt.plot(r.history['loss'], label='loss')\n",
        "plt.plot(r.history['val_loss'], label='val_loss')\n",
        "plt.legend()\n",
        "plt.show()"
      ],
      "metadata": {
        "id": "Kv2URkxh35jZ",
        "colab": {
          "base_uri": "https://localhost:8080/",
          "height": 265
        },
        "outputId": "5b133569-ebf8-4433-bdf8-2969dbaacfb8"
      },
      "execution_count": null,
      "outputs": [
        {
          "output_type": "display_data",
          "data": {
            "text/plain": [
              "<Figure size 432x288 with 1 Axes>"
            ],
            "image/png": "[encoded data removed]"
          },
          "metadata": {
            "needs_background": "light"
          }
        }
      ]
    },
    {
      "cell_type": "code",
      "source": [
        "plt.plot(r.history['accuracy'], label='acc')\n",
        "plt.plot(r.history['val_accuracy'], label='val_acc')\n",
        "plt.legend()\n",
        "plt.show()"
      ],
      "metadata": {
        "id": "t8UWqs0Q4HKC",
        "colab": {
          "base_uri": "https://localhost:8080/",
          "height": 265
        },
        "outputId": "0b2d8e5c-4fd9-4276-ef98-6946e513b3e7"
      },
      "execution_count": null,
      "outputs": [
        {
          "output_type": "display_data",
          "data": {
            "text/plain": [
              "<Figure size 432x288 with 1 Axes>"
            ],
            "image/png": "[encoded data removed]"
          },
          "metadata": {
            "needs_background": "light"
          }
        }
      ]
    },
    {
      "cell_type": "code",
      "source": [
        "!unzip my_face.zip"
      ],
      "metadata": {
        "colab": {
          "base_uri": "https://localhost:8080/"
        },
        "id": "qW3Cg0xKjauI",
        "outputId": "b0c392b4-a83e-44dd-a55e-aa01281943bb"
      },
      "execution_count": null,
      "outputs": [
        {
          "output_type": "stream",
          "name": "stdout",
          "text": [
            "Archive:  my_face.zip\n",
            "  inflating: IMG_0779.JPG            \n",
            "replace __MACOSX/._IMG_0779.JPG? [y]es, [n]o, [A]ll, [N]one, [r]ename: y\n",
            "  inflating: __MACOSX/._IMG_0779.JPG  \n"
          ]
        }
      ]
    },
    {
      "cell_type": "code",
      "source": [
        "!unzip nico.zip"
      ],
      "metadata": {
        "colab": {
          "base_uri": "https://localhost:8080/"
        },
        "id": "jnz9WYAArUct",
        "outputId": "6ccc3559-a58e-4a6c-dd7e-a041f7912809"
      },
      "execution_count": null,
      "outputs": [
        {
          "output_type": "stream",
          "name": "stdout",
          "text": [
            "Archive:  nico.zip\n",
            "  inflating: msg1066058093-34991.jpg  \n",
            "  inflating: __MACOSX/._msg1066058093-34991.jpg  \n"
          ]
        }
      ]
    },
    {
      "cell_type": "code",
      "source": [
        "from PIL import Image\n",
        "import IPython\n",
        "\n",
        "my_face = Image.open('IMG_0779.JPG')\n",
        "my_face = my_face.crop((0,0,512,512))\n",
        "\n",
        "my_face = np.asarray(my_face)\n",
        "\n",
        "my_face = my_face.reshape((1,512,512,3))\n",
        "\n",
        "print(type(my_face), my_face.shape)\n",
        "#my_face = preprocess_input(my_face)\n",
        "\n",
        "features = vgg_model.predict(my_face)\n",
        "result = logistic_regression_model.predict(features)\n",
        "\n",
        "#print(result)\n",
        "print(f\"result: {result[0][0]:.4f}\")\n",
        "IPython.display.Image('IMG_0779.JPG')"
      ],
      "metadata": {
        "id": "g67Qf7LXgwFF"
      },
      "execution_count": null,
      "outputs": []
    },
    {
      "cell_type": "code",
      "source": [
        "converter = tf.lite.TFLiteConverter.from_keras_model(logistic_regression_model) \n",
        "tflite_model = converter.convert()\n",
        "\n",
        "with open(\"logistic.tflite\", \"wb\") as f:\n",
        "  f.write(tflite_model)"
      ],
      "metadata": {
        "id": "VvglRTre_GD4",
        "colab": {
          "base_uri": "https://localhost:8080/",
          "height": 407
        },
        "outputId": "c4f4124e-c550-4c17-d071-7556c84b885f"
      },
      "execution_count": null,
      "outputs": [
        {
          "output_type": "error",
          "ename": "ValueError",
          "evalue": "ignored",
          "traceback": [
            "\u001b[0;31m---------------------------------------------------------------------------\u001b[0m",
            "\u001b[0;31mValueError\u001b[0m                                Traceback (most recent call last)",
            "\u001b[0;32m<ipython-input-35-2fd0f71f8aa4>\u001b[0m in \u001b[0;36m<module>\u001b[0;34m\u001b[0m\n\u001b[1;32m      1\u001b[0m \u001b[0mconverter\u001b[0m \u001b[0;34m=\u001b[0m \u001b[0mtf\u001b[0m\u001b[0;34m.\u001b[0m\u001b[0mlite\u001b[0m\u001b[0;34m.\u001b[0m\u001b[0mTFLiteConverter\u001b[0m\u001b[0;34m.\u001b[0m\u001b[0mfrom_keras_model\u001b[0m\u001b[0;34m(\u001b[0m\u001b[0mlogistic_regression_model\u001b[0m\u001b[0;34m)\u001b[0m\u001b[0;34m\u001b[0m\u001b[0;34m\u001b[0m\u001b[0m\n\u001b[0;32m----> 2\u001b[0;31m \u001b[0mtflite_model\u001b[0m \u001b[0;34m=\u001b[0m \u001b[0mconverter\u001b[0m\u001b[0;34m.\u001b[0m\u001b[0mconvert\u001b[0m\u001b[0;34m(\u001b[0m\u001b[0;34m)\u001b[0m\u001b[0;34m\u001b[0m\u001b[0;34m\u001b[0m\u001b[0m\n\u001b[0m\u001b[1;32m      3\u001b[0m \u001b[0;34m\u001b[0m\u001b[0m\n\u001b[1;32m      4\u001b[0m \u001b[0;32mwith\u001b[0m \u001b[0mopen\u001b[0m\u001b[0;34m(\u001b[0m\u001b[0;34m\"logistic.tflite\"\u001b[0m\u001b[0;34m,\u001b[0m \u001b[0;34m\"wb\"\u001b[0m\u001b[0;34m)\u001b[0m \u001b[0;32mas\u001b[0m \u001b[0mf\u001b[0m\u001b[0;34m:\u001b[0m\u001b[0;34m\u001b[0m\u001b[0;34m\u001b[0m\u001b[0m\n\u001b[1;32m      5\u001b[0m   \u001b[0mf\u001b[0m\u001b[0;34m.\u001b[0m\u001b[0mwrite\u001b[0m\u001b[0;34m(\u001b[0m\u001b[0mtflite_model\u001b[0m\u001b[0;34m)\u001b[0m\u001b[0;34m\u001b[0m\u001b[0;34m\u001b[0m\u001b[0m\n",
            "\u001b[0;32m/usr/local/lib/python3.8/dist-packages/tensorflow/lite/python/lite.py\u001b[0m in \u001b[0;36mwrapper\u001b[0;34m(self, *args, **kwargs)\u001b[0m\n\u001b[1;32m    927\u001b[0m   \u001b[0;32mdef\u001b[0m \u001b[0mwrapper\u001b[0m\u001b[0;34m(\u001b[0m\u001b[0mself\u001b[0m\u001b[0;34m,\u001b[0m \u001b[0;34m*\u001b[0m\u001b[0margs\u001b[0m\u001b[0;34m,\u001b[0m \u001b[0;34m**\u001b[0m\u001b[0mkwargs\u001b[0m\u001b[0;34m)\u001b[0m\u001b[0;34m:\u001b[0m\u001b[0;34m\u001b[0m\u001b[0;34m\u001b[0m\u001b[0m\n\u001b[1;32m    928\u001b[0m     \u001b[0;31m# pylint: disable=protected-access\u001b[0m\u001b[0;34m\u001b[0m\u001b[0;34m\u001b[0m\u001b[0;34m\u001b[0m\u001b[0m\n\u001b[0;32m--> 929\u001b[0;31m     \u001b[0;32mreturn\u001b[0m \u001b[0mself\u001b[0m\u001b[0;34m.\u001b[0m\u001b[0m_convert_and_export_metrics\u001b[0m\u001b[0;34m(\u001b[0m\u001b[0mconvert_func\u001b[0m\u001b[0;34m,\u001b[0m \u001b[0;34m*\u001b[0m\u001b[0margs\u001b[0m\u001b[0;34m,\u001b[0m \u001b[0;34m**\u001b[0m\u001b[0mkwargs\u001b[0m\u001b[0;34m)\u001b[0m\u001b[0;34m\u001b[0m\u001b[0;34m\u001b[0m\u001b[0m\n\u001b[0m\u001b[1;32m    930\u001b[0m     \u001b[0;31m# pylint: enable=protected-access\u001b[0m\u001b[0;34m\u001b[0m\u001b[0;34m\u001b[0m\u001b[0;34m\u001b[0m\u001b[0m\n\u001b[1;32m    931\u001b[0m \u001b[0;34m\u001b[0m\u001b[0m\n",
            "\u001b[0;32m/usr/local/lib/python3.8/dist-packages/tensorflow/lite/python/lite.py\u001b[0m in \u001b[0;36m_convert_and_export_metrics\u001b[0;34m(self, convert_func, *args, **kwargs)\u001b[0m\n\u001b[1;32m    906\u001b[0m     \u001b[0mself\u001b[0m\u001b[0;34m.\u001b[0m\u001b[0m_save_conversion_params_metric\u001b[0m\u001b[0;34m(\u001b[0m\u001b[0;34m)\u001b[0m\u001b[0;34m\u001b[0m\u001b[0;34m\u001b[0m\u001b[0m\n\u001b[1;32m    907\u001b[0m     \u001b[0mstart_time\u001b[0m \u001b[0;34m=\u001b[0m \u001b[0mtime\u001b[0m\u001b[0;34m.\u001b[0m\u001b[0mprocess_time\u001b[0m\u001b[0;34m(\u001b[0m\u001b[0;34m)\u001b[0m\u001b[0;34m\u001b[0m\u001b[0;34m\u001b[0m\u001b[0m\n\u001b[0;32m--> 908\u001b[0;31m     \u001b[0mresult\u001b[0m \u001b[0;34m=\u001b[0m \u001b[0mconvert_func\u001b[0m\u001b[0;34m(\u001b[0m\u001b[0mself\u001b[0m\u001b[0;34m,\u001b[0m \u001b[0;34m*\u001b[0m\u001b[0margs\u001b[0m\u001b[0;34m,\u001b[0m \u001b[0;34m**\u001b[0m\u001b[0mkwargs\u001b[0m\u001b[0;34m)\u001b[0m\u001b[0;34m\u001b[0m\u001b[0;34m\u001b[0m\u001b[0m\n\u001b[0m\u001b[1;32m    909\u001b[0m     \u001b[0melapsed_time_ms\u001b[0m \u001b[0;34m=\u001b[0m \u001b[0;34m(\u001b[0m\u001b[0mtime\u001b[0m\u001b[0;34m.\u001b[0m\u001b[0mprocess_time\u001b[0m\u001b[0;34m(\u001b[0m\u001b[0;34m)\u001b[0m \u001b[0;34m-\u001b[0m \u001b[0mstart_time\u001b[0m\u001b[0;34m)\u001b[0m \u001b[0;34m*\u001b[0m \u001b[0;36m1000\u001b[0m\u001b[0;34m\u001b[0m\u001b[0;34m\u001b[0m\u001b[0m\n\u001b[1;32m    910\u001b[0m     \u001b[0;32mif\u001b[0m \u001b[0mresult\u001b[0m\u001b[0;34m:\u001b[0m\u001b[0;34m\u001b[0m\u001b[0;34m\u001b[0m\u001b[0m\n",
            "\u001b[0;32m/usr/local/lib/python3.8/dist-packages/tensorflow/lite/python/lite.py\u001b[0m in \u001b[0;36mconvert\u001b[0;34m(self)\u001b[0m\n\u001b[1;32m   1341\u001b[0m \u001b[0;34m\u001b[0m\u001b[0m\n\u001b[1;32m   1342\u001b[0m     graph_def, input_tensors, output_tensors, frozen_func = (\n\u001b[0;32m-> 1343\u001b[0;31m         self._freeze_keras_model())\n\u001b[0m\u001b[1;32m   1344\u001b[0m \u001b[0;34m\u001b[0m\u001b[0m\n\u001b[1;32m   1345\u001b[0m     graph_def = self._optimize_tf_model(graph_def, input_tensors,\n",
            "\u001b[0;32m/usr/local/lib/python3.8/dist-packages/tensorflow/lite/python/convert_phase.py\u001b[0m in \u001b[0;36mwrapper\u001b[0;34m(*args, **kwargs)\u001b[0m\n\u001b[1;32m    213\u001b[0m       \u001b[0;32mexcept\u001b[0m \u001b[0mException\u001b[0m \u001b[0;32mas\u001b[0m \u001b[0merror\u001b[0m\u001b[0;34m:\u001b[0m\u001b[0;34m\u001b[0m\u001b[0;34m\u001b[0m\u001b[0m\n\u001b[1;32m    214\u001b[0m         \u001b[0mreport_error_message\u001b[0m\u001b[0;34m(\u001b[0m\u001b[0mstr\u001b[0m\u001b[0;34m(\u001b[0m\u001b[0merror\u001b[0m\u001b[0;34m)\u001b[0m\u001b[0;34m)\u001b[0m\u001b[0;34m\u001b[0m\u001b[0;34m\u001b[0m\u001b[0m\n\u001b[0;32m--> 215\u001b[0;31m         \u001b[0;32mraise\u001b[0m \u001b[0merror\u001b[0m \u001b[0;32mfrom\u001b[0m \u001b[0;32mNone\u001b[0m  \u001b[0;31m# Re-throws the exception.\u001b[0m\u001b[0;34m\u001b[0m\u001b[0;34m\u001b[0m\u001b[0m\n\u001b[0m\u001b[1;32m    216\u001b[0m \u001b[0;34m\u001b[0m\u001b[0m\n\u001b[1;32m    217\u001b[0m     \u001b[0;32mreturn\u001b[0m \u001b[0mwrapper\u001b[0m\u001b[0;34m\u001b[0m\u001b[0;34m\u001b[0m\u001b[0m\n",
            "\u001b[0;32m/usr/local/lib/python3.8/dist-packages/tensorflow/lite/python/convert_phase.py\u001b[0m in \u001b[0;36mwrapper\u001b[0;34m(*args, **kwargs)\u001b[0m\n\u001b[1;32m    203\u001b[0m     \u001b[0;32mdef\u001b[0m \u001b[0mwrapper\u001b[0m\u001b[0;34m(\u001b[0m\u001b[0;34m*\u001b[0m\u001b[0margs\u001b[0m\u001b[0;34m,\u001b[0m \u001b[0;34m**\u001b[0m\u001b[0mkwargs\u001b[0m\u001b[0;34m)\u001b[0m\u001b[0;34m:\u001b[0m\u001b[0;34m\u001b[0m\u001b[0;34m\u001b[0m\u001b[0m\n\u001b[1;32m    204\u001b[0m       \u001b[0;32mtry\u001b[0m\u001b[0;34m:\u001b[0m\u001b[0;34m\u001b[0m\u001b[0;34m\u001b[0m\u001b[0m\n\u001b[0;32m--> 205\u001b[0;31m         \u001b[0;32mreturn\u001b[0m \u001b[0mfunc\u001b[0m\u001b[0;34m(\u001b[0m\u001b[0;34m*\u001b[0m\u001b[0margs\u001b[0m\u001b[0;34m,\u001b[0m \u001b[0;34m**\u001b[0m\u001b[0mkwargs\u001b[0m\u001b[0;34m)\u001b[0m\u001b[0;34m\u001b[0m\u001b[0;34m\u001b[0m\u001b[0m\n\u001b[0m\u001b[1;32m    206\u001b[0m       \u001b[0;32mexcept\u001b[0m \u001b[0mConverterError\u001b[0m \u001b[0;32mas\u001b[0m \u001b[0mconverter_error\u001b[0m\u001b[0;34m:\u001b[0m\u001b[0;34m\u001b[0m\u001b[0;34m\u001b[0m\u001b[0m\n\u001b[1;32m    207\u001b[0m         \u001b[0;32mif\u001b[0m \u001b[0mconverter_error\u001b[0m\u001b[0;34m.\u001b[0m\u001b[0merrors\u001b[0m\u001b[0;34m:\u001b[0m\u001b[0;34m\u001b[0m\u001b[0;34m\u001b[0m\u001b[0m\n",
            "\u001b[0;32m/usr/local/lib/python3.8/dist-packages/tensorflow/lite/python/lite.py\u001b[0m in \u001b[0;36m_freeze_keras_model\u001b[0;34m(self)\u001b[0m\n\u001b[1;32m   1297\u001b[0m \u001b[0;34m\u001b[0m\u001b[0m\n\u001b[1;32m   1298\u001b[0m     frozen_func, graph_def = (\n\u001b[0;32m-> 1299\u001b[0;31m         _convert_to_constants.convert_variables_to_constants_v2_as_graph(\n\u001b[0m\u001b[1;32m   1300\u001b[0m             self._funcs[0], lower_control_flow=False))\n\u001b[1;32m   1301\u001b[0m \u001b[0;34m\u001b[0m\u001b[0m\n",
            "\u001b[0;32m/usr/local/lib/python3.8/dist-packages/tensorflow/python/framework/convert_to_constants.py\u001b[0m in \u001b[0;36mconvert_variables_to_constants_v2_as_graph\u001b[0;34m(func, lower_control_flow, aggressive_inlining)\u001b[0m\n\u001b[1;32m   1222\u001b[0m     \u001b[0mtransformations\u001b[0m \u001b[0;32min\u001b[0m \u001b[0mthe\u001b[0m \u001b[0mfrozen\u001b[0m \u001b[0mphase\u001b[0m\u001b[0;34m.\u001b[0m\u001b[0;34m\u001b[0m\u001b[0;34m\u001b[0m\u001b[0m\n\u001b[1;32m   1223\u001b[0m   \"\"\"\n\u001b[0;32m-> 1224\u001b[0;31m   converter_data = _FunctionConverterDataInEager(\n\u001b[0m\u001b[1;32m   1225\u001b[0m       \u001b[0mfunc\u001b[0m\u001b[0;34m=\u001b[0m\u001b[0mfunc\u001b[0m\u001b[0;34m,\u001b[0m\u001b[0;34m\u001b[0m\u001b[0;34m\u001b[0m\u001b[0m\n\u001b[1;32m   1226\u001b[0m       \u001b[0mlower_control_flow\u001b[0m\u001b[0;34m=\u001b[0m\u001b[0mlower_control_flow\u001b[0m\u001b[0;34m,\u001b[0m\u001b[0;34m\u001b[0m\u001b[0;34m\u001b[0m\u001b[0m\n",
            "\u001b[0;32m/usr/local/lib/python3.8/dist-packages/tensorflow/python/framework/convert_to_constants.py\u001b[0m in \u001b[0;36m__init__\u001b[0;34m(self, func, lower_control_flow, aggressive_inlining, variable_names_allowlist, variable_names_denylist)\u001b[0m\n\u001b[1;32m    811\u001b[0m         variable_names_denylist=variable_names_denylist)\n\u001b[1;32m    812\u001b[0m \u001b[0;34m\u001b[0m\u001b[0m\n\u001b[0;32m--> 813\u001b[0;31m     \u001b[0mself\u001b[0m\u001b[0;34m.\u001b[0m\u001b[0m_build_tensor_data\u001b[0m\u001b[0;34m(\u001b[0m\u001b[0;34m)\u001b[0m\u001b[0;34m\u001b[0m\u001b[0;34m\u001b[0m\u001b[0m\n\u001b[0m\u001b[1;32m    814\u001b[0m \u001b[0;34m\u001b[0m\u001b[0m\n\u001b[1;32m    815\u001b[0m   \u001b[0;32mdef\u001b[0m \u001b[0m_eval\u001b[0m\u001b[0;34m(\u001b[0m\u001b[0mself\u001b[0m\u001b[0;34m,\u001b[0m \u001b[0mtensor\u001b[0m\u001b[0;34m)\u001b[0m\u001b[0;34m:\u001b[0m\u001b[0;34m\u001b[0m\u001b[0;34m\u001b[0m\u001b[0m\n",
            "\u001b[0;32m/usr/local/lib/python3.8/dist-packages/tensorflow/python/framework/convert_to_constants.py\u001b[0m in \u001b[0;36m_build_tensor_data\u001b[0;34m(self)\u001b[0m\n\u001b[1;32m    823\u001b[0m     \u001b[0;32mfor\u001b[0m \u001b[0mvar\u001b[0m \u001b[0;32min\u001b[0m \u001b[0mself\u001b[0m\u001b[0;34m.\u001b[0m\u001b[0m_func\u001b[0m\u001b[0;34m.\u001b[0m\u001b[0mgraph\u001b[0m\u001b[0;34m.\u001b[0m\u001b[0mvariables\u001b[0m\u001b[0;34m:\u001b[0m\u001b[0;34m\u001b[0m\u001b[0;34m\u001b[0m\u001b[0m\n\u001b[1;32m    824\u001b[0m       \u001b[0;32mfor\u001b[0m \u001b[0midx\u001b[0m\u001b[0;34m,\u001b[0m \u001b[0mcaptured_input\u001b[0m \u001b[0;32min\u001b[0m \u001b[0menumerate\u001b[0m\u001b[0;34m(\u001b[0m\u001b[0mself\u001b[0m\u001b[0;34m.\u001b[0m\u001b[0m_func\u001b[0m\u001b[0;34m.\u001b[0m\u001b[0mcaptured_inputs\u001b[0m\u001b[0;34m)\u001b[0m\u001b[0;34m:\u001b[0m\u001b[0;34m\u001b[0m\u001b[0;34m\u001b[0m\u001b[0m\n\u001b[0;32m--> 825\u001b[0;31m         \u001b[0;32mif\u001b[0m \u001b[0mvar\u001b[0m\u001b[0;34m.\u001b[0m\u001b[0mhandle\u001b[0m \u001b[0;32mis\u001b[0m \u001b[0mcaptured_input\u001b[0m\u001b[0;34m:\u001b[0m  \u001b[0;31m# pylint: disable=protected-access\u001b[0m\u001b[0;34m\u001b[0m\u001b[0;34m\u001b[0m\u001b[0m\n\u001b[0m\u001b[1;32m    826\u001b[0m           \u001b[0mmap_index_to_variable\u001b[0m\u001b[0;34m[\u001b[0m\u001b[0midx\u001b[0m\u001b[0;34m]\u001b[0m \u001b[0;34m=\u001b[0m \u001b[0mvar\u001b[0m\u001b[0;34m\u001b[0m\u001b[0;34m\u001b[0m\u001b[0m\n\u001b[1;32m    827\u001b[0m           \u001b[0;32mbreak\u001b[0m\u001b[0;34m\u001b[0m\u001b[0;34m\u001b[0m\u001b[0m\n",
            "\u001b[0;32m/usr/local/lib/python3.8/dist-packages/tensorflow/python/distribute/packed_distributed_variable.py\u001b[0m in \u001b[0;36mhandle\u001b[0;34m(self)\u001b[0m\n\u001b[1;32m    101\u001b[0m   \u001b[0;32mdef\u001b[0m \u001b[0mhandle\u001b[0m\u001b[0;34m(\u001b[0m\u001b[0mself\u001b[0m\u001b[0;34m)\u001b[0m\u001b[0;34m:\u001b[0m\u001b[0;34m\u001b[0m\u001b[0;34m\u001b[0m\u001b[0m\n\u001b[1;32m    102\u001b[0m     \u001b[0;32mif\u001b[0m \u001b[0mcontext\u001b[0m\u001b[0;34m.\u001b[0m\u001b[0mexecuting_eagerly\u001b[0m\u001b[0;34m(\u001b[0m\u001b[0;34m)\u001b[0m\u001b[0;34m:\u001b[0m\u001b[0;34m\u001b[0m\u001b[0;34m\u001b[0m\u001b[0m\n\u001b[0;32m--> 103\u001b[0;31m       \u001b[0;32mreturn\u001b[0m \u001b[0mself\u001b[0m\u001b[0;34m.\u001b[0m\u001b[0mget_var_on_current_device\u001b[0m\u001b[0;34m(\u001b[0m\u001b[0;34m)\u001b[0m\u001b[0;34m.\u001b[0m\u001b[0mhandle\u001b[0m\u001b[0;34m\u001b[0m\u001b[0;34m\u001b[0m\u001b[0m\n\u001b[0m\u001b[1;32m    104\u001b[0m     \u001b[0;32melse\u001b[0m\u001b[0;34m:\u001b[0m\u001b[0;34m\u001b[0m\u001b[0;34m\u001b[0m\u001b[0m\n\u001b[1;32m    105\u001b[0m       \u001b[0;32mreturn\u001b[0m \u001b[0mself\u001b[0m\u001b[0;34m.\u001b[0m\u001b[0m_handle\u001b[0m\u001b[0;34m\u001b[0m\u001b[0;34m\u001b[0m\u001b[0m\n",
            "\u001b[0;32m/usr/local/lib/python3.8/dist-packages/tensorflow/python/distribute/packed_distributed_variable.py\u001b[0m in \u001b[0;36mget_var_on_current_device\u001b[0;34m(self)\u001b[0m\n\u001b[1;32m     92\u001b[0m   \u001b[0;32mdef\u001b[0m \u001b[0mget_var_on_current_device\u001b[0m\u001b[0;34m(\u001b[0m\u001b[0mself\u001b[0m\u001b[0;34m)\u001b[0m\u001b[0;34m:\u001b[0m\u001b[0;34m\u001b[0m\u001b[0;34m\u001b[0m\u001b[0m\n\u001b[1;32m     93\u001b[0m     \u001b[0mcurrent_device\u001b[0m \u001b[0;34m=\u001b[0m \u001b[0mdevice_util\u001b[0m\u001b[0;34m.\u001b[0m\u001b[0mcanonicalize\u001b[0m\u001b[0;34m(\u001b[0m\u001b[0mdevice_util\u001b[0m\u001b[0;34m.\u001b[0m\u001b[0mcurrent\u001b[0m\u001b[0;34m(\u001b[0m\u001b[0;34m)\u001b[0m\u001b[0;34m)\u001b[0m\u001b[0;34m\u001b[0m\u001b[0;34m\u001b[0m\u001b[0m\n\u001b[0;32m---> 94\u001b[0;31m     \u001b[0;32mreturn\u001b[0m \u001b[0mself\u001b[0m\u001b[0;34m.\u001b[0m\u001b[0mget_var_on_device\u001b[0m\u001b[0;34m(\u001b[0m\u001b[0mcurrent_device\u001b[0m\u001b[0;34m)\u001b[0m\u001b[0;34m\u001b[0m\u001b[0;34m\u001b[0m\u001b[0m\n\u001b[0m\u001b[1;32m     95\u001b[0m \u001b[0;34m\u001b[0m\u001b[0m\n\u001b[1;32m     96\u001b[0m   \u001b[0;32mdef\u001b[0m \u001b[0minitial_value\u001b[0m\u001b[0;34m(\u001b[0m\u001b[0mself\u001b[0m\u001b[0;34m,\u001b[0m \u001b[0mdevice\u001b[0m\u001b[0;34m)\u001b[0m\u001b[0;34m:\u001b[0m\u001b[0;34m\u001b[0m\u001b[0;34m\u001b[0m\u001b[0m\n",
            "\u001b[0;32m/usr/local/lib/python3.8/dist-packages/tensorflow/python/distribute/packed_distributed_variable.py\u001b[0m in \u001b[0;36mget_var_on_device\u001b[0;34m(self, device)\u001b[0m\n\u001b[1;32m     88\u001b[0m       \u001b[0;32mif\u001b[0m \u001b[0md\u001b[0m \u001b[0;34m==\u001b[0m \u001b[0mdevice\u001b[0m\u001b[0;34m:\u001b[0m\u001b[0;34m\u001b[0m\u001b[0;34m\u001b[0m\u001b[0m\n\u001b[1;32m     89\u001b[0m         \u001b[0;32mreturn\u001b[0m \u001b[0mself\u001b[0m\u001b[0;34m.\u001b[0m\u001b[0m_distributed_variables\u001b[0m\u001b[0;34m[\u001b[0m\u001b[0mi\u001b[0m\u001b[0;34m]\u001b[0m\u001b[0;34m\u001b[0m\u001b[0;34m\u001b[0m\u001b[0m\n\u001b[0;32m---> 90\u001b[0;31m     \u001b[0;32mraise\u001b[0m \u001b[0mValueError\u001b[0m\u001b[0;34m(\u001b[0m\u001b[0;34m\"Device %s is not found\"\u001b[0m \u001b[0;34m%\u001b[0m \u001b[0mdevice\u001b[0m\u001b[0;34m)\u001b[0m\u001b[0;34m\u001b[0m\u001b[0;34m\u001b[0m\u001b[0m\n\u001b[0m\u001b[1;32m     91\u001b[0m \u001b[0;34m\u001b[0m\u001b[0m\n\u001b[1;32m     92\u001b[0m   \u001b[0;32mdef\u001b[0m \u001b[0mget_var_on_current_device\u001b[0m\u001b[0;34m(\u001b[0m\u001b[0mself\u001b[0m\u001b[0;34m)\u001b[0m\u001b[0;34m:\u001b[0m\u001b[0;34m\u001b[0m\u001b[0;34m\u001b[0m\u001b[0m\n",
            "\u001b[0;31mValueError\u001b[0m: Device /job:worker/replica:0/task:0/device:CPU:0 is not found"
          ]
        }
      ]
    }
  ]
}